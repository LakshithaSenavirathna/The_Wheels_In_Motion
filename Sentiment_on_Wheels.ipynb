{
 "cells": [
  {
   "cell_type": "markdown",
   "metadata": {
    "id": "G_nHKNSdQ_9W"
   },
   "source": [
    "Import necessary libraries."
   ]
  },
  {
   "cell_type": "code",
   "execution_count": 1,
   "metadata": {
    "id": "yzms5YdEQWXQ"
   },
   "outputs": [],
   "source": [
    "import pandas as pd\n",
    "from transformers import pipeline\n",
    "import matplotlib.pyplot as plt\n",
    "import seaborn as sns\n"
   ]
  },
  {
   "cell_type": "markdown",
   "metadata": {
    "id": "otFPpeRSRH15"
   },
   "source": [
    "Load the car review Dataset."
   ]
  },
  {
   "cell_type": "code",
   "execution_count": 2,
   "metadata": {
    "colab": {
     "base_uri": "https://localhost:8080/"
    },
    "id": "6WncLJryQ4mR",
    "outputId": "1fbf0d8e-f623-4c2b-f0e7-a355c3fb7925"
   },
   "outputs": [
    {
     "name": "stdout",
     "output_type": "stream",
     "text": [
      "                                              Review\n",
      "0  Bought 2017 Optima Hybrid in November 17. It w...\n",
      "1   You get a lot for your money and great perfor...\n",
      "2   This car is amazing and have no complaints. Y...\n",
      "3  At 11k now in a lease for 39 months and it onl...\n",
      "4  I've owned BMW, Lexus, Mercedes-Benz in the la...\n"
     ]
    }
   ],
   "source": [
    "# Load the customer reviews dataset\n",
    "reviews = pd.read_csv('car_reviews.csv')\n",
    "print(reviews.head())"
   ]
  },
  {
   "cell_type": "markdown",
   "metadata": {
    "id": "6A3kyNOpQ-59"
   },
   "source": [
    "Classify Reviews into Categories"
   ]
  },
  {
   "cell_type": "code",
   "execution_count": null,
   "metadata": {
    "id": "hGFaTF6gSwmu"
   },
   "outputs": [],
   "source": [
    "# Initialize the zero-shot classification pipeline\n",
    "zero_shot_classifier = pipeline(\"zero-shot-classification\", model=\"facebook/bart-large-mnli\")\n",
    "\n",
    "# Define candidate labels\n",
    "candidate_labels = [\"driving experience\", \"features\",\n",
    "                    \"value for money\", \"issues\", \"other\"]\n",
    "\n",
    "# Classify each review\n",
    "reviews['talks_about'] = reviews['Review'].apply(lambda x: zero_shot_classifier(x, candidate_labels)['labels'][0])"
   ]
  },
  {
   "cell_type": "markdown",
   "metadata": {
    "id": "c-9PElBNX9sm"
   },
   "source": [
    "Perform Sentiment Analysis"
   ]
  },
  {
   "cell_type": "code",
   "execution_count": null,
   "metadata": {
    "id": "PcIrYRm0S3_N"
   },
   "outputs": [],
   "source": [
    "# Initialize the sentiment analysis pipeline\n",
    "sentiment_analyzer = pipeline(\"sentiment-analysis\", model=\"distilbert-base-uncased-finetuned-sst-2-english\")\n",
    "\n",
    "# Analyze sentiment for each review\n",
    "reviews['sentiment'] = reviews['Review'].apply(lambda x: sentiment_analyzer(x)[0]['label'])"
   ]
  },
  {
   "cell_type": "markdown",
   "metadata": {
    "id": "avKW55JBYMGi"
   },
   "source": [
    "Visualize Sentiment Distribution"
   ]
  },
  {
   "cell_type": "code",
   "execution_count": null,
   "metadata": {
    "id": "Z2-EKbHUYstW"
   },
   "outputs": [],
   "source": [
    "# Visualize the sentiment distribution\n",
    "plt.figure(figsize=(8, 5))\n",
    "sns.countplot(data=reviews, x='sentiment', palette='viridis')\n",
    "plt.title('Sentiment Distribution of Reviews')\n",
    "plt.xlabel('Sentiment')\n",
    "plt.ylabel('Count')\n",
    "plt.show()"
   ]
  },
  {
   "cell_type": "markdown",
   "metadata": {
    "id": "mj23e_CLYzsr"
   },
   "source": [
    "  Visualize Review Category Distribution"
   ]
  },
  {
   "cell_type": "code",
   "execution_count": null,
   "metadata": {
    "id": "q9WuLm6bY3gM"
   },
   "outputs": [],
   "source": [
    "# Visualize the distribution of review categories\n",
    "plt.figure(figsize=(10, 6))\n",
    "sns.countplot(data=reviews, x='talks_about', palette='plasma')\n",
    "plt.title('Distribution of Review Categories')\n",
    "plt.xlabel('Review Category')\n",
    "plt.ylabel('Count')\n",
    "plt.xticks(rotation=45)\n",
    "plt.show()"
   ]
  },
  {
   "cell_type": "markdown",
   "metadata": {
    "id": "TIkEWdx4Y-d8"
   },
   "source": [
    "Save Updated Dataset\n"
   ]
  },
  {
   "cell_type": "code",
   "execution_count": null,
   "metadata": {
    "id": "36S2ni4GZCBv"
   },
   "outputs": [],
   "source": [
    "# Save the updated dataset with predictions to a new CSV file\n",
    "reviews.to_csv('updated_car_reviews.csv', index=False)"
   ]
  }
 ],
 "metadata": {
  "colab": {
   "provenance": []
  },
  "kernelspec": {
   "display_name": "Python 3",
   "name": "python3"
  },
  "language_info": {
   "name": "python"
  }
 },
 "nbformat": 4,
 "nbformat_minor": 0
}
