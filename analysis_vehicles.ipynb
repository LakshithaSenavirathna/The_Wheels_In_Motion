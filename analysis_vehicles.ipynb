{
 "cells": [
  {
   "cell_type": "code",
   "execution_count": 416,
   "metadata": {},
   "outputs": [],
   "source": [
    "import pandas as pd\n",
    "import os\n",
    "import seaborn as sns\n",
    "import matplotlib.pyplot as plt\n",
    "from scipy.stats import zscore\n",
    "from sklearn.impute import SimpleImputer\n",
    "\n"
   ]
  },
  {
   "cell_type": "code",
   "execution_count": 417,
   "metadata": {},
   "outputs": [],
   "source": [
    "folder_path = './PassengerVehicle_Stats'\n",
    "dfs = []\n",
    "files = [f for f in os.listdir(folder_path) if f.endswith('.csv')]\n",
    "\n",
    "for file in files:\n",
    "    file_path = os.path.join(folder_path, file)\n",
    "    df1 = pd.read_csv(file_path)\n",
    "    dfs.append(df1)\n",
    "\n",
    "# Combine all CSV files into one DataFrame\n",
    "combine_df = pd.concat(dfs, ignore_index=True)\n",
    "combine_df.to_csv('./vehicles_df.csv', index=False)\n",
    "\n",
    "# Load the combined dataset\n",
    "df = pd.read_csv('vehicles_df.csv')\n"
   ]
  }
 ],
 "metadata": {
  "kernelspec": {
   "display_name": "base",
   "language": "python",
   "name": "python3"
  },
  "language_info": {
   "codemirror_mode": {
    "name": "ipython",
    "version": 3
   },
   "file_extension": ".py",
   "mimetype": "text/x-python",
   "name": "python",
   "nbconvert_exporter": "python",
   "pygments_lexer": "ipython3",
   "version": "3.12.7"
  }
 },
 "nbformat": 4,
 "nbformat_minor": 2
}
