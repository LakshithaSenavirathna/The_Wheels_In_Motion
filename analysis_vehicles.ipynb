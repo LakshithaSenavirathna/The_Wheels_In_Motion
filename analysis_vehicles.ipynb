{
 "cells": [
  {
   "cell_type": "code",
   "execution_count": 75,
   "metadata": {},
   "outputs": [],
   "source": [
    "import pandas as pd \n",
    "import os"
   ]
  },
  {
   "cell_type": "code",
   "execution_count": 76,
   "metadata": {},
   "outputs": [],
   "source": [
    "folder_path= './PassengerVehicle_Stats'\n",
    "dfs=[]\n",
    "files= [f for f in os.listdir(folder_path) if f.endswith('.csv')]\n",
    "\n",
    "for file in files:\n",
    "    file_path = os.path.join(folder_path,file)\n",
    "    df1 = pd.read_csv(file_path)\n",
    "    dfs.append(df1)\n",
    "\n",
    "combine_df = pd.concat(dfs, ignore_index=True)\n",
    "combine_df.to_csv('./vehicles_df.csv', index= False)"
   ]
  },
  {
   "cell_type": "code",
   "execution_count": 77,
   "metadata": {},
   "outputs": [
    {
     "data": {
      "text/plain": [
       "Unnamed: 0                                0\n",
       "Public Vehicle Number                     0\n",
       "Status                                    0\n",
       "Vehicle Make                           7668\n",
       "Vehicle Model                          7852\n",
       "Vehicle Model Year                     7768\n",
       "Vehicle Color                          7944\n",
       "Vehicle Fuel Source                       0\n",
       "Wheelchair Accessible                     0\n",
       "Company Name                              0\n",
       "Address                                7144\n",
       "City                                   7144\n",
       "State                                  7144\n",
       "ZIP Code                               7144\n",
       "Taxi Affiliation                      37016\n",
       "Taxi Medallion License Management     37124\n",
       "Record ID                                 0\n",
       "dtype: int64"
      ]
     },
     "execution_count": 77,
     "metadata": {},
     "output_type": "execute_result"
    }
   ],
   "source": [
    "df = pd.read_csv('vehicles_df.csv')\n",
    "df.isna().sum()"
   ]
  },
  {
   "cell_type": "code",
   "execution_count": 78,
   "metadata": {},
   "outputs": [
    {
     "name": "stdout",
     "output_type": "stream",
     "text": [
      "<class 'pandas.core.frame.DataFrame'>\n",
      "RangeIndex: 66408 entries, 0 to 66407\n",
      "Data columns (total 17 columns):\n",
      " #   Column                              Non-Null Count  Dtype  \n",
      "---  ------                              --------------  -----  \n",
      " 0   Unnamed: 0                          66408 non-null  int64  \n",
      " 1   Public Vehicle Number               66408 non-null  int64  \n",
      " 2   Status                              66408 non-null  object \n",
      " 3   Vehicle Make                        58740 non-null  object \n",
      " 4   Vehicle Model                       58556 non-null  object \n",
      " 5   Vehicle Model Year                  58640 non-null  float64\n",
      " 6   Vehicle Color                       58464 non-null  object \n",
      " 7   Vehicle Fuel Source                 66408 non-null  object \n",
      " 8   Wheelchair Accessible               66408 non-null  object \n",
      " 9   Company Name                        66408 non-null  object \n",
      " 10  Address                             59264 non-null  object \n",
      " 11  City                                59264 non-null  object \n",
      " 12  State                               59264 non-null  object \n",
      " 13  ZIP Code                            59264 non-null  float64\n",
      " 14  Taxi Affiliation                    29392 non-null  object \n",
      " 15  Taxi Medallion License Management   29284 non-null  object \n",
      " 16  Record ID                           66408 non-null  object \n",
      "dtypes: float64(2), int64(2), object(13)\n",
      "memory usage: 8.6+ MB\n",
      "None\n"
     ]
    }
   ],
   "source": [
    "print(df.info())"
   ]
  },
  {
   "cell_type": "code",
   "execution_count": 79,
   "metadata": {},
   "outputs": [
    {
     "name": "stdout",
     "output_type": "stream",
     "text": [
      "   Unnamed: 0  Public Vehicle Number     Status Vehicle Make   Vehicle Model  \\\n",
      "0          56                   4595  VIOLATION        DODGE         CARAVAN   \n",
      "1         129                   4540  VIOLATION        DODGE   GRAND CARAVAN   \n",
      "2         148                   1759  VIOLATION        DODGE         CARAVAN   \n",
      "3         248                   6897    REVOKED        DODGE   GRAND CARAVAN   \n",
      "4         252                   5774  VIOLATION         FORD  CROWN VICTORIA   \n",
      "\n",
      "   Vehicle Model Year Vehicle Color Vehicle Fuel Source Wheelchair Accessible  \\\n",
      "0              2017.0         WHITE           Flex Fuel                     N   \n",
      "1              2017.0         WHITE           Flex Fuel                     Y   \n",
      "2              2013.0         WHITE           Flex Fuel                     N   \n",
      "3              2013.0         WHITE           Flex Fuel                     N   \n",
      "4              2011.0         WHITE           Flex Fuel                     N   \n",
      "\n",
      "       Company Name                 Address     City State  ZIP Code  \\\n",
      "0     AMC CAB CORP.  3800 N. MILWAUKEE AVE.  CHICAGO    IL   60641.0   \n",
      "1   ELSTON FOUR LLC  3800 N. MILWAUKEE AVE.  CHICAGO    IL   60641.0   \n",
      "2         1759 INC.   2601 W. PETERSON AVE.  CHICAGO    IL   60659.0   \n",
      "3  SHAZIF CAB CORP.     9696 W. FOSTER AVE.  CHICAGO    IL   60656.0   \n",
      "4   THOMAS A. ZUMMO   1756 W. CULLERTON ST.  CHICAGO    IL   60608.0   \n",
      "\n",
      "  Taxi Affiliation Taxi Medallion License Management  Record ID  \n",
      "0   DIS-AFFILIATED                      Owner Manager  4595Taxi  \n",
      "1   DIS-AFFILIATED                      Owner Manager  4540Taxi  \n",
      "2   DIS-AFFILIATED                      Owner Manager  1759Taxi  \n",
      "3   DIS-AFFILIATED                      Owner Manager  6897Taxi  \n",
      "4   DIS-AFFILIATED                      Owner Manager  5774Taxi  \n"
     ]
    }
   ],
   "source": [
    "print(df.head())"
   ]
  },
  {
   "cell_type": "code",
   "execution_count": 80,
   "metadata": {},
   "outputs": [
    {
     "name": "stdout",
     "output_type": "stream",
     "text": [
      "         Unnamed: 0  Public Vehicle Number  Vehicle Model Year      ZIP Code\n",
      "count  66408.000000           6.640800e+04        58640.000000  59264.000000\n",
      "mean    8300.500000           3.854566e+04         2012.669714  60612.519573\n",
      "std     4792.620661           1.372915e+05           83.620667    104.288240\n",
      "min        0.000000           0.000000e+00            0.000000  60004.000000\n",
      "25%     4150.000000           3.633000e+03         2013.000000  60619.000000\n",
      "50%     8300.500000           6.991500e+03         2016.000000  60631.000000\n",
      "75%    12451.000000           1.684100e+04         2021.000000  60646.000000\n",
      "max    16601.000000           6.902206e+06         2025.000000  61111.000000\n"
     ]
    }
   ],
   "source": [
    "print(df.describe())"
   ]
  },
  {
   "cell_type": "code",
   "execution_count": 81,
   "metadata": {},
   "outputs": [],
   "source": [
    "df_cleaned = df.drop_duplicates(subset= 'Record ID', keep='first')"
   ]
  },
  {
   "cell_type": "code",
   "execution_count": 82,
   "metadata": {},
   "outputs": [
    {
     "data": {
      "text/plain": [
       "Unnamed: 0                               0\n",
       "Public Vehicle Number                    0\n",
       "Status                                   0\n",
       "Vehicle Make                          1816\n",
       "Vehicle Model                         1859\n",
       "Vehicle Model Year                    1841\n",
       "Vehicle Color                         1883\n",
       "Vehicle Fuel Source                      0\n",
       "Wheelchair Accessible                    0\n",
       "Company Name                             0\n",
       "Address                               1694\n",
       "City                                  1694\n",
       "State                                 1694\n",
       "ZIP Code                              1694\n",
       "Taxi Affiliation                      8710\n",
       "Taxi Medallion License Management     8736\n",
       "Record ID                                0\n",
       "dtype: int64"
      ]
     },
     "execution_count": 82,
     "metadata": {},
     "output_type": "execute_result"
    }
   ],
   "source": [
    "df_cleaned.isna().sum()"
   ]
  },
  {
   "cell_type": "code",
   "execution_count": 83,
   "metadata": {},
   "outputs": [
    {
     "name": "stdout",
     "output_type": "stream",
     "text": [
      "Unnamed: 0                               0\n",
      "Public Vehicle Number                    0\n",
      "Status                                   0\n",
      "Vehicle Make                           128\n",
      "Vehicle Model                          171\n",
      "Vehicle Model Year                     153\n",
      "Vehicle Color                          195\n",
      "Vehicle Fuel Source                      0\n",
      "Wheelchair Accessible                    0\n",
      "Company Name                             0\n",
      "Address                                  6\n",
      "City                                     6\n",
      "State                                    6\n",
      "ZIP Code                                 6\n",
      "Taxi Affiliation                      7022\n",
      "Taxi Medallion License Management     7048\n",
      "Record ID                                0\n",
      "dtype: int64\n"
     ]
    }
   ],
   "source": [
    "columnCheck = ['Vehicle Make', 'Vehicle Model', 'Vehicle Model Year', 'Vehicle Color', 'Address','City', 'State', 'ZIP Code']\n",
    "\n",
    "dfCleaned = df_cleaned.dropna(subset=columnCheck, how='all')\n",
    "\n",
    "print(dfCleaned.isnull().sum())"
   ]
  },
  {
   "cell_type": "markdown",
   "metadata": {},
   "source": [
    "Remove records with a vehicle model year earlier than 1900, as no vehicles were manufactured before that year."
   ]
  },
  {
   "cell_type": "code",
   "execution_count": 84,
   "metadata": {},
   "outputs": [],
   "source": [
    "dfFltered = dfCleaned[dfCleaned['Vehicle Model Year']>=1900]"
   ]
  },
  {
   "cell_type": "code",
   "execution_count": 85,
   "metadata": {},
   "outputs": [
    {
     "data": {
      "text/plain": [
       "(13803, 17)"
      ]
     },
     "execution_count": 85,
     "metadata": {},
     "output_type": "execute_result"
    }
   ],
   "source": [
    "dfFltered.isna().sum()\n",
    "dfFltered.shape"
   ]
  },
  {
   "cell_type": "code",
   "execution_count": 86,
   "metadata": {},
   "outputs": [
    {
     "name": "stderr",
     "output_type": "stream",
     "text": [
      "/tmp/ipykernel_6001/267990826.py:1: FutureWarning: Setting an item of incompatible dtype is deprecated and will raise an error in a future version of pandas. Value 'unknown' has dtype incompatible with float64, please explicitly cast to a compatible dtype first.\n",
      "  dfFltered.fillna(\"unknown\", inplace=True)\n",
      "/tmp/ipykernel_6001/267990826.py:1: SettingWithCopyWarning: \n",
      "A value is trying to be set on a copy of a slice from a DataFrame\n",
      "\n",
      "See the caveats in the documentation: https://pandas.pydata.org/pandas-docs/stable/user_guide/indexing.html#returning-a-view-versus-a-copy\n",
      "  dfFltered.fillna(\"unknown\", inplace=True)\n"
     ]
    }
   ],
   "source": [
    "dfFltered.fillna(\"unknown\", inplace=True)"
   ]
  },
  {
   "cell_type": "code",
   "execution_count": 87,
   "metadata": {},
   "outputs": [
    {
     "name": "stderr",
     "output_type": "stream",
     "text": [
      "/tmp/ipykernel_6001/3445207472.py:2: SettingWithCopyWarning: \n",
      "A value is trying to be set on a copy of a slice from a DataFrame.\n",
      "Try using .loc[row_indexer,col_indexer] = value instead\n",
      "\n",
      "See the caveats in the documentation: https://pandas.pydata.org/pandas-docs/stable/user_guide/indexing.html#returning-a-view-versus-a-copy\n",
      "  dfFltered['Vehicle Type'] = dfFltered['Record ID'].str.extract(r'(\\D+)$')[0]\n"
     ]
    }
   ],
   "source": [
    "# add new column name vehical type\n",
    "dfFltered['Vehicle Type'] = dfFltered['Record ID'].str.extract(r'(\\D+)$')[0]"
   ]
  },
  {
   "cell_type": "code",
   "execution_count": 88,
   "metadata": {},
   "outputs": [
    {
     "data": {
      "text/html": [
       "<div>\n",
       "<style scoped>\n",
       "    .dataframe tbody tr th:only-of-type {\n",
       "        vertical-align: middle;\n",
       "    }\n",
       "\n",
       "    .dataframe tbody tr th {\n",
       "        vertical-align: top;\n",
       "    }\n",
       "\n",
       "    .dataframe thead th {\n",
       "        text-align: right;\n",
       "    }\n",
       "</style>\n",
       "<table border=\"1\" class=\"dataframe\">\n",
       "  <thead>\n",
       "    <tr style=\"text-align: right;\">\n",
       "      <th></th>\n",
       "      <th>Unnamed: 0</th>\n",
       "      <th>Public Vehicle Number</th>\n",
       "      <th>Status</th>\n",
       "      <th>Vehicle Make</th>\n",
       "      <th>Vehicle Model</th>\n",
       "      <th>Vehicle Model Year</th>\n",
       "      <th>Vehicle Color</th>\n",
       "      <th>Vehicle Fuel Source</th>\n",
       "      <th>Wheelchair Accessible</th>\n",
       "      <th>Company Name</th>\n",
       "      <th>Address</th>\n",
       "      <th>City</th>\n",
       "      <th>State</th>\n",
       "      <th>ZIP Code</th>\n",
       "      <th>Taxi Affiliation</th>\n",
       "      <th>Taxi Medallion License Management</th>\n",
       "      <th>Record ID</th>\n",
       "      <th>Vehicle Type</th>\n",
       "    </tr>\n",
       "  </thead>\n",
       "  <tbody>\n",
       "    <tr>\n",
       "      <th>0</th>\n",
       "      <td>56</td>\n",
       "      <td>4595</td>\n",
       "      <td>VIOLATION</td>\n",
       "      <td>DODGE</td>\n",
       "      <td>CARAVAN</td>\n",
       "      <td>2017.0</td>\n",
       "      <td>WHITE</td>\n",
       "      <td>Flex Fuel</td>\n",
       "      <td>N</td>\n",
       "      <td>AMC CAB CORP.</td>\n",
       "      <td>3800 N. MILWAUKEE AVE.</td>\n",
       "      <td>CHICAGO</td>\n",
       "      <td>IL</td>\n",
       "      <td>60641.0</td>\n",
       "      <td>DIS-AFFILIATED</td>\n",
       "      <td>Owner Manager</td>\n",
       "      <td>4595Taxi</td>\n",
       "      <td>Taxi</td>\n",
       "    </tr>\n",
       "    <tr>\n",
       "      <th>1</th>\n",
       "      <td>129</td>\n",
       "      <td>4540</td>\n",
       "      <td>VIOLATION</td>\n",
       "      <td>DODGE</td>\n",
       "      <td>GRAND CARAVAN</td>\n",
       "      <td>2017.0</td>\n",
       "      <td>WHITE</td>\n",
       "      <td>Flex Fuel</td>\n",
       "      <td>Y</td>\n",
       "      <td>ELSTON FOUR LLC</td>\n",
       "      <td>3800 N. MILWAUKEE AVE.</td>\n",
       "      <td>CHICAGO</td>\n",
       "      <td>IL</td>\n",
       "      <td>60641.0</td>\n",
       "      <td>DIS-AFFILIATED</td>\n",
       "      <td>Owner Manager</td>\n",
       "      <td>4540Taxi</td>\n",
       "      <td>Taxi</td>\n",
       "    </tr>\n",
       "    <tr>\n",
       "      <th>2</th>\n",
       "      <td>148</td>\n",
       "      <td>1759</td>\n",
       "      <td>VIOLATION</td>\n",
       "      <td>DODGE</td>\n",
       "      <td>CARAVAN</td>\n",
       "      <td>2013.0</td>\n",
       "      <td>WHITE</td>\n",
       "      <td>Flex Fuel</td>\n",
       "      <td>N</td>\n",
       "      <td>1759 INC.</td>\n",
       "      <td>2601 W. PETERSON AVE.</td>\n",
       "      <td>CHICAGO</td>\n",
       "      <td>IL</td>\n",
       "      <td>60659.0</td>\n",
       "      <td>DIS-AFFILIATED</td>\n",
       "      <td>Owner Manager</td>\n",
       "      <td>1759Taxi</td>\n",
       "      <td>Taxi</td>\n",
       "    </tr>\n",
       "    <tr>\n",
       "      <th>3</th>\n",
       "      <td>248</td>\n",
       "      <td>6897</td>\n",
       "      <td>REVOKED</td>\n",
       "      <td>DODGE</td>\n",
       "      <td>GRAND CARAVAN</td>\n",
       "      <td>2013.0</td>\n",
       "      <td>WHITE</td>\n",
       "      <td>Flex Fuel</td>\n",
       "      <td>N</td>\n",
       "      <td>SHAZIF CAB CORP.</td>\n",
       "      <td>9696 W. FOSTER AVE.</td>\n",
       "      <td>CHICAGO</td>\n",
       "      <td>IL</td>\n",
       "      <td>60656.0</td>\n",
       "      <td>DIS-AFFILIATED</td>\n",
       "      <td>Owner Manager</td>\n",
       "      <td>6897Taxi</td>\n",
       "      <td>Taxi</td>\n",
       "    </tr>\n",
       "    <tr>\n",
       "      <th>4</th>\n",
       "      <td>252</td>\n",
       "      <td>5774</td>\n",
       "      <td>VIOLATION</td>\n",
       "      <td>FORD</td>\n",
       "      <td>CROWN VICTORIA</td>\n",
       "      <td>2011.0</td>\n",
       "      <td>WHITE</td>\n",
       "      <td>Flex Fuel</td>\n",
       "      <td>N</td>\n",
       "      <td>THOMAS A. ZUMMO</td>\n",
       "      <td>1756 W. CULLERTON ST.</td>\n",
       "      <td>CHICAGO</td>\n",
       "      <td>IL</td>\n",
       "      <td>60608.0</td>\n",
       "      <td>DIS-AFFILIATED</td>\n",
       "      <td>Owner Manager</td>\n",
       "      <td>5774Taxi</td>\n",
       "      <td>Taxi</td>\n",
       "    </tr>\n",
       "  </tbody>\n",
       "</table>\n",
       "</div>"
      ],
      "text/plain": [
       "   Unnamed: 0  Public Vehicle Number     Status Vehicle Make   Vehicle Model  \\\n",
       "0          56                   4595  VIOLATION        DODGE         CARAVAN   \n",
       "1         129                   4540  VIOLATION        DODGE   GRAND CARAVAN   \n",
       "2         148                   1759  VIOLATION        DODGE         CARAVAN   \n",
       "3         248                   6897    REVOKED        DODGE   GRAND CARAVAN   \n",
       "4         252                   5774  VIOLATION         FORD  CROWN VICTORIA   \n",
       "\n",
       "   Vehicle Model Year Vehicle Color Vehicle Fuel Source Wheelchair Accessible  \\\n",
       "0              2017.0         WHITE           Flex Fuel                     N   \n",
       "1              2017.0         WHITE           Flex Fuel                     Y   \n",
       "2              2013.0         WHITE           Flex Fuel                     N   \n",
       "3              2013.0         WHITE           Flex Fuel                     N   \n",
       "4              2011.0         WHITE           Flex Fuel                     N   \n",
       "\n",
       "       Company Name                 Address     City State ZIP Code  \\\n",
       "0     AMC CAB CORP.  3800 N. MILWAUKEE AVE.  CHICAGO    IL  60641.0   \n",
       "1   ELSTON FOUR LLC  3800 N. MILWAUKEE AVE.  CHICAGO    IL  60641.0   \n",
       "2         1759 INC.   2601 W. PETERSON AVE.  CHICAGO    IL  60659.0   \n",
       "3  SHAZIF CAB CORP.     9696 W. FOSTER AVE.  CHICAGO    IL  60656.0   \n",
       "4   THOMAS A. ZUMMO   1756 W. CULLERTON ST.  CHICAGO    IL  60608.0   \n",
       "\n",
       "  Taxi Affiliation Taxi Medallion License Management  Record ID Vehicle Type  \n",
       "0   DIS-AFFILIATED                      Owner Manager  4595Taxi         Taxi  \n",
       "1   DIS-AFFILIATED                      Owner Manager  4540Taxi         Taxi  \n",
       "2   DIS-AFFILIATED                      Owner Manager  1759Taxi         Taxi  \n",
       "3   DIS-AFFILIATED                      Owner Manager  6897Taxi         Taxi  \n",
       "4   DIS-AFFILIATED                      Owner Manager  5774Taxi         Taxi  "
      ]
     },
     "execution_count": 88,
     "metadata": {},
     "output_type": "execute_result"
    }
   ],
   "source": [
    "dfFltered.head()"
   ]
  },
  {
   "cell_type": "code",
   "execution_count": 89,
   "metadata": {},
   "outputs": [],
   "source": [
    "# Drop the columns “Address” and “Public Vehicle Number”.\n",
    "df_v1 = dfFltered.drop(columns=['Address', 'Public Vehicle Number'])\n"
   ]
  },
  {
   "cell_type": "code",
   "execution_count": 90,
   "metadata": {},
   "outputs": [
    {
     "data": {
      "text/html": [
       "<div>\n",
       "<style scoped>\n",
       "    .dataframe tbody tr th:only-of-type {\n",
       "        vertical-align: middle;\n",
       "    }\n",
       "\n",
       "    .dataframe tbody tr th {\n",
       "        vertical-align: top;\n",
       "    }\n",
       "\n",
       "    .dataframe thead th {\n",
       "        text-align: right;\n",
       "    }\n",
       "</style>\n",
       "<table border=\"1\" class=\"dataframe\">\n",
       "  <thead>\n",
       "    <tr style=\"text-align: right;\">\n",
       "      <th></th>\n",
       "      <th>Unnamed: 0</th>\n",
       "      <th>Status</th>\n",
       "      <th>Vehicle Make</th>\n",
       "      <th>Vehicle Model</th>\n",
       "      <th>Vehicle Model Year</th>\n",
       "      <th>Vehicle Color</th>\n",
       "      <th>Vehicle Fuel Source</th>\n",
       "      <th>Wheelchair Accessible</th>\n",
       "      <th>Company Name</th>\n",
       "      <th>City</th>\n",
       "      <th>State</th>\n",
       "      <th>ZIP Code</th>\n",
       "      <th>Taxi Affiliation</th>\n",
       "      <th>Taxi Medallion License Management</th>\n",
       "      <th>Record ID</th>\n",
       "      <th>Vehicle Type</th>\n",
       "    </tr>\n",
       "  </thead>\n",
       "  <tbody>\n",
       "    <tr>\n",
       "      <th>0</th>\n",
       "      <td>56</td>\n",
       "      <td>VIOLATION</td>\n",
       "      <td>DODGE</td>\n",
       "      <td>CARAVAN</td>\n",
       "      <td>2017.0</td>\n",
       "      <td>WHITE</td>\n",
       "      <td>Flex Fuel</td>\n",
       "      <td>N</td>\n",
       "      <td>AMC CAB CORP.</td>\n",
       "      <td>CHICAGO</td>\n",
       "      <td>IL</td>\n",
       "      <td>60641.0</td>\n",
       "      <td>DIS-AFFILIATED</td>\n",
       "      <td>Owner Manager</td>\n",
       "      <td>4595Taxi</td>\n",
       "      <td>Taxi</td>\n",
       "    </tr>\n",
       "    <tr>\n",
       "      <th>1</th>\n",
       "      <td>129</td>\n",
       "      <td>VIOLATION</td>\n",
       "      <td>DODGE</td>\n",
       "      <td>GRAND CARAVAN</td>\n",
       "      <td>2017.0</td>\n",
       "      <td>WHITE</td>\n",
       "      <td>Flex Fuel</td>\n",
       "      <td>Y</td>\n",
       "      <td>ELSTON FOUR LLC</td>\n",
       "      <td>CHICAGO</td>\n",
       "      <td>IL</td>\n",
       "      <td>60641.0</td>\n",
       "      <td>DIS-AFFILIATED</td>\n",
       "      <td>Owner Manager</td>\n",
       "      <td>4540Taxi</td>\n",
       "      <td>Taxi</td>\n",
       "    </tr>\n",
       "    <tr>\n",
       "      <th>2</th>\n",
       "      <td>148</td>\n",
       "      <td>VIOLATION</td>\n",
       "      <td>DODGE</td>\n",
       "      <td>CARAVAN</td>\n",
       "      <td>2013.0</td>\n",
       "      <td>WHITE</td>\n",
       "      <td>Flex Fuel</td>\n",
       "      <td>N</td>\n",
       "      <td>1759 INC.</td>\n",
       "      <td>CHICAGO</td>\n",
       "      <td>IL</td>\n",
       "      <td>60659.0</td>\n",
       "      <td>DIS-AFFILIATED</td>\n",
       "      <td>Owner Manager</td>\n",
       "      <td>1759Taxi</td>\n",
       "      <td>Taxi</td>\n",
       "    </tr>\n",
       "    <tr>\n",
       "      <th>3</th>\n",
       "      <td>248</td>\n",
       "      <td>REVOKED</td>\n",
       "      <td>DODGE</td>\n",
       "      <td>GRAND CARAVAN</td>\n",
       "      <td>2013.0</td>\n",
       "      <td>WHITE</td>\n",
       "      <td>Flex Fuel</td>\n",
       "      <td>N</td>\n",
       "      <td>SHAZIF CAB CORP.</td>\n",
       "      <td>CHICAGO</td>\n",
       "      <td>IL</td>\n",
       "      <td>60656.0</td>\n",
       "      <td>DIS-AFFILIATED</td>\n",
       "      <td>Owner Manager</td>\n",
       "      <td>6897Taxi</td>\n",
       "      <td>Taxi</td>\n",
       "    </tr>\n",
       "    <tr>\n",
       "      <th>4</th>\n",
       "      <td>252</td>\n",
       "      <td>VIOLATION</td>\n",
       "      <td>FORD</td>\n",
       "      <td>CROWN VICTORIA</td>\n",
       "      <td>2011.0</td>\n",
       "      <td>WHITE</td>\n",
       "      <td>Flex Fuel</td>\n",
       "      <td>N</td>\n",
       "      <td>THOMAS A. ZUMMO</td>\n",
       "      <td>CHICAGO</td>\n",
       "      <td>IL</td>\n",
       "      <td>60608.0</td>\n",
       "      <td>DIS-AFFILIATED</td>\n",
       "      <td>Owner Manager</td>\n",
       "      <td>5774Taxi</td>\n",
       "      <td>Taxi</td>\n",
       "    </tr>\n",
       "  </tbody>\n",
       "</table>\n",
       "</div>"
      ],
      "text/plain": [
       "   Unnamed: 0     Status Vehicle Make   Vehicle Model  Vehicle Model Year  \\\n",
       "0          56  VIOLATION        DODGE         CARAVAN              2017.0   \n",
       "1         129  VIOLATION        DODGE   GRAND CARAVAN              2017.0   \n",
       "2         148  VIOLATION        DODGE         CARAVAN              2013.0   \n",
       "3         248    REVOKED        DODGE   GRAND CARAVAN              2013.0   \n",
       "4         252  VIOLATION         FORD  CROWN VICTORIA              2011.0   \n",
       "\n",
       "  Vehicle Color Vehicle Fuel Source Wheelchair Accessible      Company Name  \\\n",
       "0         WHITE           Flex Fuel                     N     AMC CAB CORP.   \n",
       "1         WHITE           Flex Fuel                     Y   ELSTON FOUR LLC   \n",
       "2         WHITE           Flex Fuel                     N         1759 INC.   \n",
       "3         WHITE           Flex Fuel                     N  SHAZIF CAB CORP.   \n",
       "4         WHITE           Flex Fuel                     N   THOMAS A. ZUMMO   \n",
       "\n",
       "      City State ZIP Code Taxi Affiliation Taxi Medallion License Management   \\\n",
       "0  CHICAGO    IL  60641.0   DIS-AFFILIATED                      Owner Manager   \n",
       "1  CHICAGO    IL  60641.0   DIS-AFFILIATED                      Owner Manager   \n",
       "2  CHICAGO    IL  60659.0   DIS-AFFILIATED                      Owner Manager   \n",
       "3  CHICAGO    IL  60656.0   DIS-AFFILIATED                      Owner Manager   \n",
       "4  CHICAGO    IL  60608.0   DIS-AFFILIATED                      Owner Manager   \n",
       "\n",
       "  Record ID Vehicle Type  \n",
       "0  4595Taxi         Taxi  \n",
       "1  4540Taxi         Taxi  \n",
       "2  1759Taxi         Taxi  \n",
       "3  6897Taxi         Taxi  \n",
       "4  5774Taxi         Taxi  "
      ]
     },
     "execution_count": 90,
     "metadata": {},
     "output_type": "execute_result"
    }
   ],
   "source": [
    "df_v1.head()"
   ]
  }
 ],
 "metadata": {
  "kernelspec": {
   "display_name": ".venv",
   "language": "python",
   "name": "python3"
  },
  "language_info": {
   "codemirror_mode": {
    "name": "ipython",
    "version": 3
   },
   "file_extension": ".py",
   "mimetype": "text/x-python",
   "name": "python",
   "nbconvert_exporter": "python",
   "pygments_lexer": "ipython3",
   "version": "3.12.3"
  }
 },
 "nbformat": 4,
 "nbformat_minor": 2
}
