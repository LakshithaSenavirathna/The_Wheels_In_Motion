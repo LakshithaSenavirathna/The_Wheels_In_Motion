{
 "cells": [
  {
   "cell_type": "code",
   "execution_count": 88,
   "metadata": {},
   "outputs": [],
   "source": [
    "import pandas as pd \n",
    "import numpy as np\n",
    "import re\n",
    "import os\n"
   ]
  },
  {
   "cell_type": "markdown",
   "metadata": {},
   "source": [
    "folder_path= './PassengerVehicle_Stats'\n",
    "dfs=[]\n",
    "files= [f for f in os.listdir(folder_path) if f.endswith('.csv')]\n",
    "\n",
    "for file in files:\n",
    "    file_path = os.path.join(folder_path,file)\n",
    "    df1 = pd.read_csv(file_path)\n",
    "    dfs.append(df1)\n",
    "\n",
    "combine_df = pd.concat(dfs, ignore_index=True)\n",
    "combine_df.to_csv('./vehicles_df.csv', index= False)"
   ]
  },
  {
   "cell_type": "code",
   "execution_count": 89,
   "metadata": {},
   "outputs": [
    {
     "data": {
      "text/plain": [
       "Unnamed: 0                                0\n",
       "Public Vehicle Number                     0\n",
       "Status                                    0\n",
       "Vehicle Make                           7668\n",
       "Vehicle Model                          7852\n",
       "Vehicle Model Year                     7768\n",
       "Vehicle Color                          7944\n",
       "Vehicle Fuel Source                       0\n",
       "Wheelchair Accessible                     0\n",
       "Company Name                              0\n",
       "Address                                7144\n",
       "City                                   7144\n",
       "State                                  7144\n",
       "ZIP Code                               7144\n",
       "Taxi Affiliation                      37016\n",
       "Taxi Medallion License Management     37124\n",
       "Record ID                                 0\n",
       "dtype: int64"
      ]
     },
     "execution_count": 89,
     "metadata": {},
     "output_type": "execute_result"
    }
   ],
   "source": [
    "df = pd.read_csv('vehicles_df.csv')\n",
    "df.isna().sum()"
   ]
  },
  {
   "cell_type": "code",
   "execution_count": 90,
   "metadata": {},
   "outputs": [
    {
     "name": "stdout",
     "output_type": "stream",
     "text": [
      "<class 'pandas.core.frame.DataFrame'>\n",
      "RangeIndex: 66408 entries, 0 to 66407\n",
      "Data columns (total 17 columns):\n",
      " #   Column                              Non-Null Count  Dtype  \n",
      "---  ------                              --------------  -----  \n",
      " 0   Unnamed: 0                          66408 non-null  int64  \n",
      " 1   Public Vehicle Number               66408 non-null  int64  \n",
      " 2   Status                              66408 non-null  object \n",
      " 3   Vehicle Make                        58740 non-null  object \n",
      " 4   Vehicle Model                       58556 non-null  object \n",
      " 5   Vehicle Model Year                  58640 non-null  float64\n",
      " 6   Vehicle Color                       58464 non-null  object \n",
      " 7   Vehicle Fuel Source                 66408 non-null  object \n",
      " 8   Wheelchair Accessible               66408 non-null  object \n",
      " 9   Company Name                        66408 non-null  object \n",
      " 10  Address                             59264 non-null  object \n",
      " 11  City                                59264 non-null  object \n",
      " 12  State                               59264 non-null  object \n",
      " 13  ZIP Code                            59264 non-null  float64\n",
      " 14  Taxi Affiliation                    29392 non-null  object \n",
      " 15  Taxi Medallion License Management   29284 non-null  object \n",
      " 16  Record ID                           66408 non-null  object \n",
      "dtypes: float64(2), int64(2), object(13)\n",
      "memory usage: 8.6+ MB\n"
     ]
    }
   ],
   "source": [
    "df.info()"
   ]
  },
  {
   "cell_type": "code",
   "execution_count": 91,
   "metadata": {},
   "outputs": [
    {
     "data": {
      "text/plain": [
       "2496"
      ]
     },
     "execution_count": 91,
     "metadata": {},
     "output_type": "execute_result"
    }
   ],
   "source": [
    "(df['Wheelchair Accessible']=='Y').sum()"
   ]
  },
  {
   "cell_type": "code",
   "execution_count": 92,
   "metadata": {},
   "outputs": [],
   "source": [
    "df.drop('Unnamed: 0',axis=1,inplace=True)"
   ]
  },
  {
   "cell_type": "code",
   "execution_count": 93,
   "metadata": {},
   "outputs": [
    {
     "data": {
      "text/plain": [
       "66408"
      ]
     },
     "execution_count": 93,
     "metadata": {},
     "output_type": "execute_result"
    }
   ],
   "source": [
    "(df['Vehicle Model Year'].apply(lambda x: isinstance(x,float))).sum()"
   ]
  },
  {
   "cell_type": "code",
   "execution_count": 94,
   "metadata": {},
   "outputs": [
    {
     "data": {
      "text/plain": [
       "array([2014., 2010., 2008., 2015., 2012., 2016., 2011., 2017., 2009.,\n",
       "       2013., 2024., 2005., 2001., 2002., 2000., 1993., 2007., 1998.,\n",
       "       2006., 1997., 1988., 1990., 2004., 1999., 1986., 1992., 2021.,\n",
       "       2020., 2023., 2018., 2019., 2022.,   nan, 2003., 2025., 1996.,\n",
       "       1984., 1994., 1981., 1995., 1991., 1989., 1983., 1987., 1985.,\n",
       "          7., 1980., 1196.,    0.])"
      ]
     },
     "execution_count": 94,
     "metadata": {},
     "output_type": "execute_result"
    }
   ],
   "source": [
    "df['Vehicle Model Year'].unique()"
   ]
  },
  {
   "cell_type": "code",
   "execution_count": 95,
   "metadata": {},
   "outputs": [],
   "source": [
    "\n",
    "values_replace = [7.,0.]\n",
    "df['Vehicle Model Year']=df['Vehicle Model Year'].replace(values_replace,np.nan)\n"
   ]
  },
  {
   "cell_type": "code",
   "execution_count": 96,
   "metadata": {},
   "outputs": [],
   "source": [
    "df['Vehicle Model Year']=df['Vehicle Model Year'].fillna(0)"
   ]
  },
  {
   "cell_type": "code",
   "execution_count": 97,
   "metadata": {},
   "outputs": [],
   "source": [
    "df['Vehicle Model Year']=df['Vehicle Model Year'].astype(int)"
   ]
  },
  {
   "cell_type": "code",
   "execution_count": 98,
   "metadata": {},
   "outputs": [
    {
     "data": {
      "text/html": [
       "<div>\n",
       "<style scoped>\n",
       "    .dataframe tbody tr th:only-of-type {\n",
       "        vertical-align: middle;\n",
       "    }\n",
       "\n",
       "    .dataframe tbody tr th {\n",
       "        vertical-align: top;\n",
       "    }\n",
       "\n",
       "    .dataframe thead th {\n",
       "        text-align: right;\n",
       "    }\n",
       "</style>\n",
       "<table border=\"1\" class=\"dataframe\">\n",
       "  <thead>\n",
       "    <tr style=\"text-align: right;\">\n",
       "      <th></th>\n",
       "      <th>Public Vehicle Number</th>\n",
       "      <th>Status</th>\n",
       "      <th>Vehicle Make</th>\n",
       "      <th>Vehicle Model</th>\n",
       "      <th>Vehicle Model Year</th>\n",
       "      <th>Vehicle Color</th>\n",
       "      <th>Vehicle Fuel Source</th>\n",
       "      <th>Wheelchair Accessible</th>\n",
       "      <th>Company Name</th>\n",
       "      <th>Address</th>\n",
       "      <th>City</th>\n",
       "      <th>State</th>\n",
       "      <th>ZIP Code</th>\n",
       "      <th>Taxi Affiliation</th>\n",
       "      <th>Taxi Medallion License Management</th>\n",
       "      <th>Record ID</th>\n",
       "    </tr>\n",
       "  </thead>\n",
       "  <tbody>\n",
       "    <tr>\n",
       "      <th>66403</th>\n",
       "      <td>42</td>\n",
       "      <td>ACTIVE</td>\n",
       "      <td>PRECISION</td>\n",
       "      <td>6 SEATER</td>\n",
       "      <td>2020</td>\n",
       "      <td>FUSCIA</td>\n",
       "      <td>Pedal</td>\n",
       "      <td>N</td>\n",
       "      <td>JBL PEDICAB MANAGEMENT LLC</td>\n",
       "      <td>1627 N. TRIPP AVE.</td>\n",
       "      <td>CHICAGO</td>\n",
       "      <td>IL</td>\n",
       "      <td>60639.0</td>\n",
       "      <td>NaN</td>\n",
       "      <td>NaN</td>\n",
       "      <td>42Pedicab</td>\n",
       "    </tr>\n",
       "    <tr>\n",
       "      <th>66404</th>\n",
       "      <td>52</td>\n",
       "      <td>ACTIVE</td>\n",
       "      <td>SCHWINN</td>\n",
       "      <td>NONE</td>\n",
       "      <td>2014</td>\n",
       "      <td>GREEN</td>\n",
       "      <td>Pedal</td>\n",
       "      <td>N</td>\n",
       "      <td>BM PEDICAB INC.</td>\n",
       "      <td>4450 N. KEDZIE AVE.</td>\n",
       "      <td>CHICAGO</td>\n",
       "      <td>IL</td>\n",
       "      <td>60625.0</td>\n",
       "      <td>NaN</td>\n",
       "      <td>NaN</td>\n",
       "      <td>52Pedicab</td>\n",
       "    </tr>\n",
       "    <tr>\n",
       "      <th>66405</th>\n",
       "      <td>70</td>\n",
       "      <td>VIOLATION</td>\n",
       "      <td>MAINSTREET</td>\n",
       "      <td>CLASSIC</td>\n",
       "      <td>0</td>\n",
       "      <td>RED/BLACK</td>\n",
       "      <td>Pedal</td>\n",
       "      <td>N</td>\n",
       "      <td>EMPIRE PEDICAB LLC</td>\n",
       "      <td>318 W. ADAMS ST.</td>\n",
       "      <td>CHICAGO</td>\n",
       "      <td>IL</td>\n",
       "      <td>60606.0</td>\n",
       "      <td>NaN</td>\n",
       "      <td>NaN</td>\n",
       "      <td>70Pedicab</td>\n",
       "    </tr>\n",
       "    <tr>\n",
       "      <th>66406</th>\n",
       "      <td>57</td>\n",
       "      <td>VIOLATION</td>\n",
       "      <td>MAINSTREET</td>\n",
       "      <td>BOARDWALK</td>\n",
       "      <td>2011</td>\n",
       "      <td>RED</td>\n",
       "      <td>Pedal</td>\n",
       "      <td>N</td>\n",
       "      <td>CARGILL C KELLY II</td>\n",
       "      <td>2428 W. 24TH PL.</td>\n",
       "      <td>CHICAGO</td>\n",
       "      <td>IL</td>\n",
       "      <td>60608.0</td>\n",
       "      <td>NaN</td>\n",
       "      <td>NaN</td>\n",
       "      <td>57Pedicab</td>\n",
       "    </tr>\n",
       "    <tr>\n",
       "      <th>66407</th>\n",
       "      <td>117</td>\n",
       "      <td>ACTIVE</td>\n",
       "      <td>SCHWINN</td>\n",
       "      <td>NONE</td>\n",
       "      <td>2014</td>\n",
       "      <td>GREEN</td>\n",
       "      <td>Pedal</td>\n",
       "      <td>N</td>\n",
       "      <td>BM PEDICAB INC.</td>\n",
       "      <td>4450 N. KEDZIE AVE.</td>\n",
       "      <td>CHICAGO</td>\n",
       "      <td>IL</td>\n",
       "      <td>60625.0</td>\n",
       "      <td>NaN</td>\n",
       "      <td>NaN</td>\n",
       "      <td>117Pedicab</td>\n",
       "    </tr>\n",
       "  </tbody>\n",
       "</table>\n",
       "</div>"
      ],
      "text/plain": [
       "       Public Vehicle Number     Status Vehicle Make Vehicle Model  \\\n",
       "66403                     42     ACTIVE    PRECISION      6 SEATER   \n",
       "66404                     52     ACTIVE      SCHWINN          NONE   \n",
       "66405                     70  VIOLATION   MAINSTREET       CLASSIC   \n",
       "66406                     57  VIOLATION   MAINSTREET     BOARDWALK   \n",
       "66407                    117     ACTIVE      SCHWINN          NONE   \n",
       "\n",
       "       Vehicle Model Year Vehicle Color Vehicle Fuel Source  \\\n",
       "66403                2020        FUSCIA               Pedal   \n",
       "66404                2014         GREEN               Pedal   \n",
       "66405                   0     RED/BLACK               Pedal   \n",
       "66406                2011           RED               Pedal   \n",
       "66407                2014         GREEN               Pedal   \n",
       "\n",
       "      Wheelchair Accessible                Company Name              Address  \\\n",
       "66403                     N  JBL PEDICAB MANAGEMENT LLC   1627 N. TRIPP AVE.   \n",
       "66404                     N             BM PEDICAB INC.  4450 N. KEDZIE AVE.   \n",
       "66405                     N          EMPIRE PEDICAB LLC     318 W. ADAMS ST.   \n",
       "66406                     N          CARGILL C KELLY II     2428 W. 24TH PL.   \n",
       "66407                     N             BM PEDICAB INC.  4450 N. KEDZIE AVE.   \n",
       "\n",
       "          City State  ZIP Code Taxi Affiliation  \\\n",
       "66403  CHICAGO    IL   60639.0              NaN   \n",
       "66404  CHICAGO    IL   60625.0              NaN   \n",
       "66405  CHICAGO    IL   60606.0              NaN   \n",
       "66406  CHICAGO    IL   60608.0              NaN   \n",
       "66407  CHICAGO    IL   60625.0              NaN   \n",
       "\n",
       "      Taxi Medallion License Management    Record ID  \n",
       "66403                                NaN   42Pedicab  \n",
       "66404                                NaN   52Pedicab  \n",
       "66405                                NaN   70Pedicab  \n",
       "66406                                NaN   57Pedicab  \n",
       "66407                                NaN  117Pedicab  "
      ]
     },
     "execution_count": 98,
     "metadata": {},
     "output_type": "execute_result"
    }
   ],
   "source": [
    "df.tail()"
   ]
  },
  {
   "cell_type": "code",
   "execution_count": 99,
   "metadata": {},
   "outputs": [
    {
     "data": {
      "text/plain": [
       "array(['CHEVROLET', 'MERCEDES', 'VAN HOOL', 'VPG', 'DODGE', 'TOYOTA',\n",
       "       'FORD', 'CADILLAC', 'FREIGHLINE', 'CHAMPION', 'THOMAS',\n",
       "       'FREIGHTLINER', 'MCI', nan, 'ALEXANDER DENNIS LTD', 'GILLIG',\n",
       "       'INTL', 'LEYLAND', 'ALEXDER DENNIS LTD', 'IC', 'DOUBLE SHUFLE',\n",
       "       'ISUZU', 'SPEC-CONSTED', 'TESLA', 'KIA', 'TUK TUK', 'MAINSTREET',\n",
       "       'LUCID', 'POLARIS', 'BMW', 'PRECISION', 'CHRYSLER', 'MERCURY',\n",
       "       'LINCOLN', 'GMC', 'ALEXANDER', 'VOLVO', 'HONDA', 'HYUNDAI',\n",
       "       'NISSAN', 'AUDI', 'LEXUS', 'INFINITI', 'JEEP', 'MOVITRON', 'ORION',\n",
       "       'ANKAI', 'MASERATI', 'MAZDA', 'CHARLESTON', 'NEOPLAN', 'GENISIS',\n",
       "       'OSHKOSH', 'BLUEBIRD', 'VOLKSWAGEN', 'BOYERTOWN', 'MITSUBISHI',\n",
       "       'MOBILITY VENTURE', 'LAND ROVER', 'TURTLE TOP', 'SUBARU', 'ACURA',\n",
       "       'SCION', 'Dodge', 'Ford', 'PONTIAC', 'BMX', 'BARTH', 'JAGUAR',\n",
       "       'CINDERELLA', 'TROYER', 'KIMBALL', 'YODER', 'MARTIN', 'SCHWARTZ',\n",
       "       'MILLER', 'ANDERSON', 'SCHROCK', 'VICTORIA', 'STUDEBAKER',\n",
       "       'MANMADE', 'VIP', 'SCHWINN', 'CUSTOM', 'COASTER', 'SMASH CAB',\n",
       "       'TIPKE'], dtype=object)"
      ]
     },
     "execution_count": 99,
     "metadata": {},
     "output_type": "execute_result"
    }
   ],
   "source": [
    "df['Vehicle Make'].unique()"
   ]
  },
  {
   "cell_type": "code",
   "execution_count": 100,
   "metadata": {},
   "outputs": [],
   "source": [
    "df['ZIP Code']=df['ZIP Code'].fillna(0)"
   ]
  },
  {
   "cell_type": "code",
   "execution_count": 101,
   "metadata": {},
   "outputs": [],
   "source": [
    "df['ZIP Code']=df['ZIP Code'].astype(int)"
   ]
  },
  {
   "cell_type": "code",
   "execution_count": 102,
   "metadata": {},
   "outputs": [],
   "source": [
    "df.drop_duplicates(subset=['Public Vehicle Number'],inplace=True)"
   ]
  },
  {
   "cell_type": "code",
   "execution_count": 103,
   "metadata": {},
   "outputs": [],
   "source": [
    "df.drop(columns=['Address'],inplace=True)"
   ]
  },
  {
   "cell_type": "code",
   "execution_count": 104,
   "metadata": {},
   "outputs": [],
   "source": [
    "df.drop(columns=['Public Vehicle Number'],inplace=True)"
   ]
  },
  {
   "cell_type": "code",
   "execution_count": 105,
   "metadata": {},
   "outputs": [],
   "source": [
    "public_column = df['Record ID']"
   ]
  },
  {
   "cell_type": "code",
   "execution_count": 106,
   "metadata": {},
   "outputs": [
    {
     "data": {
      "text/plain": [
       "0        12009Charter Sightseeing\n",
       "1        12248Charter Sightseeing\n",
       "2        13527Charter Sightseeing\n",
       "4        13528Charter Sightseeing\n",
       "5        12025Charter Sightseeing\n",
       "                   ...           \n",
       "16409                     998Taxi\n",
       "16410                    3810Taxi\n",
       "16411                    4690Taxi\n",
       "16412                    2831Taxi\n",
       "16413                    1509Taxi\n",
       "Name: Record ID, Length: 14473, dtype: object"
      ]
     },
     "execution_count": 106,
     "metadata": {},
     "output_type": "execute_result"
    }
   ],
   "source": [
    "public_column"
   ]
  },
  {
   "cell_type": "code",
   "execution_count": 107,
   "metadata": {},
   "outputs": [],
   "source": [
    "df['Vehicle Type'] = df['Record ID'].str.extract(r'([a-zA-Z\\s]+)$')"
   ]
  },
  {
   "cell_type": "code",
   "execution_count": 108,
   "metadata": {},
   "outputs": [],
   "source": [
    "df['Taxi Affiliation']=df['Taxi Affiliation'].fillna('none')"
   ]
  },
  {
   "cell_type": "code",
   "execution_count": 109,
   "metadata": {},
   "outputs": [],
   "source": [
    "df['Taxi Medallion License Management ']=df['Taxi Medallion License Management '].fillna('none')"
   ]
  },
  {
   "cell_type": "code",
   "execution_count": 110,
   "metadata": {},
   "outputs": [
    {
     "data": {
      "text/plain": [
       "1688"
      ]
     },
     "execution_count": 110,
     "metadata": {},
     "output_type": "execute_result"
    }
   ],
   "source": [
    "df['State'].isna().sum()"
   ]
  },
  {
   "cell_type": "code",
   "execution_count": 111,
   "metadata": {},
   "outputs": [
    {
     "data": {
      "text/html": [
       "<div>\n",
       "<style scoped>\n",
       "    .dataframe tbody tr th:only-of-type {\n",
       "        vertical-align: middle;\n",
       "    }\n",
       "\n",
       "    .dataframe tbody tr th {\n",
       "        vertical-align: top;\n",
       "    }\n",
       "\n",
       "    .dataframe thead th {\n",
       "        text-align: right;\n",
       "    }\n",
       "</style>\n",
       "<table border=\"1\" class=\"dataframe\">\n",
       "  <thead>\n",
       "    <tr style=\"text-align: right;\">\n",
       "      <th></th>\n",
       "      <th>Status</th>\n",
       "      <th>Vehicle Make</th>\n",
       "      <th>Vehicle Model</th>\n",
       "      <th>Vehicle Model Year</th>\n",
       "      <th>Vehicle Color</th>\n",
       "      <th>Vehicle Fuel Source</th>\n",
       "      <th>Wheelchair Accessible</th>\n",
       "      <th>Company Name</th>\n",
       "      <th>City</th>\n",
       "      <th>State</th>\n",
       "      <th>ZIP Code</th>\n",
       "      <th>Taxi Affiliation</th>\n",
       "      <th>Taxi Medallion License Management</th>\n",
       "      <th>Record ID</th>\n",
       "      <th>Vehicle Type</th>\n",
       "    </tr>\n",
       "  </thead>\n",
       "  <tbody>\n",
       "    <tr>\n",
       "      <th>16409</th>\n",
       "      <td>VIOLATION</td>\n",
       "      <td>TOYOTA</td>\n",
       "      <td>CAMRY</td>\n",
       "      <td>2012</td>\n",
       "      <td>WHITE</td>\n",
       "      <td>Hybrid</td>\n",
       "      <td>N</td>\n",
       "      <td>AGOMONY CAB INC</td>\n",
       "      <td>CHICAGO</td>\n",
       "      <td>IL</td>\n",
       "      <td>60659</td>\n",
       "      <td>DIS-AFFILIATED</td>\n",
       "      <td>Owner Manager</td>\n",
       "      <td>998Taxi</td>\n",
       "      <td>Taxi</td>\n",
       "    </tr>\n",
       "    <tr>\n",
       "      <th>16410</th>\n",
       "      <td>ACTIVE</td>\n",
       "      <td>TOYOTA</td>\n",
       "      <td>RAV4</td>\n",
       "      <td>2017</td>\n",
       "      <td>GRAY/WHITE</td>\n",
       "      <td>Hybrid</td>\n",
       "      <td>N</td>\n",
       "      <td>FENKIL ASMERA TAXI COMPANY</td>\n",
       "      <td>CHICAGO</td>\n",
       "      <td>IL</td>\n",
       "      <td>60613</td>\n",
       "      <td>Choice Taxi Association Inc</td>\n",
       "      <td>Owner Manager</td>\n",
       "      <td>3810Taxi</td>\n",
       "      <td>Taxi</td>\n",
       "    </tr>\n",
       "    <tr>\n",
       "      <th>16411</th>\n",
       "      <td>VIOLATION</td>\n",
       "      <td>TOYOTA</td>\n",
       "      <td>CAMRY</td>\n",
       "      <td>2014</td>\n",
       "      <td>WHITE</td>\n",
       "      <td>Hybrid</td>\n",
       "      <td>N</td>\n",
       "      <td>MURIELLE CADICHON</td>\n",
       "      <td>CHICAGO</td>\n",
       "      <td>IL</td>\n",
       "      <td>60643</td>\n",
       "      <td>DIS-AFFILIATED</td>\n",
       "      <td>Owner-Operator</td>\n",
       "      <td>4690Taxi</td>\n",
       "      <td>Taxi</td>\n",
       "    </tr>\n",
       "    <tr>\n",
       "      <th>16412</th>\n",
       "      <td>ACTIVE</td>\n",
       "      <td>TOYOTA</td>\n",
       "      <td>PRIUS</td>\n",
       "      <td>2012</td>\n",
       "      <td>WHITE</td>\n",
       "      <td>Hybrid</td>\n",
       "      <td>N</td>\n",
       "      <td>G S TRANS INC</td>\n",
       "      <td>CHICAGO</td>\n",
       "      <td>IL</td>\n",
       "      <td>60659</td>\n",
       "      <td>City Service Taxi Association</td>\n",
       "      <td>Owner Manager</td>\n",
       "      <td>2831Taxi</td>\n",
       "      <td>Taxi</td>\n",
       "    </tr>\n",
       "    <tr>\n",
       "      <th>16413</th>\n",
       "      <td>ACTIVE</td>\n",
       "      <td>TOYOTA</td>\n",
       "      <td>SIENNA</td>\n",
       "      <td>2023</td>\n",
       "      <td>WHITE</td>\n",
       "      <td>Hybrid</td>\n",
       "      <td>Y</td>\n",
       "      <td>J A SHALOM LLC</td>\n",
       "      <td>CHICAGO</td>\n",
       "      <td>IL</td>\n",
       "      <td>60612</td>\n",
       "      <td>Independent1</td>\n",
       "      <td>Owner-Operator</td>\n",
       "      <td>1509Taxi</td>\n",
       "      <td>Taxi</td>\n",
       "    </tr>\n",
       "  </tbody>\n",
       "</table>\n",
       "</div>"
      ],
      "text/plain": [
       "          Status Vehicle Make Vehicle Model  Vehicle Model Year Vehicle Color  \\\n",
       "16409  VIOLATION       TOYOTA         CAMRY                2012         WHITE   \n",
       "16410     ACTIVE       TOYOTA          RAV4                2017    GRAY/WHITE   \n",
       "16411  VIOLATION       TOYOTA         CAMRY                2014         WHITE   \n",
       "16412     ACTIVE       TOYOTA         PRIUS                2012         WHITE   \n",
       "16413     ACTIVE       TOYOTA        SIENNA                2023         WHITE   \n",
       "\n",
       "      Vehicle Fuel Source Wheelchair Accessible                Company Name  \\\n",
       "16409              Hybrid                     N             AGOMONY CAB INC   \n",
       "16410              Hybrid                     N  FENKIL ASMERA TAXI COMPANY   \n",
       "16411              Hybrid                     N           MURIELLE CADICHON   \n",
       "16412              Hybrid                     N               G S TRANS INC   \n",
       "16413              Hybrid                     Y              J A SHALOM LLC   \n",
       "\n",
       "          City State  ZIP Code               Taxi Affiliation  \\\n",
       "16409  CHICAGO    IL     60659                 DIS-AFFILIATED   \n",
       "16410  CHICAGO    IL     60613    Choice Taxi Association Inc   \n",
       "16411  CHICAGO    IL     60643                 DIS-AFFILIATED   \n",
       "16412  CHICAGO    IL     60659  City Service Taxi Association   \n",
       "16413  CHICAGO    IL     60612                   Independent1   \n",
       "\n",
       "      Taxi Medallion License Management  Record ID Vehicle Type  \n",
       "16409                      Owner Manager   998Taxi         Taxi  \n",
       "16410                      Owner Manager  3810Taxi         Taxi  \n",
       "16411                     Owner-Operator  4690Taxi         Taxi  \n",
       "16412                      Owner Manager  2831Taxi         Taxi  \n",
       "16413                     Owner-Operator  1509Taxi         Taxi  "
      ]
     },
     "execution_count": 111,
     "metadata": {},
     "output_type": "execute_result"
    }
   ],
   "source": [
    "df.tail()"
   ]
  },
  {
   "cell_type": "code",
   "execution_count": 112,
   "metadata": {},
   "outputs": [
    {
     "name": "stdout",
     "output_type": "stream",
     "text": [
      "Outliers:\n",
      "          Status Vehicle Make Vehicle Model  Vehicle Model Year Vehicle Color  \\\n",
      "134    INACTIVE     CHAMPION       TROLLEY                1993        ORANGE   \n",
      "146    INACTIVE      LEYLAND      OLYMPIAN                1988      BURGUNDY   \n",
      "151    INACTIVE     CHAMPION       TROLLEY                1990         GREEN   \n",
      "194    INACTIVE      LEYLAND      OLYMPIAN                1988      BURGUNDY   \n",
      "198    INACTIVE        ISUZU      CARRYALL                1986        MAROON   \n",
      "...         ...          ...           ...                 ...           ...   \n",
      "14353  INACTIVE          NaN           NaN                   0         WHITE   \n",
      "15238  INACTIVE          NaN           NaN                   0         WHITE   \n",
      "15700  INACTIVE          NaN           NaN                   0         WHITE   \n",
      "16090  INACTIVE          NaN           NaN                   0         WHITE   \n",
      "16396  INACTIVE          NaN           NaN                   0         WHITE   \n",
      "\n",
      "      Vehicle Fuel Source Wheelchair Accessible           Company Name  \\\n",
      "134                Diesel                     N            SCT USA INC   \n",
      "146                Diesel                     N  CHICAGO GRAY LINE LTD   \n",
      "151                Diesel                     N            SCT USA INC   \n",
      "194                Diesel                     N  CHICAGO GRAY LINE LTD   \n",
      "198                Diesel                     N            SCT USA INC   \n",
      "...                   ...                   ...                    ...   \n",
      "14353              Hybrid                     N   CITY OF CHICAGO BACP   \n",
      "15238              Hybrid                     N   CITY OF CHICAGO BACP   \n",
      "15700              Hybrid                     N   CITY OF CHICAGO BACP   \n",
      "16090              Hybrid                     N   CITY OF CHICAGO BACP   \n",
      "16396              Hybrid                     N   CITY OF CHICAGO BACP   \n",
      "\n",
      "          City State  ZIP Code Taxi Affiliation  \\\n",
      "134    CHICAGO    IL     60630             none   \n",
      "146    CHICAGO    IL     60609             none   \n",
      "151    CHICAGO    IL     60630             none   \n",
      "194    CHICAGO    IL     60609             none   \n",
      "198    CHICAGO    IL     60630             none   \n",
      "...        ...   ...       ...              ...   \n",
      "14353  CHICAGO    IL     60608             none   \n",
      "15238  CHICAGO    IL     60608             none   \n",
      "15700  CHICAGO    IL     60608             none   \n",
      "16090  CHICAGO    IL     60608             none   \n",
      "16396  CHICAGO    IL     60608             none   \n",
      "\n",
      "      Taxi Medallion License Management                  Record ID  \\\n",
      "134                                 none  15065Charter Sightseeing   \n",
      "146                                 none  17878Charter Sightseeing   \n",
      "151                                 none  17291Charter Sightseeing   \n",
      "194                                 none  17868Charter Sightseeing   \n",
      "198                                 none  13565Charter Sightseeing   \n",
      "...                                  ...                       ...   \n",
      "14353                               none                  3427Taxi   \n",
      "15238                               none                  6833Taxi   \n",
      "15700                               none                  6844Taxi   \n",
      "16090                               none                  4901Taxi   \n",
      "16396                               none                  6840Taxi   \n",
      "\n",
      "              Vehicle Type  \n",
      "134    Charter Sightseeing  \n",
      "146    Charter Sightseeing  \n",
      "151    Charter Sightseeing  \n",
      "194    Charter Sightseeing  \n",
      "198    Charter Sightseeing  \n",
      "...                    ...  \n",
      "14353                 Taxi  \n",
      "15238                 Taxi  \n",
      "15700                 Taxi  \n",
      "16090                 Taxi  \n",
      "16396                 Taxi  \n",
      "\n",
      "[1858 rows x 15 columns]\n"
     ]
    }
   ],
   "source": [
    "Q1 = df['Vehicle Model Year'].quantile(0.25)\n",
    "Q3 = df['Vehicle Model Year'].quantile(0.75)\n",
    "IQR = Q3 - Q1\n",
    "\n",
    "lower_bound = Q1 - 1.5 * IQR\n",
    "upper_bound = Q3 + 1.5 * IQR\n",
    "\n",
    "outliers = df[(df['Vehicle Model Year'] < lower_bound) | (df['Vehicle Model Year'] > upper_bound)]\n",
    "\n",
    "print(\"Outliers:\\n\", outliers)"
   ]
  },
  {
   "cell_type": "code",
   "execution_count": 113,
   "metadata": {},
   "outputs": [
    {
     "data": {
      "text/plain": [
       "Vehicle Model Year\n",
       "0       1820\n",
       "2023    1395\n",
       "2014    1302\n",
       "2013    1151\n",
       "2012    1040\n",
       "2022     993\n",
       "2019     740\n",
       "2024     708\n",
       "2011     705\n",
       "2015     700\n",
       "2016     669\n",
       "2020     556\n",
       "2021     545\n",
       "2017     487\n",
       "2018     453\n",
       "2010     267\n",
       "2008     167\n",
       "2006     154\n",
       "2007     109\n",
       "2009     107\n",
       "2005      64\n",
       "2001      57\n",
       "2025      50\n",
       "2004      43\n",
       "2002      35\n",
       "2003      29\n",
       "1999      27\n",
       "1997      22\n",
       "2000      20\n",
       "1998      13\n",
       "1996       7\n",
       "1991       5\n",
       "1988       5\n",
       "1992       4\n",
       "1995       4\n",
       "1993       3\n",
       "1984       3\n",
       "1989       2\n",
       "1994       2\n",
       "1986       2\n",
       "1990       2\n",
       "1981       1\n",
       "1983       1\n",
       "1987       1\n",
       "1985       1\n",
       "1980       1\n",
       "1196       1\n",
       "Name: count, dtype: int64"
      ]
     },
     "execution_count": 113,
     "metadata": {},
     "output_type": "execute_result"
    }
   ],
   "source": [
    "df['Vehicle Model Year'].value_counts()"
   ]
  },
  {
   "cell_type": "code",
   "execution_count": 114,
   "metadata": {},
   "outputs": [
    {
     "data": {
      "text/plain": [
       "array(['IL', nan], dtype=object)"
      ]
     },
     "execution_count": 114,
     "metadata": {},
     "output_type": "execute_result"
    }
   ],
   "source": [
    "df['State'].unique()"
   ]
  },
  {
   "cell_type": "code",
   "execution_count": 115,
   "metadata": {},
   "outputs": [],
   "source": [
    "df=df.dropna(subset=['State'])"
   ]
  },
  {
   "cell_type": "code",
   "execution_count": 116,
   "metadata": {},
   "outputs": [
    {
     "data": {
      "text/plain": [
       "0"
      ]
     },
     "execution_count": 116,
     "metadata": {},
     "output_type": "execute_result"
    }
   ],
   "source": [
    "df['State'].isna().sum()"
   ]
  },
  {
   "cell_type": "code",
   "execution_count": 117,
   "metadata": {},
   "outputs": [
    {
     "data": {
      "text/plain": [
       "(12785, 15)"
      ]
     },
     "execution_count": 117,
     "metadata": {},
     "output_type": "execute_result"
    }
   ],
   "source": [
    "df.shape"
   ]
  },
  {
   "cell_type": "code",
   "execution_count": 118,
   "metadata": {},
   "outputs": [
    {
     "data": {
      "text/plain": [
       "113"
      ]
     },
     "execution_count": 118,
     "metadata": {},
     "output_type": "execute_result"
    }
   ],
   "source": [
    "df['Vehicle Make'].isna().sum()"
   ]
  },
  {
   "cell_type": "code",
   "execution_count": 119,
   "metadata": {},
   "outputs": [],
   "source": [
    "df2=df.sample(50)"
   ]
  },
  {
   "cell_type": "code",
   "execution_count": 120,
   "metadata": {},
   "outputs": [
    {
     "data": {
      "text/plain": [
       "array(['CHICAGO', 'ELMHURST', 'ORLAND PARK', 'ST. CHARLES', 'SKOKIE',\n",
       "       'FRANKFORT', 'ELGIN', 'SHOREWOOD', 'TINLEY PARK', 'LYNWOOD',\n",
       "       'CHIICAGO', 'LOVES PARK', 'BARRINGTON', 'NEW LENOX', 'DOLTON',\n",
       "       'CHICAGO RIDGE', 'BARTLETT', 'EVERGREEN PARK', 'ARLINGTON HEIGHTS',\n",
       "       'BROOKFIELD', 'EARLVILLE', 'SCHILLER PARK', 'CHGO', 'PLAINFIELD',\n",
       "       'DEERFIELD', 'OAKBROOK', 'NORTHBROOK', 'BENSENVILLE',\n",
       "       'ELK GROVE VILLAGE', 'JOHNSBURG', 'NORRIDGE', 'DESPLAINES',\n",
       "       'DES PLAINES', 'ITASCA', 'CHCAGO', 'GURNEE', 'METTAWA'],\n",
       "      dtype=object)"
      ]
     },
     "execution_count": 120,
     "metadata": {},
     "output_type": "execute_result"
    }
   ],
   "source": [
    "df['City'].unique()"
   ]
  },
  {
   "cell_type": "code",
   "execution_count": 121,
   "metadata": {},
   "outputs": [],
   "source": [
    "valid_cities = [\n",
    "    'CHICAGO', 'ELMHURST', 'ORLAND PARK', 'ST. CHARLES', 'SKOKIE', 'FRANKFORT', 'ELGIN', 'SHOREWOOD', \n",
    "    'TINLEY PARK', 'LYNWOOD', 'LOVES PARK', 'BARRINGTON', 'NEW LENOX', 'DOLTON', 'CHICAGO RIDGE', \n",
    "    'BARTLETT', 'EVERGREEN PARK', 'ARLINGTON HEIGHTS', 'BROOKFIELD', 'EARLVILLE', 'SCHILLER PARK', \n",
    "    'PLAINFIELD', 'DEERFIELD', 'OAK BROOK', 'NORTHBROOK', 'BENSENVILLE', 'ELK GROVE VILLAGE', 'JOHNSBURG', \n",
    "    'NORRIDGE', 'DES PLAINES', 'ITASCA', 'GURNEE', 'METTAWA'\n",
    "]"
   ]
  },
  {
   "cell_type": "code",
   "execution_count": 122,
   "metadata": {},
   "outputs": [],
   "source": [
    "def correct_city_name(city):\n",
    "    \n",
    "    city_corrections = {\n",
    "        'CHIICAGO': 'CHICAGO',\n",
    "        'CHGO': 'CHICAGO',\n",
    "        'OAKBROOK': 'OAK BROOK',\n",
    "        'DESPLAINES': 'DES PLAINES',\n",
    "        'CHCAGO': 'CHICAGO'\n",
    "    }\n",
    "  \n",
    "    return city_corrections.get(city, city)"
   ]
  },
  {
   "cell_type": "code",
   "execution_count": 123,
   "metadata": {},
   "outputs": [],
   "source": [
    "df['City'] = df['City'].apply(correct_city_name)"
   ]
  },
  {
   "cell_type": "code",
   "execution_count": 124,
   "metadata": {},
   "outputs": [
    {
     "data": {
      "text/plain": [
       "array(['CHICAGO', 'ELMHURST', 'ORLAND PARK', 'ST. CHARLES', 'SKOKIE',\n",
       "       'FRANKFORT', 'ELGIN', 'SHOREWOOD', 'TINLEY PARK', 'LYNWOOD',\n",
       "       'LOVES PARK', 'BARRINGTON', 'NEW LENOX', 'DOLTON', 'CHICAGO RIDGE',\n",
       "       'BARTLETT', 'EVERGREEN PARK', 'ARLINGTON HEIGHTS', 'BROOKFIELD',\n",
       "       'EARLVILLE', 'SCHILLER PARK', 'PLAINFIELD', 'DEERFIELD',\n",
       "       'OAK BROOK', 'NORTHBROOK', 'BENSENVILLE', 'ELK GROVE VILLAGE',\n",
       "       'JOHNSBURG', 'NORRIDGE', 'DES PLAINES', 'ITASCA', 'GURNEE',\n",
       "       'METTAWA'], dtype=object)"
      ]
     },
     "execution_count": 124,
     "metadata": {},
     "output_type": "execute_result"
    }
   ],
   "source": [
    "df['City'].unique()"
   ]
  },
  {
   "cell_type": "code",
   "execution_count": 125,
   "metadata": {},
   "outputs": [],
   "source": [
    "df = df[df['City'].isin(valid_cities)]"
   ]
  },
  {
   "cell_type": "code",
   "execution_count": 126,
   "metadata": {},
   "outputs": [
    {
     "data": {
      "text/plain": [
       "array(['CHICAGO', 'ELMHURST', 'ORLAND PARK', 'ST. CHARLES', 'SKOKIE',\n",
       "       'FRANKFORT', 'ELGIN', 'SHOREWOOD', 'TINLEY PARK', 'LYNWOOD',\n",
       "       'LOVES PARK', 'BARRINGTON', 'NEW LENOX', 'DOLTON', 'CHICAGO RIDGE',\n",
       "       'BARTLETT', 'EVERGREEN PARK', 'ARLINGTON HEIGHTS', 'BROOKFIELD',\n",
       "       'EARLVILLE', 'SCHILLER PARK', 'PLAINFIELD', 'DEERFIELD',\n",
       "       'OAK BROOK', 'NORTHBROOK', 'BENSENVILLE', 'ELK GROVE VILLAGE',\n",
       "       'JOHNSBURG', 'NORRIDGE', 'DES PLAINES', 'ITASCA', 'GURNEE',\n",
       "       'METTAWA'], dtype=object)"
      ]
     },
     "execution_count": 126,
     "metadata": {},
     "output_type": "execute_result"
    }
   ],
   "source": [
    "df['City'].unique()"
   ]
  },
  {
   "cell_type": "code",
   "execution_count": 127,
   "metadata": {},
   "outputs": [],
   "source": [
    "city_coordinates = {\n",
    "    'CHICAGO': (41.8781, -87.6298),\n",
    "    'ELMHURST': (41.8991, -87.9403),\n",
    "    'ORLAND PARK': (41.6295, -87.8534),\n",
    "    'ST. CHARLES': (41.9140, -88.3052),\n",
    "    'SKOKIE': (42.0324, -87.7411),\n",
    "    'FRANKFORT': (41.3102, -87.8506),\n",
    "    'ELGIN': (42.0354, -88.2812),\n",
    "    'SHOREWOOD': (41.7799, -88.2281),\n",
    "    'TINLEY PARK': (41.5742, -87.7820),\n",
    "    'LYNWOOD': (41.5742, -87.6232),\n",
    "    'LOVES PARK': (42.3019, -89.0543),\n",
    "    'BARRINGTON': (42.1531, -88.1382),\n",
    "    'NEW LENOX': (41.5130, -87.9812),\n",
    "    'DOLTON': (41.6190, -87.5936),\n",
    "    'CHICAGO RIDGE': (41.7150, -87.7820),\n",
    "    'BARTLETT': (41.9951, -88.1851),\n",
    "    'EVERGREEN PARK': (41.7107, -87.7893),\n",
    "    'ARLINGTON HEIGHTS': (42.0884, -87.9806),\n",
    "    'BROOKFIELD': (41.8314, -87.7846),\n",
    "    'EARLVILLE': (41.6274, -88.6947),\n",
    "    'SCHILLER PARK': (41.9781, -87.8182),\n",
    "    'PLAINFIELD': (41.6303, -88.2039),\n",
    "    'DEERFIELD': (42.1546, -87.8472),\n",
    "    'OAK BROOK': (41.8503, -87.9511),\n",
    "    'NORTHBROOK': (42.1211, -87.8294),\n",
    "    'BENSENVILLE': (41.9783, -87.9401),\n",
    "    'ELK GROVE VILLAGE': (42.0353, -87.9732),\n",
    "    'JOHNSBURG': (42.3191, -88.2733),\n",
    "    'NORRIDGE': (41.9810, -87.7947),\n",
    "    'DES PLAINES': (42.0396, -87.8704),\n",
    "    'ITASCA': (41.9534, -88.0169),\n",
    "    'GURNEE': (42.3620, -87.8837),\n",
    "    'METTAWA': (42.2573, -87.9116)\n",
    "}"
   ]
  },
  {
   "cell_type": "code",
   "execution_count": 128,
   "metadata": {},
   "outputs": [],
   "source": [
    "df['Latitude'] = df['City'].map(lambda city: city_coordinates.get(city, (None, None))[0])\n",
    "df['Longitude'] = df['City'].map(lambda city: city_coordinates.get(city, (None, None))[1])"
   ]
  },
  {
   "cell_type": "code",
   "execution_count": 129,
   "metadata": {},
   "outputs": [
    {
     "data": {
      "text/plain": [
       "array(['CHICAGO', 'ELMHURST', 'ORLAND PARK', 'ST. CHARLES', 'SKOKIE',\n",
       "       'FRANKFORT', 'ELGIN', 'SHOREWOOD', 'TINLEY PARK', 'LYNWOOD',\n",
       "       'LOVES PARK', 'BARRINGTON', 'NEW LENOX', 'DOLTON', 'CHICAGO RIDGE',\n",
       "       'BARTLETT', 'EVERGREEN PARK', 'ARLINGTON HEIGHTS', 'BROOKFIELD',\n",
       "       'EARLVILLE', 'SCHILLER PARK', 'PLAINFIELD', 'DEERFIELD',\n",
       "       'OAK BROOK', 'NORTHBROOK', 'BENSENVILLE', 'ELK GROVE VILLAGE',\n",
       "       'JOHNSBURG', 'NORRIDGE', 'DES PLAINES', 'ITASCA', 'GURNEE',\n",
       "       'METTAWA'], dtype=object)"
      ]
     },
     "execution_count": 129,
     "metadata": {},
     "output_type": "execute_result"
    }
   ],
   "source": [
    "df['City'].unique()"
   ]
  },
  {
   "cell_type": "code",
   "execution_count": 130,
   "metadata": {},
   "outputs": [
    {
     "name": "stdout",
     "output_type": "stream",
     "text": [
      "          Status Vehicle Make Vehicle Model  Vehicle Model Year Vehicle Color  \\\n",
      "13795     ACTIVE       TOYOTA         CAMRY                2017        YELLOW   \n",
      "11528     ACTIVE       TOYOTA          RAV4                2016         WHITE   \n",
      "11574  VIOLATION       TOYOTA         PRIUS                2014         WHITE   \n",
      "3298      ACTIVE         FORD          E450                2017         WHITE   \n",
      "11800     ACTIVE       TOYOTA          RAV4                2024        SILVER   \n",
      "\n",
      "      Vehicle Fuel Source Wheelchair Accessible           Company Name  \\\n",
      "13795              Hybrid                     N            YZ TAXI INC   \n",
      "11528              Hybrid                     N     ENO MARY TRANS INC   \n",
      "11574              Hybrid                     N          JSP CAB CORP.   \n",
      "3298             Gasoline                     N  ANN-ETHE SERVICES LLC   \n",
      "11800              Hybrid                     N          KPOOKEKE  INC   \n",
      "\n",
      "          City State  ZIP Code               Taxi Affiliation  \\\n",
      "13795  CHICAGO    IL     60641         Yellow Cab Association   \n",
      "11528  CHICAGO    IL     60659  City Service Taxi Association   \n",
      "11574  CHICAGO    IL     60641                 DIS-AFFILIATED   \n",
      "3298   CHICAGO    IL     60643                           none   \n",
      "11800  CHICAGO    IL     60609                   Independent1   \n",
      "\n",
      "      Taxi Medallion License Management                  Record ID  \\\n",
      "13795                      Owner Manager                  2056Taxi   \n",
      "11528                     Owner-Operator                  2944Taxi   \n",
      "11574                      Owner Manager                  1529Taxi   \n",
      "3298                                none  25542Charter Sightseeing   \n",
      "11800                     Owner-Operator                  1731Taxi   \n",
      "\n",
      "              Vehicle Type  Latitude  Longitude  \n",
      "13795                 Taxi   41.8781   -87.6298  \n",
      "11528                 Taxi   41.8781   -87.6298  \n",
      "11574                 Taxi   41.8781   -87.6298  \n",
      "3298   Charter Sightseeing   41.8781   -87.6298  \n",
      "11800                 Taxi   41.8781   -87.6298  \n"
     ]
    }
   ],
   "source": [
    "print(df.sample(5))"
   ]
  },
  {
   "cell_type": "code",
   "execution_count": 131,
   "metadata": {},
   "outputs": [
    {
     "data": {
      "text/html": [
       "<div>\n",
       "<style scoped>\n",
       "    .dataframe tbody tr th:only-of-type {\n",
       "        vertical-align: middle;\n",
       "    }\n",
       "\n",
       "    .dataframe tbody tr th {\n",
       "        vertical-align: top;\n",
       "    }\n",
       "\n",
       "    .dataframe thead th {\n",
       "        text-align: right;\n",
       "    }\n",
       "</style>\n",
       "<table border=\"1\" class=\"dataframe\">\n",
       "  <thead>\n",
       "    <tr style=\"text-align: right;\">\n",
       "      <th></th>\n",
       "      <th>Status</th>\n",
       "      <th>Vehicle Make</th>\n",
       "      <th>Vehicle Model</th>\n",
       "      <th>Vehicle Model Year</th>\n",
       "      <th>Vehicle Color</th>\n",
       "      <th>Vehicle Fuel Source</th>\n",
       "      <th>Wheelchair Accessible</th>\n",
       "      <th>Company Name</th>\n",
       "      <th>City</th>\n",
       "      <th>State</th>\n",
       "      <th>ZIP Code</th>\n",
       "      <th>Taxi Affiliation</th>\n",
       "      <th>Taxi Medallion License Management</th>\n",
       "      <th>Record ID</th>\n",
       "      <th>Vehicle Type</th>\n",
       "      <th>Latitude</th>\n",
       "      <th>Longitude</th>\n",
       "    </tr>\n",
       "  </thead>\n",
       "  <tbody>\n",
       "    <tr>\n",
       "      <th>0</th>\n",
       "      <td>RESERVED</td>\n",
       "      <td>CHEVROLET</td>\n",
       "      <td>EXPRESS</td>\n",
       "      <td>2014</td>\n",
       "      <td>BLACK</td>\n",
       "      <td>Bio-Diesel</td>\n",
       "      <td>N</td>\n",
       "      <td>CHICAGO PRIVATE TOURS LLC</td>\n",
       "      <td>CHICAGO</td>\n",
       "      <td>IL</td>\n",
       "      <td>60653</td>\n",
       "      <td>none</td>\n",
       "      <td>none</td>\n",
       "      <td>12009Charter Sightseeing</td>\n",
       "      <td>Charter Sightseeing</td>\n",
       "      <td>41.8781</td>\n",
       "      <td>-87.6298</td>\n",
       "    </tr>\n",
       "    <tr>\n",
       "      <th>1</th>\n",
       "      <td>INACTIVE</td>\n",
       "      <td>MERCEDES</td>\n",
       "      <td>SPRINTER</td>\n",
       "      <td>2010</td>\n",
       "      <td>SILVER</td>\n",
       "      <td>Bio-Diesel</td>\n",
       "      <td>N</td>\n",
       "      <td>O'HARE-MIDWAY LIMOUSINE SERVICE INC # 2</td>\n",
       "      <td>CHICAGO</td>\n",
       "      <td>IL</td>\n",
       "      <td>60640</td>\n",
       "      <td>none</td>\n",
       "      <td>none</td>\n",
       "      <td>12248Charter Sightseeing</td>\n",
       "      <td>Charter Sightseeing</td>\n",
       "      <td>41.8781</td>\n",
       "      <td>-87.6298</td>\n",
       "    </tr>\n",
       "    <tr>\n",
       "      <th>2</th>\n",
       "      <td>INACTIVE</td>\n",
       "      <td>VAN HOOL</td>\n",
       "      <td>TD925</td>\n",
       "      <td>2008</td>\n",
       "      <td>RED</td>\n",
       "      <td>Bio-Diesel</td>\n",
       "      <td>N</td>\n",
       "      <td>TRT TRANSPORTATION, INC.</td>\n",
       "      <td>CHICAGO</td>\n",
       "      <td>IL</td>\n",
       "      <td>60609</td>\n",
       "      <td>none</td>\n",
       "      <td>none</td>\n",
       "      <td>13527Charter Sightseeing</td>\n",
       "      <td>Charter Sightseeing</td>\n",
       "      <td>41.8781</td>\n",
       "      <td>-87.6298</td>\n",
       "    </tr>\n",
       "    <tr>\n",
       "      <th>4</th>\n",
       "      <td>INACTIVE</td>\n",
       "      <td>VAN HOOL</td>\n",
       "      <td>TD925</td>\n",
       "      <td>2008</td>\n",
       "      <td>RED</td>\n",
       "      <td>Bio-Diesel</td>\n",
       "      <td>N</td>\n",
       "      <td>TRT TRANSPORTATION, INC.</td>\n",
       "      <td>CHICAGO</td>\n",
       "      <td>IL</td>\n",
       "      <td>60609</td>\n",
       "      <td>none</td>\n",
       "      <td>none</td>\n",
       "      <td>13528Charter Sightseeing</td>\n",
       "      <td>Charter Sightseeing</td>\n",
       "      <td>41.8781</td>\n",
       "      <td>-87.6298</td>\n",
       "    </tr>\n",
       "    <tr>\n",
       "      <th>5</th>\n",
       "      <td>INACTIVE</td>\n",
       "      <td>MERCEDES</td>\n",
       "      <td>SPRINTER</td>\n",
       "      <td>2015</td>\n",
       "      <td>BLACK</td>\n",
       "      <td>Bio-Diesel</td>\n",
       "      <td>N</td>\n",
       "      <td>O'HARE-MIDWAY LIMOUSINE SERVICE INC # 2</td>\n",
       "      <td>CHICAGO</td>\n",
       "      <td>IL</td>\n",
       "      <td>60640</td>\n",
       "      <td>none</td>\n",
       "      <td>none</td>\n",
       "      <td>12025Charter Sightseeing</td>\n",
       "      <td>Charter Sightseeing</td>\n",
       "      <td>41.8781</td>\n",
       "      <td>-87.6298</td>\n",
       "    </tr>\n",
       "  </tbody>\n",
       "</table>\n",
       "</div>"
      ],
      "text/plain": [
       "     Status Vehicle Make Vehicle Model  Vehicle Model Year Vehicle Color  \\\n",
       "0  RESERVED    CHEVROLET       EXPRESS                2014         BLACK   \n",
       "1  INACTIVE     MERCEDES      SPRINTER                2010        SILVER   \n",
       "2  INACTIVE     VAN HOOL         TD925                2008           RED   \n",
       "4  INACTIVE     VAN HOOL         TD925                2008           RED   \n",
       "5  INACTIVE     MERCEDES      SPRINTER                2015         BLACK   \n",
       "\n",
       "  Vehicle Fuel Source Wheelchair Accessible  \\\n",
       "0          Bio-Diesel                     N   \n",
       "1          Bio-Diesel                     N   \n",
       "2          Bio-Diesel                     N   \n",
       "4          Bio-Diesel                     N   \n",
       "5          Bio-Diesel                     N   \n",
       "\n",
       "                              Company Name     City State  ZIP Code  \\\n",
       "0                CHICAGO PRIVATE TOURS LLC  CHICAGO    IL     60653   \n",
       "1  O'HARE-MIDWAY LIMOUSINE SERVICE INC # 2  CHICAGO    IL     60640   \n",
       "2                 TRT TRANSPORTATION, INC.  CHICAGO    IL     60609   \n",
       "4                 TRT TRANSPORTATION, INC.  CHICAGO    IL     60609   \n",
       "5  O'HARE-MIDWAY LIMOUSINE SERVICE INC # 2  CHICAGO    IL     60640   \n",
       "\n",
       "  Taxi Affiliation Taxi Medallion License Management   \\\n",
       "0             none                               none   \n",
       "1             none                               none   \n",
       "2             none                               none   \n",
       "4             none                               none   \n",
       "5             none                               none   \n",
       "\n",
       "                  Record ID         Vehicle Type  Latitude  Longitude  \n",
       "0  12009Charter Sightseeing  Charter Sightseeing   41.8781   -87.6298  \n",
       "1  12248Charter Sightseeing  Charter Sightseeing   41.8781   -87.6298  \n",
       "2  13527Charter Sightseeing  Charter Sightseeing   41.8781   -87.6298  \n",
       "4  13528Charter Sightseeing  Charter Sightseeing   41.8781   -87.6298  \n",
       "5  12025Charter Sightseeing  Charter Sightseeing   41.8781   -87.6298  "
      ]
     },
     "execution_count": 131,
     "metadata": {},
     "output_type": "execute_result"
    }
   ],
   "source": [
    "df.head()"
   ]
  },
  {
   "cell_type": "code",
   "execution_count": 137,
   "metadata": {},
   "outputs": [
    {
     "data": {
      "text/plain": [
       "Taxi Medallion License Management \n",
       "none                                      6426\n",
       "Owner Manager                             3417\n",
       "Owner-Operator                            1939\n",
       "Medallion Leasing and Management, Inc.     340\n",
       "Star North Management LLC                  180\n",
       "Cab Management Group, Inc.                 139\n",
       "Sun Financial Services, Inc.               129\n",
       "Top Cab Corp.                              122\n",
       "Chicago Taxicab Management Inc.             89\n",
       "Medallion Management Corp.                   2\n",
       "Taxi Experts, Inc.                           2\n",
       "Name: count, dtype: int64"
      ]
     },
     "execution_count": 137,
     "metadata": {},
     "output_type": "execute_result"
    }
   ],
   "source": [
    "df['Taxi Medallion License Management '].value_counts()"
   ]
  },
  {
   "cell_type": "code",
   "execution_count": 142,
   "metadata": {},
   "outputs": [],
   "source": [
    "\n",
    "city_meds_count = df[df['City'] == 'CHICAGO'].groupby('Taxi Medallion License Management ').size()\n"
   ]
  },
  {
   "cell_type": "code",
   "execution_count": 143,
   "metadata": {},
   "outputs": [
    {
     "data": {
      "text/plain": [
       "Taxi Medallion License Management \n",
       "Cab Management Group, Inc.                 139\n",
       "Chicago Taxicab Management Inc.             89\n",
       "Medallion Leasing and Management, Inc.     340\n",
       "Medallion Management Corp.                   2\n",
       "Owner Manager                             3416\n",
       "Owner-Operator                            1937\n",
       "Star North Management LLC                  180\n",
       "Sun Financial Services, Inc.               129\n",
       "Taxi Experts, Inc.                           2\n",
       "Top Cab Corp.                              122\n",
       "none                                      5693\n",
       "dtype: int64"
      ]
     },
     "execution_count": 143,
     "metadata": {},
     "output_type": "execute_result"
    }
   ],
   "source": [
    "city_meds_count"
   ]
  }
 ],
 "metadata": {
  "kernelspec": {
   "display_name": "base",
   "language": "python",
   "name": "python3"
  },
  "language_info": {
   "codemirror_mode": {
    "name": "ipython",
    "version": 3
   },
   "file_extension": ".py",
   "mimetype": "text/x-python",
   "name": "python",
   "nbconvert_exporter": "python",
   "pygments_lexer": "ipython3",
   "version": "3.12.4"
  }
 },
 "nbformat": 4,
 "nbformat_minor": 2
}
