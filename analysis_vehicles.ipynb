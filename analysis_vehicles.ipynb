{
 "cells": [
  {
   "cell_type": "code",
   "execution_count": 29,
   "metadata": {},
   "outputs": [],
   "source": [
    "import pandas as pd \n",
    "import numpy as np\n",
    "import re\n",
    "import os"
   ]
  },
  {
   "cell_type": "markdown",
   "metadata": {},
   "source": [
    "folder_path= './PassengerVehicle_Stats'\n",
    "dfs=[]\n",
    "files= [f for f in os.listdir(folder_path) if f.endswith('.csv')]\n",
    "\n",
    "for file in files:\n",
    "    file_path = os.path.join(folder_path,file)\n",
    "    df1 = pd.read_csv(file_path)\n",
    "    dfs.append(df1)\n",
    "\n",
    "combine_df = pd.concat(dfs, ignore_index=True)\n",
    "combine_df.to_csv('./vehicles_df.csv', index= False)"
   ]
  },
  {
   "cell_type": "code",
   "execution_count": 30,
   "metadata": {},
   "outputs": [
    {
     "data": {
      "text/plain": [
       "Unnamed: 0                                0\n",
       "Public Vehicle Number                     0\n",
       "Status                                    0\n",
       "Vehicle Make                           7668\n",
       "Vehicle Model                          7852\n",
       "Vehicle Model Year                     7768\n",
       "Vehicle Color                          7944\n",
       "Vehicle Fuel Source                       0\n",
       "Wheelchair Accessible                     0\n",
       "Company Name                              0\n",
       "Address                                7144\n",
       "City                                   7144\n",
       "State                                  7144\n",
       "ZIP Code                               7144\n",
       "Taxi Affiliation                      37016\n",
       "Taxi Medallion License Management     37124\n",
       "Record ID                                 0\n",
       "dtype: int64"
      ]
     },
     "execution_count": 30,
     "metadata": {},
     "output_type": "execute_result"
    }
   ],
   "source": [
    "df = pd.read_csv('vehicles_df.csv')\n",
    "df.isna().sum()"
   ]
  },
  {
   "cell_type": "code",
   "execution_count": 31,
   "metadata": {},
   "outputs": [
    {
     "name": "stdout",
     "output_type": "stream",
     "text": [
      "<class 'pandas.core.frame.DataFrame'>\n",
      "RangeIndex: 66408 entries, 0 to 66407\n",
      "Data columns (total 17 columns):\n",
      " #   Column                              Non-Null Count  Dtype  \n",
      "---  ------                              --------------  -----  \n",
      " 0   Unnamed: 0                          66408 non-null  int64  \n",
      " 1   Public Vehicle Number               66408 non-null  int64  \n",
      " 2   Status                              66408 non-null  object \n",
      " 3   Vehicle Make                        58740 non-null  object \n",
      " 4   Vehicle Model                       58556 non-null  object \n",
      " 5   Vehicle Model Year                  58640 non-null  float64\n",
      " 6   Vehicle Color                       58464 non-null  object \n",
      " 7   Vehicle Fuel Source                 66408 non-null  object \n",
      " 8   Wheelchair Accessible               66408 non-null  object \n",
      " 9   Company Name                        66408 non-null  object \n",
      " 10  Address                             59264 non-null  object \n",
      " 11  City                                59264 non-null  object \n",
      " 12  State                               59264 non-null  object \n",
      " 13  ZIP Code                            59264 non-null  float64\n",
      " 14  Taxi Affiliation                    29392 non-null  object \n",
      " 15  Taxi Medallion License Management   29284 non-null  object \n",
      " 16  Record ID                           66408 non-null  object \n",
      "dtypes: float64(2), int64(2), object(13)\n",
      "memory usage: 8.6+ MB\n"
     ]
    }
   ],
   "source": [
    "df.info()"
   ]
  },
  {
   "cell_type": "code",
   "execution_count": 32,
   "metadata": {},
   "outputs": [
    {
     "data": {
      "text/plain": [
       "2496"
      ]
     },
     "execution_count": 32,
     "metadata": {},
     "output_type": "execute_result"
    }
   ],
   "source": [
    "(df['Wheelchair Accessible']=='Y').sum()"
   ]
  },
  {
   "cell_type": "code",
   "execution_count": 33,
   "metadata": {},
   "outputs": [],
   "source": [
    "df.drop('Unnamed: 0',axis=1,inplace=True)"
   ]
  },
  {
   "cell_type": "code",
   "execution_count": 34,
   "metadata": {},
   "outputs": [
    {
     "data": {
      "text/plain": [
       "66408"
      ]
     },
     "execution_count": 34,
     "metadata": {},
     "output_type": "execute_result"
    }
   ],
   "source": [
    "(df['Vehicle Model Year'].apply(lambda x: isinstance(x,float))).sum()"
   ]
  },
  {
   "cell_type": "code",
   "execution_count": 35,
   "metadata": {},
   "outputs": [
    {
     "data": {
      "text/plain": [
       "array([2014., 2010., 2008., 2015., 2012., 2016., 2011., 2017., 2009.,\n",
       "       2013., 2024., 2005., 2001., 2002., 2000., 1993., 2007., 1998.,\n",
       "       2006., 1997., 1988., 1990., 2004., 1999., 1986., 1992., 2021.,\n",
       "       2020., 2023., 2018., 2019., 2022.,   nan, 2003., 2025., 1996.,\n",
       "       1984., 1994., 1981., 1995., 1991., 1989., 1983., 1987., 1985.,\n",
       "          7., 1980., 1196.,    0.])"
      ]
     },
     "execution_count": 35,
     "metadata": {},
     "output_type": "execute_result"
    }
   ],
   "source": [
    "df['Vehicle Model Year'].unique()"
   ]
  },
  {
   "cell_type": "code",
   "execution_count": 36,
   "metadata": {},
   "outputs": [],
   "source": [
    "\n",
    "values_replace = [7.,0.]\n",
    "df['Vehicle Model Year']=df['Vehicle Model Year'].replace(values_replace,np.nan)\n"
   ]
  },
  {
   "cell_type": "code",
   "execution_count": 37,
   "metadata": {},
   "outputs": [],
   "source": [
    "df['Vehicle Model Year']=df['Vehicle Model Year'].fillna(0)"
   ]
  },
  {
   "cell_type": "code",
   "execution_count": 38,
   "metadata": {},
   "outputs": [],
   "source": [
    "df['Vehicle Model Year']=df['Vehicle Model Year'].astype(int)"
   ]
  },
  {
   "cell_type": "code",
   "execution_count": 39,
   "metadata": {},
   "outputs": [
    {
     "data": {
      "text/html": [
       "<div>\n",
       "<style scoped>\n",
       "    .dataframe tbody tr th:only-of-type {\n",
       "        vertical-align: middle;\n",
       "    }\n",
       "\n",
       "    .dataframe tbody tr th {\n",
       "        vertical-align: top;\n",
       "    }\n",
       "\n",
       "    .dataframe thead th {\n",
       "        text-align: right;\n",
       "    }\n",
       "</style>\n",
       "<table border=\"1\" class=\"dataframe\">\n",
       "  <thead>\n",
       "    <tr style=\"text-align: right;\">\n",
       "      <th></th>\n",
       "      <th>Public Vehicle Number</th>\n",
       "      <th>Status</th>\n",
       "      <th>Vehicle Make</th>\n",
       "      <th>Vehicle Model</th>\n",
       "      <th>Vehicle Model Year</th>\n",
       "      <th>Vehicle Color</th>\n",
       "      <th>Vehicle Fuel Source</th>\n",
       "      <th>Wheelchair Accessible</th>\n",
       "      <th>Company Name</th>\n",
       "      <th>Address</th>\n",
       "      <th>City</th>\n",
       "      <th>State</th>\n",
       "      <th>ZIP Code</th>\n",
       "      <th>Taxi Affiliation</th>\n",
       "      <th>Taxi Medallion License Management</th>\n",
       "      <th>Record ID</th>\n",
       "    </tr>\n",
       "  </thead>\n",
       "  <tbody>\n",
       "    <tr>\n",
       "      <th>66403</th>\n",
       "      <td>42</td>\n",
       "      <td>ACTIVE</td>\n",
       "      <td>PRECISION</td>\n",
       "      <td>6 SEATER</td>\n",
       "      <td>2020</td>\n",
       "      <td>FUSCIA</td>\n",
       "      <td>Pedal</td>\n",
       "      <td>N</td>\n",
       "      <td>JBL PEDICAB MANAGEMENT LLC</td>\n",
       "      <td>1627 N. TRIPP AVE.</td>\n",
       "      <td>CHICAGO</td>\n",
       "      <td>IL</td>\n",
       "      <td>60639.0</td>\n",
       "      <td>NaN</td>\n",
       "      <td>NaN</td>\n",
       "      <td>42Pedicab</td>\n",
       "    </tr>\n",
       "    <tr>\n",
       "      <th>66404</th>\n",
       "      <td>52</td>\n",
       "      <td>ACTIVE</td>\n",
       "      <td>SCHWINN</td>\n",
       "      <td>NONE</td>\n",
       "      <td>2014</td>\n",
       "      <td>GREEN</td>\n",
       "      <td>Pedal</td>\n",
       "      <td>N</td>\n",
       "      <td>BM PEDICAB INC.</td>\n",
       "      <td>4450 N. KEDZIE AVE.</td>\n",
       "      <td>CHICAGO</td>\n",
       "      <td>IL</td>\n",
       "      <td>60625.0</td>\n",
       "      <td>NaN</td>\n",
       "      <td>NaN</td>\n",
       "      <td>52Pedicab</td>\n",
       "    </tr>\n",
       "    <tr>\n",
       "      <th>66405</th>\n",
       "      <td>70</td>\n",
       "      <td>VIOLATION</td>\n",
       "      <td>MAINSTREET</td>\n",
       "      <td>CLASSIC</td>\n",
       "      <td>0</td>\n",
       "      <td>RED/BLACK</td>\n",
       "      <td>Pedal</td>\n",
       "      <td>N</td>\n",
       "      <td>EMPIRE PEDICAB LLC</td>\n",
       "      <td>318 W. ADAMS ST.</td>\n",
       "      <td>CHICAGO</td>\n",
       "      <td>IL</td>\n",
       "      <td>60606.0</td>\n",
       "      <td>NaN</td>\n",
       "      <td>NaN</td>\n",
       "      <td>70Pedicab</td>\n",
       "    </tr>\n",
       "    <tr>\n",
       "      <th>66406</th>\n",
       "      <td>57</td>\n",
       "      <td>VIOLATION</td>\n",
       "      <td>MAINSTREET</td>\n",
       "      <td>BOARDWALK</td>\n",
       "      <td>2011</td>\n",
       "      <td>RED</td>\n",
       "      <td>Pedal</td>\n",
       "      <td>N</td>\n",
       "      <td>CARGILL C KELLY II</td>\n",
       "      <td>2428 W. 24TH PL.</td>\n",
       "      <td>CHICAGO</td>\n",
       "      <td>IL</td>\n",
       "      <td>60608.0</td>\n",
       "      <td>NaN</td>\n",
       "      <td>NaN</td>\n",
       "      <td>57Pedicab</td>\n",
       "    </tr>\n",
       "    <tr>\n",
       "      <th>66407</th>\n",
       "      <td>117</td>\n",
       "      <td>ACTIVE</td>\n",
       "      <td>SCHWINN</td>\n",
       "      <td>NONE</td>\n",
       "      <td>2014</td>\n",
       "      <td>GREEN</td>\n",
       "      <td>Pedal</td>\n",
       "      <td>N</td>\n",
       "      <td>BM PEDICAB INC.</td>\n",
       "      <td>4450 N. KEDZIE AVE.</td>\n",
       "      <td>CHICAGO</td>\n",
       "      <td>IL</td>\n",
       "      <td>60625.0</td>\n",
       "      <td>NaN</td>\n",
       "      <td>NaN</td>\n",
       "      <td>117Pedicab</td>\n",
       "    </tr>\n",
       "  </tbody>\n",
       "</table>\n",
       "</div>"
      ],
      "text/plain": [
       "       Public Vehicle Number     Status Vehicle Make Vehicle Model  \\\n",
       "66403                     42     ACTIVE    PRECISION      6 SEATER   \n",
       "66404                     52     ACTIVE      SCHWINN          NONE   \n",
       "66405                     70  VIOLATION   MAINSTREET       CLASSIC   \n",
       "66406                     57  VIOLATION   MAINSTREET     BOARDWALK   \n",
       "66407                    117     ACTIVE      SCHWINN          NONE   \n",
       "\n",
       "       Vehicle Model Year Vehicle Color Vehicle Fuel Source  \\\n",
       "66403                2020        FUSCIA               Pedal   \n",
       "66404                2014         GREEN               Pedal   \n",
       "66405                   0     RED/BLACK               Pedal   \n",
       "66406                2011           RED               Pedal   \n",
       "66407                2014         GREEN               Pedal   \n",
       "\n",
       "      Wheelchair Accessible                Company Name              Address  \\\n",
       "66403                     N  JBL PEDICAB MANAGEMENT LLC   1627 N. TRIPP AVE.   \n",
       "66404                     N             BM PEDICAB INC.  4450 N. KEDZIE AVE.   \n",
       "66405                     N          EMPIRE PEDICAB LLC     318 W. ADAMS ST.   \n",
       "66406                     N          CARGILL C KELLY II     2428 W. 24TH PL.   \n",
       "66407                     N             BM PEDICAB INC.  4450 N. KEDZIE AVE.   \n",
       "\n",
       "          City State  ZIP Code Taxi Affiliation  \\\n",
       "66403  CHICAGO    IL   60639.0              NaN   \n",
       "66404  CHICAGO    IL   60625.0              NaN   \n",
       "66405  CHICAGO    IL   60606.0              NaN   \n",
       "66406  CHICAGO    IL   60608.0              NaN   \n",
       "66407  CHICAGO    IL   60625.0              NaN   \n",
       "\n",
       "      Taxi Medallion License Management    Record ID  \n",
       "66403                                NaN   42Pedicab  \n",
       "66404                                NaN   52Pedicab  \n",
       "66405                                NaN   70Pedicab  \n",
       "66406                                NaN   57Pedicab  \n",
       "66407                                NaN  117Pedicab  "
      ]
     },
     "execution_count": 39,
     "metadata": {},
     "output_type": "execute_result"
    }
   ],
   "source": [
    "df.tail()"
   ]
  },
  {
   "cell_type": "code",
   "execution_count": 40,
   "metadata": {},
   "outputs": [
    {
     "data": {
      "text/plain": [
       "array(['CHEVROLET', 'MERCEDES', 'VAN HOOL', 'VPG', 'DODGE', 'TOYOTA',\n",
       "       'FORD', 'CADILLAC', 'FREIGHLINE', 'CHAMPION', 'THOMAS',\n",
       "       'FREIGHTLINER', 'MCI', nan, 'ALEXANDER DENNIS LTD', 'GILLIG',\n",
       "       'INTL', 'LEYLAND', 'ALEXDER DENNIS LTD', 'IC', 'DOUBLE SHUFLE',\n",
       "       'ISUZU', 'SPEC-CONSTED', 'TESLA', 'KIA', 'TUK TUK', 'MAINSTREET',\n",
       "       'LUCID', 'POLARIS', 'BMW', 'PRECISION', 'CHRYSLER', 'MERCURY',\n",
       "       'LINCOLN', 'GMC', 'ALEXANDER', 'VOLVO', 'HONDA', 'HYUNDAI',\n",
       "       'NISSAN', 'AUDI', 'LEXUS', 'INFINITI', 'JEEP', 'MOVITRON', 'ORION',\n",
       "       'ANKAI', 'MASERATI', 'MAZDA', 'CHARLESTON', 'NEOPLAN', 'GENISIS',\n",
       "       'OSHKOSH', 'BLUEBIRD', 'VOLKSWAGEN', 'BOYERTOWN', 'MITSUBISHI',\n",
       "       'MOBILITY VENTURE', 'LAND ROVER', 'TURTLE TOP', 'SUBARU', 'ACURA',\n",
       "       'SCION', 'Dodge', 'Ford', 'PONTIAC', 'BMX', 'BARTH', 'JAGUAR',\n",
       "       'CINDERELLA', 'TROYER', 'KIMBALL', 'YODER', 'MARTIN', 'SCHWARTZ',\n",
       "       'MILLER', 'ANDERSON', 'SCHROCK', 'VICTORIA', 'STUDEBAKER',\n",
       "       'MANMADE', 'VIP', 'SCHWINN', 'CUSTOM', 'COASTER', 'SMASH CAB',\n",
       "       'TIPKE'], dtype=object)"
      ]
     },
     "execution_count": 40,
     "metadata": {},
     "output_type": "execute_result"
    }
   ],
   "source": [
    "df['Vehicle Make'].unique()"
   ]
  },
  {
   "cell_type": "code",
   "execution_count": 41,
   "metadata": {},
   "outputs": [],
   "source": [
    "df['ZIP Code']=df['ZIP Code'].fillna(0)"
   ]
  },
  {
   "cell_type": "code",
   "execution_count": 42,
   "metadata": {},
   "outputs": [],
   "source": [
    "df['ZIP Code']=df['ZIP Code'].astype(int)"
   ]
  },
  {
   "cell_type": "code",
   "execution_count": 43,
   "metadata": {},
   "outputs": [],
   "source": [
    "df.drop_duplicates(subset=['Public Vehicle Number'],inplace=True)"
   ]
  },
  {
   "cell_type": "code",
   "execution_count": 44,
   "metadata": {},
   "outputs": [],
   "source": [
    "df.drop(columns=['Address'],inplace=True)"
   ]
  },
  {
   "cell_type": "code",
   "execution_count": 45,
   "metadata": {},
   "outputs": [],
   "source": [
    "df.drop(columns=['Public Vehicle Number'],inplace=True)"
   ]
  },
  {
   "cell_type": "code",
   "execution_count": 46,
   "metadata": {},
   "outputs": [],
   "source": [
    "public_column = df['Record ID']"
   ]
  },
  {
   "cell_type": "code",
   "execution_count": 47,
   "metadata": {},
   "outputs": [
    {
     "data": {
      "text/plain": [
       "0        12009Charter Sightseeing\n",
       "1        12248Charter Sightseeing\n",
       "2        13527Charter Sightseeing\n",
       "4        13528Charter Sightseeing\n",
       "5        12025Charter Sightseeing\n",
       "                   ...           \n",
       "16409                     998Taxi\n",
       "16410                    3810Taxi\n",
       "16411                    4690Taxi\n",
       "16412                    2831Taxi\n",
       "16413                    1509Taxi\n",
       "Name: Record ID, Length: 14473, dtype: object"
      ]
     },
     "execution_count": 47,
     "metadata": {},
     "output_type": "execute_result"
    }
   ],
   "source": [
    "public_column"
   ]
  },
  {
   "cell_type": "code",
   "execution_count": 48,
   "metadata": {},
   "outputs": [],
   "source": [
    "df['Vehicle Type'] = df['Record ID'].str.extract(r'([a-zA-Z\\s]+)$')"
   ]
  },
  {
   "cell_type": "code",
   "execution_count": 49,
   "metadata": {},
   "outputs": [],
   "source": [
    "df['Taxi Affiliation']=df['Taxi Affiliation'].fillna('none')"
   ]
  },
  {
   "cell_type": "code",
   "execution_count": 50,
   "metadata": {},
   "outputs": [],
   "source": [
    "#df.rename(columns={'Record ID': 'Vehicle Type'}, inplace=True)"
   ]
  },
  {
   "cell_type": "code",
   "execution_count": 51,
   "metadata": {},
   "outputs": [],
   "source": [
    "df['Taxi Medallion License Management ']=df['Taxi Medallion License Management '].fillna('none')"
   ]
  },
  {
   "cell_type": "code",
   "execution_count": 52,
   "metadata": {},
   "outputs": [
    {
     "data": {
      "text/plain": [
       "1688"
      ]
     },
     "execution_count": 52,
     "metadata": {},
     "output_type": "execute_result"
    }
   ],
   "source": [
    "df['State'].isna().sum()"
   ]
  },
  {
   "cell_type": "code",
   "execution_count": 53,
   "metadata": {},
   "outputs": [
    {
     "data": {
      "text/html": [
       "<div>\n",
       "<style scoped>\n",
       "    .dataframe tbody tr th:only-of-type {\n",
       "        vertical-align: middle;\n",
       "    }\n",
       "\n",
       "    .dataframe tbody tr th {\n",
       "        vertical-align: top;\n",
       "    }\n",
       "\n",
       "    .dataframe thead th {\n",
       "        text-align: right;\n",
       "    }\n",
       "</style>\n",
       "<table border=\"1\" class=\"dataframe\">\n",
       "  <thead>\n",
       "    <tr style=\"text-align: right;\">\n",
       "      <th></th>\n",
       "      <th>Status</th>\n",
       "      <th>Vehicle Make</th>\n",
       "      <th>Vehicle Model</th>\n",
       "      <th>Vehicle Model Year</th>\n",
       "      <th>Vehicle Color</th>\n",
       "      <th>Vehicle Fuel Source</th>\n",
       "      <th>Wheelchair Accessible</th>\n",
       "      <th>Company Name</th>\n",
       "      <th>City</th>\n",
       "      <th>State</th>\n",
       "      <th>ZIP Code</th>\n",
       "      <th>Taxi Affiliation</th>\n",
       "      <th>Taxi Medallion License Management</th>\n",
       "      <th>Record ID</th>\n",
       "      <th>Vehicle Type</th>\n",
       "    </tr>\n",
       "  </thead>\n",
       "  <tbody>\n",
       "    <tr>\n",
       "      <th>0</th>\n",
       "      <td>RESERVED</td>\n",
       "      <td>CHEVROLET</td>\n",
       "      <td>EXPRESS</td>\n",
       "      <td>2014</td>\n",
       "      <td>BLACK</td>\n",
       "      <td>Bio-Diesel</td>\n",
       "      <td>N</td>\n",
       "      <td>CHICAGO PRIVATE TOURS LLC</td>\n",
       "      <td>CHICAGO</td>\n",
       "      <td>IL</td>\n",
       "      <td>60653</td>\n",
       "      <td>none</td>\n",
       "      <td>none</td>\n",
       "      <td>12009Charter Sightseeing</td>\n",
       "      <td>Charter Sightseeing</td>\n",
       "    </tr>\n",
       "    <tr>\n",
       "      <th>1</th>\n",
       "      <td>INACTIVE</td>\n",
       "      <td>MERCEDES</td>\n",
       "      <td>SPRINTER</td>\n",
       "      <td>2010</td>\n",
       "      <td>SILVER</td>\n",
       "      <td>Bio-Diesel</td>\n",
       "      <td>N</td>\n",
       "      <td>O'HARE-MIDWAY LIMOUSINE SERVICE INC # 2</td>\n",
       "      <td>CHICAGO</td>\n",
       "      <td>IL</td>\n",
       "      <td>60640</td>\n",
       "      <td>none</td>\n",
       "      <td>none</td>\n",
       "      <td>12248Charter Sightseeing</td>\n",
       "      <td>Charter Sightseeing</td>\n",
       "    </tr>\n",
       "    <tr>\n",
       "      <th>2</th>\n",
       "      <td>INACTIVE</td>\n",
       "      <td>VAN HOOL</td>\n",
       "      <td>TD925</td>\n",
       "      <td>2008</td>\n",
       "      <td>RED</td>\n",
       "      <td>Bio-Diesel</td>\n",
       "      <td>N</td>\n",
       "      <td>TRT TRANSPORTATION, INC.</td>\n",
       "      <td>CHICAGO</td>\n",
       "      <td>IL</td>\n",
       "      <td>60609</td>\n",
       "      <td>none</td>\n",
       "      <td>none</td>\n",
       "      <td>13527Charter Sightseeing</td>\n",
       "      <td>Charter Sightseeing</td>\n",
       "    </tr>\n",
       "    <tr>\n",
       "      <th>4</th>\n",
       "      <td>INACTIVE</td>\n",
       "      <td>VAN HOOL</td>\n",
       "      <td>TD925</td>\n",
       "      <td>2008</td>\n",
       "      <td>RED</td>\n",
       "      <td>Bio-Diesel</td>\n",
       "      <td>N</td>\n",
       "      <td>TRT TRANSPORTATION, INC.</td>\n",
       "      <td>CHICAGO</td>\n",
       "      <td>IL</td>\n",
       "      <td>60609</td>\n",
       "      <td>none</td>\n",
       "      <td>none</td>\n",
       "      <td>13528Charter Sightseeing</td>\n",
       "      <td>Charter Sightseeing</td>\n",
       "    </tr>\n",
       "    <tr>\n",
       "      <th>5</th>\n",
       "      <td>INACTIVE</td>\n",
       "      <td>MERCEDES</td>\n",
       "      <td>SPRINTER</td>\n",
       "      <td>2015</td>\n",
       "      <td>BLACK</td>\n",
       "      <td>Bio-Diesel</td>\n",
       "      <td>N</td>\n",
       "      <td>O'HARE-MIDWAY LIMOUSINE SERVICE INC # 2</td>\n",
       "      <td>CHICAGO</td>\n",
       "      <td>IL</td>\n",
       "      <td>60640</td>\n",
       "      <td>none</td>\n",
       "      <td>none</td>\n",
       "      <td>12025Charter Sightseeing</td>\n",
       "      <td>Charter Sightseeing</td>\n",
       "    </tr>\n",
       "  </tbody>\n",
       "</table>\n",
       "</div>"
      ],
      "text/plain": [
       "     Status Vehicle Make Vehicle Model  Vehicle Model Year Vehicle Color  \\\n",
       "0  RESERVED    CHEVROLET       EXPRESS                2014         BLACK   \n",
       "1  INACTIVE     MERCEDES      SPRINTER                2010        SILVER   \n",
       "2  INACTIVE     VAN HOOL         TD925                2008           RED   \n",
       "4  INACTIVE     VAN HOOL         TD925                2008           RED   \n",
       "5  INACTIVE     MERCEDES      SPRINTER                2015         BLACK   \n",
       "\n",
       "  Vehicle Fuel Source Wheelchair Accessible  \\\n",
       "0          Bio-Diesel                     N   \n",
       "1          Bio-Diesel                     N   \n",
       "2          Bio-Diesel                     N   \n",
       "4          Bio-Diesel                     N   \n",
       "5          Bio-Diesel                     N   \n",
       "\n",
       "                              Company Name     City State  ZIP Code  \\\n",
       "0                CHICAGO PRIVATE TOURS LLC  CHICAGO    IL     60653   \n",
       "1  O'HARE-MIDWAY LIMOUSINE SERVICE INC # 2  CHICAGO    IL     60640   \n",
       "2                 TRT TRANSPORTATION, INC.  CHICAGO    IL     60609   \n",
       "4                 TRT TRANSPORTATION, INC.  CHICAGO    IL     60609   \n",
       "5  O'HARE-MIDWAY LIMOUSINE SERVICE INC # 2  CHICAGO    IL     60640   \n",
       "\n",
       "  Taxi Affiliation Taxi Medallion License Management   \\\n",
       "0             none                               none   \n",
       "1             none                               none   \n",
       "2             none                               none   \n",
       "4             none                               none   \n",
       "5             none                               none   \n",
       "\n",
       "                  Record ID         Vehicle Type  \n",
       "0  12009Charter Sightseeing  Charter Sightseeing  \n",
       "1  12248Charter Sightseeing  Charter Sightseeing  \n",
       "2  13527Charter Sightseeing  Charter Sightseeing  \n",
       "4  13528Charter Sightseeing  Charter Sightseeing  \n",
       "5  12025Charter Sightseeing  Charter Sightseeing  "
      ]
     },
     "execution_count": 53,
     "metadata": {},
     "output_type": "execute_result"
    }
   ],
   "source": [
    "df.head()"
   ]
  },
  {
   "cell_type": "code",
   "execution_count": null,
   "metadata": {},
   "outputs": [],
   "source": []
  }
 ],
 "metadata": {
  "kernelspec": {
   "display_name": "base",
   "language": "python",
   "name": "python3"
  },
  "language_info": {
   "codemirror_mode": {
    "name": "ipython",
    "version": 3
   },
   "file_extension": ".py",
   "mimetype": "text/x-python",
   "name": "python",
   "nbconvert_exporter": "python",
   "pygments_lexer": "ipython3",
   "version": "3.12.4"
  }
 },
 "nbformat": 4,
 "nbformat_minor": 2
}
