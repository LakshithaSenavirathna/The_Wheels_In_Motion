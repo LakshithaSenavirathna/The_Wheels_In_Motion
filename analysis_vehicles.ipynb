{
 "cells": [
  {
   "cell_type": "code",
   "execution_count": 3,
   "metadata": {},
   "outputs": [],
   "source": [
    "import pandas as pd \n",
    "import os"
   ]
  },
  {
   "cell_type": "code",
   "execution_count": 4,
   "metadata": {},
   "outputs": [],
   "source": [
    "# Define the directory containing the CSV files\n",
    "csv_directory = \"./PassengerVehicle_Stats\"\n",
    "\n",
    "# Get all CSV file paths in the directory\n",
    "csv_files = [os.path.join(csv_directory, file) for file in os.listdir(csv_directory) if file.endswith('.csv')]\n",
    "\n",
    "# Load all CSV files into a list\n",
    "dataframes = [pd.read_csv(file) for file in csv_files]\n",
    "\n",
    "# Concatenate all DataFrames into a single DataFrame\n",
    "vehicles_df = pd.concat(dataframes, ignore_index=True)"
   ]
  },
  {
   "cell_type": "code",
   "execution_count": 5,
   "metadata": {},
   "outputs": [
    {
     "name": "stdout",
     "output_type": "stream",
     "text": [
      "   Unnamed: 0  Public Vehicle Number    Status Vehicle Make Vehicle Model  \\\n",
      "0        1286                  12009  RESERVED    CHEVROLET       EXPRESS   \n",
      "1        2095                  12248  INACTIVE     MERCEDES      SPRINTER   \n",
      "2        7950                  13527  INACTIVE     VAN HOOL         TD925   \n",
      "3        8700                  12248  INACTIVE     MERCEDES      SPRINTER   \n",
      "4        9359                  13528  INACTIVE     VAN HOOL         TD925   \n",
      "\n",
      "   Vehicle Model Year Vehicle Color Vehicle Fuel Source Wheelchair Accessible  \\\n",
      "0              2014.0         BLACK          Bio-Diesel                     N   \n",
      "1              2010.0        SILVER          Bio-Diesel                     N   \n",
      "2              2008.0           RED          Bio-Diesel                     N   \n",
      "3              2010.0        SILVER          Bio-Diesel                     N   \n",
      "4              2008.0           RED          Bio-Diesel                     N   \n",
      "\n",
      "                              Company Name                 Address     City  \\\n",
      "0                CHICAGO PRIVATE TOURS LLC  4567 S. OAKENWALD AVE.  CHICAGO   \n",
      "1  O'HARE-MIDWAY LIMOUSINE SERVICE INC # 2       4610 N. CLARK ST.  CHICAGO   \n",
      "2                 TRT TRANSPORTATION, INC.     4400 S. RACINE AVE.  CHICAGO   \n",
      "3  O'HARE-MIDWAY LIMOUSINE SERVICE INC # 2       4610 N. CLARK ST.  CHICAGO   \n",
      "4                 TRT TRANSPORTATION, INC.     4400 S. RACINE AVE.  CHICAGO   \n",
      "\n",
      "  State  ZIP Code Taxi Affiliation Taxi Medallion License Management   \\\n",
      "0    IL   60653.0              NaN                                NaN   \n",
      "1    IL   60640.0              NaN                                NaN   \n",
      "2    IL   60609.0              NaN                                NaN   \n",
      "3    IL   60640.0              NaN                                NaN   \n",
      "4    IL   60609.0              NaN                                NaN   \n",
      "\n",
      "                  Record ID  \n",
      "0  12009Charter Sightseeing  \n",
      "1  12248Charter Sightseeing  \n",
      "2  13527Charter Sightseeing  \n",
      "3  12248Charter Sightseeing  \n",
      "4  13528Charter Sightseeing  \n"
     ]
    }
   ],
   "source": [
    "print(vehicles_df.head())"
   ]
  },
  {
   "cell_type": "code",
   "execution_count": 6,
   "metadata": {},
   "outputs": [
    {
     "name": "stdout",
     "output_type": "stream",
     "text": [
      "<class 'pandas.core.frame.DataFrame'>\n",
      "RangeIndex: 66408 entries, 0 to 66407\n",
      "Data columns (total 17 columns):\n",
      " #   Column                              Non-Null Count  Dtype  \n",
      "---  ------                              --------------  -----  \n",
      " 0   Unnamed: 0                          66408 non-null  int64  \n",
      " 1   Public Vehicle Number               66408 non-null  int64  \n",
      " 2   Status                              66408 non-null  object \n",
      " 3   Vehicle Make                        58740 non-null  object \n",
      " 4   Vehicle Model                       58556 non-null  object \n",
      " 5   Vehicle Model Year                  58640 non-null  float64\n",
      " 6   Vehicle Color                       58464 non-null  object \n",
      " 7   Vehicle Fuel Source                 66408 non-null  object \n",
      " 8   Wheelchair Accessible               66408 non-null  object \n",
      " 9   Company Name                        66408 non-null  object \n",
      " 10  Address                             59264 non-null  object \n",
      " 11  City                                59264 non-null  object \n",
      " 12  State                               59264 non-null  object \n",
      " 13  ZIP Code                            59264 non-null  float64\n",
      " 14  Taxi Affiliation                    29392 non-null  object \n",
      " 15  Taxi Medallion License Management   29284 non-null  object \n",
      " 16  Record ID                           66408 non-null  object \n",
      "dtypes: float64(2), int64(2), object(13)\n",
      "memory usage: 8.6+ MB\n"
     ]
    }
   ],
   "source": [
    "vehicles_df.info()"
   ]
  },
  {
   "cell_type": "code",
   "execution_count": 7,
   "metadata": {},
   "outputs": [
    {
     "name": "stdout",
     "output_type": "stream",
     "text": [
      "Unnamed: 0                                0\n",
      "Public Vehicle Number                     0\n",
      "Status                                    0\n",
      "Vehicle Make                           7668\n",
      "Vehicle Model                          7852\n",
      "Vehicle Model Year                     7768\n",
      "Vehicle Color                          7944\n",
      "Vehicle Fuel Source                       0\n",
      "Wheelchair Accessible                     0\n",
      "Company Name                              0\n",
      "Address                                7144\n",
      "City                                   7144\n",
      "State                                  7144\n",
      "ZIP Code                               7144\n",
      "Taxi Affiliation                      37016\n",
      "Taxi Medallion License Management     37124\n",
      "Record ID                                 0\n",
      "dtype: int64\n"
     ]
    }
   ],
   "source": [
    "# Check for null values\n",
    "print(vehicles_df.isnull().sum())"
   ]
  },
  {
   "cell_type": "code",
   "execution_count": 8,
   "metadata": {},
   "outputs": [
    {
     "name": "stdout",
     "output_type": "stream",
     "text": [
      "49806\n"
     ]
    }
   ],
   "source": [
    "# Check for duplicates\n",
    "print(vehicles_df.duplicated().sum())"
   ]
  },
  {
   "cell_type": "code",
   "execution_count": 9,
   "metadata": {},
   "outputs": [],
   "source": [
    "# Remove duplicates based on the \"Public Vehicle Number\" column\n",
    "vehicles_df = vehicles_df.drop_duplicates(subset='Public Vehicle Number', keep='first')"
   ]
  },
  {
   "cell_type": "code",
   "execution_count": 10,
   "metadata": {},
   "outputs": [],
   "source": [
    "# Reset the index after dropping duplicates\n",
    "vehicles_df = vehicles_df.reset_index(drop=True)"
   ]
  },
  {
   "cell_type": "code",
   "execution_count": 11,
   "metadata": {},
   "outputs": [
    {
     "name": "stdout",
     "output_type": "stream",
     "text": [
      "0\n"
     ]
    }
   ],
   "source": [
    "# Check for duplicates\n",
    "print(vehicles_df.duplicated().sum())"
   ]
  },
  {
   "cell_type": "code",
   "execution_count": 12,
   "metadata": {},
   "outputs": [
    {
     "data": {
      "text/plain": [
       "(14473, 17)"
      ]
     },
     "execution_count": 12,
     "metadata": {},
     "output_type": "execute_result"
    }
   ],
   "source": [
    "vehicles_df.shape"
   ]
  },
  {
   "cell_type": "code",
   "execution_count": 13,
   "metadata": {},
   "outputs": [],
   "source": [
    "# Remove rows where 'Vehicle Model Year' is less than 1900\n",
    "vehicles_df = vehicles_df[vehicles_df['Vehicle Model Year'] >= 1900]\n",
    "\n",
    "# Reset the index\n",
    "vehicles_df = vehicles_df.reset_index(drop=True)"
   ]
  },
  {
   "cell_type": "code",
   "execution_count": 14,
   "metadata": {},
   "outputs": [
    {
     "data": {
      "text/plain": [
       "(12652, 17)"
      ]
     },
     "execution_count": 14,
     "metadata": {},
     "output_type": "execute_result"
    }
   ],
   "source": [
    "vehicles_df.shape"
   ]
  },
  {
   "cell_type": "code",
   "execution_count": 15,
   "metadata": {},
   "outputs": [
    {
     "data": {
      "text/plain": [
       "Unnamed: 0                               0\n",
       "Public Vehicle Number                    0\n",
       "Status                                   0\n",
       "Vehicle Make                            12\n",
       "Vehicle Model                           48\n",
       "Vehicle Model Year                       0\n",
       "Vehicle Color                           64\n",
       "Vehicle Fuel Source                      0\n",
       "Wheelchair Accessible                    0\n",
       "Company Name                             0\n",
       "Address                                  0\n",
       "City                                     0\n",
       "State                                    0\n",
       "ZIP Code                                 0\n",
       "Taxi Affiliation                      6270\n",
       "Taxi Medallion License Management     6293\n",
       "Record ID                                0\n",
       "dtype: int64"
      ]
     },
     "execution_count": 15,
     "metadata": {},
     "output_type": "execute_result"
    }
   ],
   "source": [
    "vehicles_df.isnull().sum()"
   ]
  },
  {
   "cell_type": "code",
   "execution_count": 16,
   "metadata": {},
   "outputs": [],
   "source": [
    "columns_to_check = ['Address', 'City', 'State','ZIP Code']\n",
    "\n",
    "vehicles_df.dropna(subset=columns_to_check, inplace=True)"
   ]
  },
  {
   "cell_type": "code",
   "execution_count": 17,
   "metadata": {},
   "outputs": [
    {
     "data": {
      "text/plain": [
       "Unnamed: 0                               0\n",
       "Public Vehicle Number                    0\n",
       "Status                                   0\n",
       "Vehicle Make                            12\n",
       "Vehicle Model                           48\n",
       "Vehicle Model Year                       0\n",
       "Vehicle Color                           64\n",
       "Vehicle Fuel Source                      0\n",
       "Wheelchair Accessible                    0\n",
       "Company Name                             0\n",
       "Address                                  0\n",
       "City                                     0\n",
       "State                                    0\n",
       "ZIP Code                                 0\n",
       "Taxi Affiliation                      6270\n",
       "Taxi Medallion License Management     6293\n",
       "Record ID                                0\n",
       "dtype: int64"
      ]
     },
     "execution_count": 17,
     "metadata": {},
     "output_type": "execute_result"
    }
   ],
   "source": [
    "vehicles_df.isnull().sum()"
   ]
  },
  {
   "cell_type": "code",
   "execution_count": 19,
   "metadata": {},
   "outputs": [
    {
     "name": "stderr",
     "output_type": "stream",
     "text": [
      "C:\\Users\\ISURU\\AppData\\Local\\Temp\\ipykernel_22096\\4281867051.py:1: FutureWarning: A value is trying to be set on a copy of a DataFrame or Series through chained assignment using an inplace method.\n",
      "The behavior will change in pandas 3.0. This inplace method will never work because the intermediate object on which we are setting values always behaves as a copy.\n",
      "\n",
      "For example, when doing 'df[col].method(value, inplace=True)', try using 'df.method({col: value}, inplace=True)' or df[col] = df[col].method(value) instead, to perform the operation inplace on the original object.\n",
      "\n",
      "\n",
      "  vehicles_df['Vehicle Model Year'].fillna(0, inplace = True)\n"
     ]
    }
   ],
   "source": [
    "vehicles_df['Vehicle Model Year'].fillna(0, inplace = True)\n",
    "vehicles_df['Vehicle Model Year']=vehicles_df['Vehicle Model Year'].astype(int)"
   ]
  },
  {
   "cell_type": "code",
   "execution_count": 20,
   "metadata": {},
   "outputs": [],
   "source": [
    "vehicles_df.fillna(\"unknown\", inplace = True)"
   ]
  },
  {
   "cell_type": "code",
   "execution_count": 21,
   "metadata": {},
   "outputs": [
    {
     "name": "stdout",
     "output_type": "stream",
     "text": [
      "Outliers:\n",
      "        Unnamed: 0  Public Vehicle Number    Status  Vehicle Make  \\\n",
      "101           584                  50000  INACTIVE  FREIGHTLINER   \n",
      "102           881                  15065  INACTIVE      CHAMPION   \n",
      "104          1422                1000009  INACTIVE      CHAMPION   \n",
      "109          2457                1000013  INACTIVE      CHAMPION   \n",
      "113          3026                  13754  INACTIVE          INTL   \n",
      "...           ...                    ...       ...           ...   \n",
      "7539         1351                     11  INACTIVE         YODER   \n",
      "7542         6393                     48  INACTIVE        MARTIN   \n",
      "7547        12146                     23  INACTIVE        MARTIN   \n",
      "7548        12169                     12  INACTIVE    STUDEBAKER   \n",
      "10117        8009                   5286   REVOKED       unknown   \n",
      "\n",
      "        Vehicle Model  Vehicle Model Year Vehicle Color Vehicle Fuel Source  \\\n",
      "101    X LINE SHUTTLE                2000         GREEN              Diesel   \n",
      "102           TROLLEY                1993        ORANGE              Diesel   \n",
      "104           TROLLEY                2000        MAROON              Diesel   \n",
      "109           TROLLEY                1998           RED              Diesel   \n",
      "113          CARRYALL                1997         WHITE              Diesel   \n",
      "...               ...                 ...           ...                 ...   \n",
      "7539           LANDAU                1989       unknown               Horse   \n",
      "7542        VIS-A-VIS                1995         BLACK               Horse   \n",
      "7547        VIS-A-VIS                1995         BLACK               Horse   \n",
      "7548        VIS-A-VIS                1991       unknown               Horse   \n",
      "10117           CAMRY                2000         WHITE              Hybrid   \n",
      "\n",
      "      Wheelchair Accessible                        Company Name  \\\n",
      "101                       N                         SCT USA INC   \n",
      "102                       N                         SCT USA INC   \n",
      "104                       N                         SCT USA INC   \n",
      "109                       N                         SCT USA INC   \n",
      "113                       N                         SCT USA INC   \n",
      "...                     ...                                 ...   \n",
      "7539                      N         ANTIQUE COACH & CARRIAGE CO   \n",
      "7542                      N  GREAT LAKES HORSE AND CARRIAGE LLC   \n",
      "7547                      N  GREAT LAKES HORSE AND CARRIAGE LLC   \n",
      "7548                      N         ANTIQUE COACH & CARRIAGE CO   \n",
      "10117                     N                    EAGLE TAXI, INC.   \n",
      "\n",
      "                    Address     City State  ZIP Code Taxi Affiliation  \\\n",
      "101       4455 N. KNOX AVE.  CHICAGO    IL   60630.0          unknown   \n",
      "102       4455 N. KNOX AVE.  CHICAGO    IL   60630.0          unknown   \n",
      "104       4455 N. KNOX AVE.  CHICAGO    IL   60630.0          unknown   \n",
      "109       4455 N. KNOX AVE.  CHICAGO    IL   60630.0          unknown   \n",
      "113       4455 N. KNOX AVE.  CHICAGO    IL   60630.0          unknown   \n",
      "...                     ...      ...   ...       ...              ...   \n",
      "7539    1621 W. BERWYN AVE.  CHICAGO    IL   60640.0          unknown   \n",
      "7542   2844 N. HARDING AVE.  CHICAGO    IL   60618.0          unknown   \n",
      "7547   2844 N. HARDING AVE.  CHICAGO    IL   60618.0          unknown   \n",
      "7548    1621 W. BERWYN AVE.  CHICAGO    IL   60640.0          unknown   \n",
      "10117   9696 W. FOSTER AVE.  CHICAGO    IL   60656.0   DIS-AFFILIATED   \n",
      "\n",
      "      Taxi Medallion License Management                    Record ID  \n",
      "101                              unknown    50000Charter Sightseeing  \n",
      "102                              unknown    15065Charter Sightseeing  \n",
      "104                              unknown  1000009Charter Sightseeing  \n",
      "109                              unknown  1000013Charter Sightseeing  \n",
      "113                              unknown    13754Charter Sightseeing  \n",
      "...                                  ...                         ...  \n",
      "7539                             unknown      11Horse Drawn Carriage  \n",
      "7542                             unknown      48Horse Drawn Carriage  \n",
      "7547                             unknown      23Horse Drawn Carriage  \n",
      "7548                             unknown      12Horse Drawn Carriage  \n",
      "10117                      Owner Manager                    5286Taxi  \n",
      "\n",
      "[126 rows x 17 columns]\n"
     ]
    },
    {
     "data": {
      "text/plain": [
       "Vehicle Model Year\n",
       "2023    1395\n",
       "2014    1302\n",
       "2013    1151\n",
       "2012    1040\n",
       "2022     993\n",
       "2019     740\n",
       "2024     708\n",
       "2011     705\n",
       "2015     700\n",
       "2016     669\n",
       "2020     556\n",
       "2021     545\n",
       "2017     487\n",
       "2018     453\n",
       "2010     267\n",
       "2008     167\n",
       "2006     154\n",
       "2007     109\n",
       "2009     107\n",
       "2005      64\n",
       "2001      57\n",
       "2025      50\n",
       "2004      43\n",
       "2002      35\n",
       "2003      29\n",
       "1999      27\n",
       "1997      22\n",
       "2000      20\n",
       "1998      13\n",
       "1996       7\n",
       "1988       5\n",
       "1991       5\n",
       "1992       4\n",
       "1995       4\n",
       "1984       3\n",
       "1993       3\n",
       "1986       2\n",
       "1990       2\n",
       "1994       2\n",
       "1989       2\n",
       "1981       1\n",
       "1983       1\n",
       "1987       1\n",
       "1985       1\n",
       "1980       1\n",
       "Name: count, dtype: int64"
      ]
     },
     "execution_count": 21,
     "metadata": {},
     "output_type": "execute_result"
    }
   ],
   "source": [
    "Q1 = vehicles_df['Vehicle Model Year'].quantile(0.25)\n",
    "Q3 = vehicles_df['Vehicle Model Year'].quantile(0.75)\n",
    "IQR = Q3 - Q1\n",
    "\n",
    "lower_bound = Q1 - 1.5 * IQR\n",
    "upper_bound = Q3 + 1.5 * IQR\n",
    "\n",
    "outliers = vehicles_df[(vehicles_df['Vehicle Model Year'] < lower_bound) | (vehicles_df['Vehicle Model Year'] > upper_bound)]\n",
    "\n",
    "print(\"Outliers:\\n\", outliers)\n",
    "\n",
    "vehicles_df['Vehicle Model Year'].value_counts()"
   ]
  },
  {
   "cell_type": "code",
   "execution_count": 22,
   "metadata": {},
   "outputs": [
    {
     "data": {
      "text/plain": [
       "(12652, 17)"
      ]
     },
     "execution_count": 22,
     "metadata": {},
     "output_type": "execute_result"
    }
   ],
   "source": [
    "vehicles_df.shape"
   ]
  }
 ],
 "metadata": {
  "kernelspec": {
   "display_name": "Python 3",
   "language": "python",
   "name": "python3"
  },
  "language_info": {
   "codemirror_mode": {
    "name": "ipython",
    "version": 3
   },
   "file_extension": ".py",
   "mimetype": "text/x-python",
   "name": "python",
   "nbconvert_exporter": "python",
   "pygments_lexer": "ipython3",
   "version": "3.13.0"
  }
 },
 "nbformat": 4,
 "nbformat_minor": 2
}
