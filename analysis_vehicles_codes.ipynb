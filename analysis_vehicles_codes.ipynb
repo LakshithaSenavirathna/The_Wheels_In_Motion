{
 "cells": [
  {
   "cell_type": "code",
   "execution_count": 2,
   "metadata": {},
   "outputs": [],
   "source": [
    "import pandas as pd \n",
    "import os"
   ]
  },
  {
   "cell_type": "markdown",
   "metadata": {},
   "source": [
    "1. Reading and combining data\n",
    "    Load all 9 CSV files into a list.\n",
    "    Concatenate the files into a single DataFrame, named vehicles_df."
   ]
  },
  {
   "cell_type": "code",
   "execution_count": 3,
   "metadata": {},
   "outputs": [],
   "source": [
    "folder_path= './PassengerVehicle_Stats'\n",
    "dfs=[]\n",
    "files= [f for f in os.listdir(folder_path) if f.endswith('.csv')]\n",
    "\n",
    "for file in files:\n",
    "    file_path = os.path.join(folder_path,file)\n",
    "    df1 = pd.read_csv(file_path)\n",
    "    dfs.append(df1)"
   ]
  },
  {
   "cell_type": "markdown",
   "metadata": {},
   "source": [
    "    Concatenate the files into a single DataFrame, named vehicles_df."
   ]
  },
  {
   "cell_type": "code",
   "execution_count": 4,
   "metadata": {},
   "outputs": [],
   "source": [
    "combine_df = pd.concat(dfs, ignore_index=True)\n",
    "combine_df.to_csv('./vehicles_df.csv', index= False)\n",
    "\n",
    "vehicles_df = pd.read_csv('vehicles_df.csv')\n",
    "\n"
   ]
  },
  {
   "cell_type": "markdown",
   "metadata": {},
   "source": [
    "2. Initial data exploration and cleaning\n",
    "    Examine the DataFrame structure, including its features and data types.\n",
    "    "
   ]
  },
  {
   "cell_type": "code",
   "execution_count": 5,
   "metadata": {},
   "outputs": [
    {
     "name": "stdout",
     "output_type": "stream",
     "text": [
      "<class 'pandas.core.frame.DataFrame'>\n",
      "RangeIndex: 66408 entries, 0 to 66407\n",
      "Data columns (total 17 columns):\n",
      " #   Column                              Non-Null Count  Dtype  \n",
      "---  ------                              --------------  -----  \n",
      " 0   Unnamed: 0                          66408 non-null  int64  \n",
      " 1   Public Vehicle Number               66408 non-null  int64  \n",
      " 2   Status                              66408 non-null  object \n",
      " 3   Vehicle Make                        58740 non-null  object \n",
      " 4   Vehicle Model                       58556 non-null  object \n",
      " 5   Vehicle Model Year                  58640 non-null  float64\n",
      " 6   Vehicle Color                       58464 non-null  object \n",
      " 7   Vehicle Fuel Source                 66408 non-null  object \n",
      " 8   Wheelchair Accessible               66408 non-null  object \n",
      " 9   Company Name                        66408 non-null  object \n",
      " 10  Address                             59264 non-null  object \n",
      " 11  City                                59264 non-null  object \n",
      " 12  State                               59264 non-null  object \n",
      " 13  ZIP Code                            59264 non-null  float64\n",
      " 14  Taxi Affiliation                    29392 non-null  object \n",
      " 15  Taxi Medallion License Management   29284 non-null  object \n",
      " 16  Record ID                           66408 non-null  object \n",
      "dtypes: float64(2), int64(2), object(13)\n",
      "memory usage: 8.6+ MB\n",
      "None\n",
      "   Unnamed: 0  Public Vehicle Number    Status Vehicle Make Vehicle Model  \\\n",
      "0        1286                  12009  RESERVED    CHEVROLET       EXPRESS   \n",
      "1        2095                  12248  INACTIVE     MERCEDES      SPRINTER   \n",
      "2        7950                  13527  INACTIVE     VAN HOOL         TD925   \n",
      "3        8700                  12248  INACTIVE     MERCEDES      SPRINTER   \n",
      "4        9359                  13528  INACTIVE     VAN HOOL         TD925   \n",
      "\n",
      "   Vehicle Model Year Vehicle Color Vehicle Fuel Source Wheelchair Accessible  \\\n",
      "0              2014.0         BLACK          Bio-Diesel                     N   \n",
      "1              2010.0        SILVER          Bio-Diesel                     N   \n",
      "2              2008.0           RED          Bio-Diesel                     N   \n",
      "3              2010.0        SILVER          Bio-Diesel                     N   \n",
      "4              2008.0           RED          Bio-Diesel                     N   \n",
      "\n",
      "                              Company Name                 Address     City  \\\n",
      "0                CHICAGO PRIVATE TOURS LLC  4567 S. OAKENWALD AVE.  CHICAGO   \n",
      "1  O'HARE-MIDWAY LIMOUSINE SERVICE INC # 2       4610 N. CLARK ST.  CHICAGO   \n",
      "2                 TRT TRANSPORTATION, INC.     4400 S. RACINE AVE.  CHICAGO   \n",
      "3  O'HARE-MIDWAY LIMOUSINE SERVICE INC # 2       4610 N. CLARK ST.  CHICAGO   \n",
      "4                 TRT TRANSPORTATION, INC.     4400 S. RACINE AVE.  CHICAGO   \n",
      "\n",
      "  State  ZIP Code Taxi Affiliation Taxi Medallion License Management   \\\n",
      "0    IL   60653.0              NaN                                NaN   \n",
      "1    IL   60640.0              NaN                                NaN   \n",
      "2    IL   60609.0              NaN                                NaN   \n",
      "3    IL   60640.0              NaN                                NaN   \n",
      "4    IL   60609.0              NaN                                NaN   \n",
      "\n",
      "                  Record ID  \n",
      "0  12009Charter Sightseeing  \n",
      "1  12248Charter Sightseeing  \n",
      "2  13527Charter Sightseeing  \n",
      "3  12248Charter Sightseeing  \n",
      "4  13528Charter Sightseeing  \n"
     ]
    }
   ],
   "source": [
    "print(vehicles_df.info())\n",
    "print(vehicles_df.head())"
   ]
  },
  {
   "cell_type": "markdown",
   "metadata": {},
   "source": [
    "Remove any duplicate records."
   ]
  },
  {
   "cell_type": "code",
   "execution_count": 6,
   "metadata": {},
   "outputs": [],
   "source": [
    "vehicles_df_cleaned = vehicles_df.drop_duplicates(subset='Public Vehicle Number', keep='first')"
   ]
  },
  {
   "cell_type": "markdown",
   "metadata": {},
   "source": [
    "Remove null records only if it is required. Provide reasons for your decision."
   ]
  },
  {
   "cell_type": "code",
   "execution_count": 7,
   "metadata": {},
   "outputs": [
    {
     "name": "stdout",
     "output_type": "stream",
     "text": [
      "Unnamed: 0                                0\n",
      "Public Vehicle Number                     0\n",
      "Status                                    0\n",
      "Vehicle Make                           7668\n",
      "Vehicle Model                          7852\n",
      "Vehicle Model Year                     7768\n",
      "Vehicle Color                          7944\n",
      "Vehicle Fuel Source                       0\n",
      "Wheelchair Accessible                     0\n",
      "Company Name                              0\n",
      "Address                                7144\n",
      "City                                   7144\n",
      "State                                  7144\n",
      "ZIP Code                               7144\n",
      "Taxi Affiliation                      37016\n",
      "Taxi Medallion License Management     37124\n",
      "Record ID                                 0\n",
      "dtype: int64\n"
     ]
    },
    {
     "name": "stderr",
     "output_type": "stream",
     "text": [
      "C:\\Users\\DELL\\AppData\\Local\\Temp\\ipykernel_1064\\1287661604.py:2: SettingWithCopyWarning: \n",
      "A value is trying to be set on a copy of a slice from a DataFrame\n",
      "\n",
      "See the caveats in the documentation: https://pandas.pydata.org/pandas-docs/stable/user_guide/indexing.html#returning-a-view-versus-a-copy\n",
      "  vehicles_df_cleaned.dropna(subset=['Vehicle Make', 'Vehicle Model', 'Taxi Affiliation'], inplace=True)\n"
     ]
    }
   ],
   "source": [
    "print(vehicles_df.isnull().sum())\n",
    "vehicles_df_cleaned.dropna(subset=['Vehicle Make', 'Vehicle Model', 'Taxi Affiliation'], inplace=True)"
   ]
  },
  {
   "cell_type": "markdown",
   "metadata": {},
   "source": []
  },
  {
   "cell_type": "code",
   "execution_count": 8,
   "metadata": {},
   "outputs": [
    {
     "name": "stderr",
     "output_type": "stream",
     "text": [
      "C:\\Users\\DELL\\AppData\\Local\\Temp\\ipykernel_1064\\1922571449.py:1: SettingWithCopyWarning: \n",
      "A value is trying to be set on a copy of a slice from a DataFrame\n",
      "\n",
      "See the caveats in the documentation: https://pandas.pydata.org/pandas-docs/stable/user_guide/indexing.html#returning-a-view-versus-a-copy\n",
      "  vehicles_df_cleaned.dropna(subset=['Vehicle Make', 'Vehicle Model', 'Taxi Affiliation'], inplace=True)\n"
     ]
    }
   ],
   "source": [
    "vehicles_df_cleaned.dropna(subset=['Vehicle Make', 'Vehicle Model', 'Taxi Affiliation'], inplace=True)\n"
   ]
  },
  {
   "cell_type": "markdown",
   "metadata": {},
   "source": [
    "3. Handle outliers and missing values\n",
    "    Perform outlier removal and missing value imputation only if necessary.\n",
    "    State the reason for any such actions (you can state the reasons within the notebook)."
   ]
  },
  {
   "cell_type": "markdown",
   "metadata": {},
   "source": [
    "4. Adding new columns to the Dataframe\n",
    " Vehicle Type\n",
    "    A string column indicating the type of the public passenger vehicle.\n",
    "    Hint: Extract this information from the “Record ID” column. It is a combination of vehicle type and the public vehicle number."
   ]
  },
  {
   "cell_type": "code",
   "execution_count": 9,
   "metadata": {},
   "outputs": [
    {
     "name": "stderr",
     "output_type": "stream",
     "text": [
      "C:\\Users\\DELL\\AppData\\Local\\Temp\\ipykernel_1064\\528675509.py:12: SettingWithCopyWarning: \n",
      "A value is trying to be set on a copy of a slice from a DataFrame.\n",
      "Try using .loc[row_indexer,col_indexer] = value instead\n",
      "\n",
      "See the caveats in the documentation: https://pandas.pydata.org/pandas-docs/stable/user_guide/indexing.html#returning-a-view-versus-a-copy\n",
      "  vehicles_df_cleaned['Vehicle Type'] = vehicles_df_cleaned['Record ID'].apply(categorize_vehicle_type)\n"
     ]
    }
   ],
   "source": [
    "def categorize_vehicle_type(record_id):\n",
    "    if 'Charter' in record_id:\n",
    "        return 'Charter'\n",
    "    elif 'Medicar' in record_id:\n",
    "        return 'Medicar'\n",
    "    elif 'Taxi' in record_id:\n",
    "        return 'Taxi'\n",
    "    else:\n",
    "        return 'Other'\n",
    "\n",
    "# Apply the function to create a new column for Vehicle Type\n",
    "vehicles_df_cleaned['Vehicle Type'] = vehicles_df_cleaned['Record ID'].apply(categorize_vehicle_type)\n"
   ]
  },
  {
   "cell_type": "markdown",
   "metadata": {},
   "source": [
    "5. Column Removal\n",
    "    Drop the columns “Address” and “Public Vehicle Number”."
   ]
  },
  {
   "cell_type": "code",
   "execution_count": 10,
   "metadata": {},
   "outputs": [
    {
     "name": "stderr",
     "output_type": "stream",
     "text": [
      "C:\\Users\\DELL\\AppData\\Local\\Temp\\ipykernel_1064\\194788138.py:1: SettingWithCopyWarning: \n",
      "A value is trying to be set on a copy of a slice from a DataFrame\n",
      "\n",
      "See the caveats in the documentation: https://pandas.pydata.org/pandas-docs/stable/user_guide/indexing.html#returning-a-view-versus-a-copy\n",
      "  vehicles_df_cleaned.drop(columns=['Address', 'Public Vehicle Number'], inplace=True)\n"
     ]
    }
   ],
   "source": [
    "vehicles_df_cleaned.drop(columns=['Address', 'Public Vehicle Number'], inplace=True)"
   ]
  },
  {
   "cell_type": "code",
   "execution_count": 11,
   "metadata": {},
   "outputs": [
    {
     "name": "stdout",
     "output_type": "stream",
     "text": [
      "<class 'pandas.core.frame.DataFrame'>\n",
      "Index: 6381 entries, 36 to 16413\n",
      "Data columns (total 16 columns):\n",
      " #   Column                              Non-Null Count  Dtype  \n",
      "---  ------                              --------------  -----  \n",
      " 0   Unnamed: 0                          6381 non-null   int64  \n",
      " 1   Status                              6381 non-null   object \n",
      " 2   Vehicle Make                        6381 non-null   object \n",
      " 3   Vehicle Model                       6381 non-null   object \n",
      " 4   Vehicle Model Year                  6381 non-null   float64\n",
      " 5   Vehicle Color                       6381 non-null   object \n",
      " 6   Vehicle Fuel Source                 6381 non-null   object \n",
      " 7   Wheelchair Accessible               6381 non-null   object \n",
      " 8   Company Name                        6381 non-null   object \n",
      " 9   City                                6381 non-null   object \n",
      " 10  State                               6381 non-null   object \n",
      " 11  ZIP Code                            6381 non-null   float64\n",
      " 12  Taxi Affiliation                    6381 non-null   object \n",
      " 13  Taxi Medallion License Management   6354 non-null   object \n",
      " 14  Record ID                           6381 non-null   object \n",
      " 15  Vehicle Type                        6381 non-null   object \n",
      "dtypes: float64(2), int64(1), object(13)\n",
      "memory usage: 847.5+ KB\n",
      "None\n",
      "    Unnamed: 0     Status Vehicle Make Vehicle Model  Vehicle Model Year  \\\n",
      "36         959  VIOLATION          VPG          MV-1              2012.0   \n",
      "37        1230  VIOLATION          VPG          MV-1              2012.0   \n",
      "38        1307  VIOLATION          VPG          MV-1              2012.0   \n",
      "40        1591    REVOKED          VPG          MV-1              2011.0   \n",
      "41        1613    REVOKED        DODGE       CARAVAN              2011.0   \n",
      "\n",
      "   Vehicle Color     Vehicle Fuel Source Wheelchair Accessible  \\\n",
      "36         WHITE  Compressed Natural Gas                     N   \n",
      "37         WHITE  Compressed Natural Gas                     N   \n",
      "38         WHITE  Compressed Natural Gas                     Y   \n",
      "40         WHITE  Compressed Natural Gas                     N   \n",
      "41         WHITE  Compressed Natural Gas                     N   \n",
      "\n",
      "                        Company Name     City State  ZIP Code  \\\n",
      "36  MEDALLION FUNDING CHICAGO CORP V  CHICAGO    IL   60616.0   \n",
      "37                      AMBROSLY INC  CHICAGO    IL   60641.0   \n",
      "38                GEM AND R CAB CORP  CHICAGO    IL   60616.0   \n",
      "40     DESIREE AND MONIQUE CAB CORP.  CHICAGO    IL   60641.0   \n",
      "41               WEST END TAXI CORP.  CHICAGO    IL   60656.0   \n",
      "\n",
      "       Taxi Affiliation Taxi Medallion License Management  Record ID  \\\n",
      "36  EXPIRED AFFILIATION                      Owner Manager   256Taxi   \n",
      "37       DIS-AFFILIATED                      Owner Manager  1616Taxi   \n",
      "38  EXPIRED AFFILIATION                      Owner Manager  4796Taxi   \n",
      "40       DIS-AFFILIATED                      Owner Manager  5160Taxi   \n",
      "41       DIS-AFFILIATED                      Owner Manager  1803Taxi   \n",
      "\n",
      "   Vehicle Type  \n",
      "36         Taxi  \n",
      "37         Taxi  \n",
      "38         Taxi  \n",
      "40         Taxi  \n",
      "41         Taxi  \n"
     ]
    }
   ],
   "source": [
    "print(vehicles_df_cleaned.info())\n",
    "print(vehicles_df_cleaned.head())"
   ]
  },
  {
   "cell_type": "code",
   "execution_count": 12,
   "metadata": {},
   "outputs": [
    {
     "data": {
      "text/plain": [
       "Unnamed: 0                            6381\n",
       "Status                                   6\n",
       "Vehicle Make                            22\n",
       "Vehicle Model                           79\n",
       "Vehicle Model Year                      19\n",
       "Vehicle Color                           47\n",
       "Vehicle Fuel Source                      5\n",
       "Wheelchair Accessible                    2\n",
       "Company Name                          4100\n",
       "City                                     6\n",
       "State                                    1\n",
       "ZIP Code                                52\n",
       "Taxi Affiliation                        24\n",
       "Taxi Medallion License Management       10\n",
       "Record ID                             6381\n",
       "Vehicle Type                             2\n",
       "dtype: int64"
      ]
     },
     "execution_count": 12,
     "metadata": {},
     "output_type": "execute_result"
    }
   ],
   "source": [
    "vehicles_df_cleaned.nunique()"
   ]
  },
  {
   "cell_type": "code",
   "execution_count": 13,
   "metadata": {},
   "outputs": [
    {
     "data": {
      "text/plain": [
       "(6381, 16)"
      ]
     },
     "execution_count": 13,
     "metadata": {},
     "output_type": "execute_result"
    }
   ],
   "source": [
    "vehicles_df_cleaned.shape"
   ]
  },
  {
   "cell_type": "code",
   "execution_count": null,
   "metadata": {},
   "outputs": [],
   "source": []
  }
 ],
 "metadata": {
  "kernelspec": {
   "display_name": "base",
   "language": "python",
   "name": "python3"
  },
  "language_info": {
   "codemirror_mode": {
    "name": "ipython",
    "version": 3
   },
   "file_extension": ".py",
   "mimetype": "text/x-python",
   "name": "python",
   "nbconvert_exporter": "python",
   "pygments_lexer": "ipython3",
   "version": "3.12.7"
  }
 },
 "nbformat": 4,
 "nbformat_minor": 2
}
