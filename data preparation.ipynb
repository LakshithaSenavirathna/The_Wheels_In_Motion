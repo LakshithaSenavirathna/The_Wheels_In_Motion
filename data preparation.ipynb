{
 "cells": [
  {
   "cell_type": "markdown",
   "metadata": {},
   "source": [
    "- Import necessary libraries: pandas for data manipulation, and os for operating system related functionalities."
   ]
  },
  {
   "cell_type": "code",
   "execution_count": 326,
   "metadata": {},
   "outputs": [],
   "source": [
    "import pandas as pd \n",
    "import os"
   ]
  },
  {
   "cell_type": "markdown",
   "metadata": {},
   "source": [
    "- Reading and combining data\n",
    "   - Load all 9 CSV files into a list."
   ]
  },
  {
   "cell_type": "code",
   "execution_count": 327,
   "metadata": {},
   "outputs": [],
   "source": [
    "folder_path= './PassengerVehicle_Stats'\n",
    "dfs=[]\n",
    "files= [f for f in os.listdir(folder_path) if f.endswith('.csv')]\n",
    "\n",
    "for file in files:\n",
    "    file_path = os.path.join(folder_path,file)\n",
    "    df1 = pd.read_csv(file_path)\n",
    "    dfs.append(df1)"
   ]
  },
  {
   "cell_type": "markdown",
   "metadata": {},
   "source": [
    "- Concatenate the files into a single DataFrame, named vehicles_df."
   ]
  },
  {
   "cell_type": "code",
   "execution_count": 328,
   "metadata": {},
   "outputs": [],
   "source": [
    "combine_df = pd.concat(dfs, ignore_index=True)\n",
    "combine_df.to_csv('./vehicles_df.csv', index= False)\n",
    "\n",
    "vehicles_df = pd.read_csv('vehicles_df.csv')\n",
    "\n"
   ]
  },
  {
   "cell_type": "markdown",
   "metadata": {},
   "source": [
    "- Initial data exploration and cleaning\n",
    "    - Examine the DataFrame structure, including its features and data types."
   ]
  },
  {
   "cell_type": "code",
   "execution_count": 329,
   "metadata": {},
   "outputs": [
    {
     "name": "stdout",
     "output_type": "stream",
     "text": [
      "<class 'pandas.core.frame.DataFrame'>\n",
      "RangeIndex: 16602 entries, 0 to 16601\n",
      "Data columns (total 17 columns):\n",
      " #   Column                              Non-Null Count  Dtype  \n",
      "---  ------                              --------------  -----  \n",
      " 0   Unnamed: 0                          16602 non-null  int64  \n",
      " 1   Public Vehicle Number               16602 non-null  int64  \n",
      " 2   Status                              16602 non-null  object \n",
      " 3   Vehicle Make                        14685 non-null  object \n",
      " 4   Vehicle Model                       14639 non-null  object \n",
      " 5   Vehicle Model Year                  14660 non-null  float64\n",
      " 6   Vehicle Color                       14616 non-null  object \n",
      " 7   Vehicle Fuel Source                 16602 non-null  object \n",
      " 8   Wheelchair Accessible               16602 non-null  object \n",
      " 9   Company Name                        16602 non-null  object \n",
      " 10  Address                             14816 non-null  object \n",
      " 11  City                                14816 non-null  object \n",
      " 12  State                               14816 non-null  object \n",
      " 13  ZIP Code                            14816 non-null  float64\n",
      " 14  Taxi Affiliation                    7348 non-null   object \n",
      " 15  Taxi Medallion License Management   7321 non-null   object \n",
      " 16  Record ID                           16602 non-null  object \n",
      "dtypes: float64(2), int64(2), object(13)\n",
      "memory usage: 2.2+ MB\n",
      "None\n",
      "   Unnamed: 0  Public Vehicle Number    Status Vehicle Make Vehicle Model  \\\n",
      "0        1286                  12009  RESERVED    CHEVROLET       EXPRESS   \n",
      "1        2095                  12248  INACTIVE     MERCEDES      SPRINTER   \n",
      "2        7950                  13527  INACTIVE     VAN HOOL         TD925   \n",
      "3        8700                  12248  INACTIVE     MERCEDES      SPRINTER   \n",
      "4        9359                  13528  INACTIVE     VAN HOOL         TD925   \n",
      "\n",
      "   Vehicle Model Year Vehicle Color Vehicle Fuel Source Wheelchair Accessible  \\\n",
      "0              2014.0         BLACK          Bio-Diesel                     N   \n",
      "1              2010.0        SILVER          Bio-Diesel                     N   \n",
      "2              2008.0           RED          Bio-Diesel                     N   \n",
      "3              2010.0        SILVER          Bio-Diesel                     N   \n",
      "4              2008.0           RED          Bio-Diesel                     N   \n",
      "\n",
      "                              Company Name                 Address     City  \\\n",
      "0                CHICAGO PRIVATE TOURS LLC  4567 S. OAKENWALD AVE.  CHICAGO   \n",
      "1  O'HARE-MIDWAY LIMOUSINE SERVICE INC # 2       4610 N. CLARK ST.  CHICAGO   \n",
      "2                 TRT TRANSPORTATION, INC.     4400 S. RACINE AVE.  CHICAGO   \n",
      "3  O'HARE-MIDWAY LIMOUSINE SERVICE INC # 2       4610 N. CLARK ST.  CHICAGO   \n",
      "4                 TRT TRANSPORTATION, INC.     4400 S. RACINE AVE.  CHICAGO   \n",
      "\n",
      "  State  ZIP Code Taxi Affiliation Taxi Medallion License Management   \\\n",
      "0    IL   60653.0              NaN                                NaN   \n",
      "1    IL   60640.0              NaN                                NaN   \n",
      "2    IL   60609.0              NaN                                NaN   \n",
      "3    IL   60640.0              NaN                                NaN   \n",
      "4    IL   60609.0              NaN                                NaN   \n",
      "\n",
      "                  Record ID  \n",
      "0  12009Charter Sightseeing  \n",
      "1  12248Charter Sightseeing  \n",
      "2  13527Charter Sightseeing  \n",
      "3  12248Charter Sightseeing  \n",
      "4  13528Charter Sightseeing  \n"
     ]
    }
   ],
   "source": [
    "print(vehicles_df.info())\n",
    "print(vehicles_df.head())"
   ]
  },
  {
   "cell_type": "markdown",
   "metadata": {},
   "source": [
    "- Examine the DataFrame structure."
   ]
  },
  {
   "cell_type": "code",
   "execution_count": 330,
   "metadata": {},
   "outputs": [
    {
     "data": {
      "text/plain": [
       "(16602, 17)"
      ]
     },
     "execution_count": 330,
     "metadata": {},
     "output_type": "execute_result"
    }
   ],
   "source": [
    "vehicles_df.shape"
   ]
  },
  {
   "cell_type": "markdown",
   "metadata": {},
   "source": [
    "- Remove any duplicate records."
   ]
  },
  {
   "cell_type": "code",
   "execution_count": 331,
   "metadata": {},
   "outputs": [],
   "source": [
    "vehicles_df_cleaned = vehicles_df.drop_duplicates(subset='Record ID', keep='first')"
   ]
  },
  {
   "cell_type": "markdown",
   "metadata": {},
   "source": [
    "- Examine the DataFrame structure after removing the duplicates."
   ]
  },
  {
   "cell_type": "code",
   "execution_count": 332,
   "metadata": {},
   "outputs": [
    {
     "data": {
      "text/plain": [
       "(15667, 17)"
      ]
     },
     "execution_count": 332,
     "metadata": {},
     "output_type": "execute_result"
    }
   ],
   "source": [
    "vehicles_df_cleaned.shape"
   ]
  },
  {
   "cell_type": "markdown",
   "metadata": {},
   "source": [
    "- Checking for null values for each of the columns."
   ]
  },
  {
   "cell_type": "code",
   "execution_count": 333,
   "metadata": {},
   "outputs": [
    {
     "data": {
      "text/plain": [
       "Unnamed: 0                               0\n",
       "Public Vehicle Number                    0\n",
       "Status                                   0\n",
       "Vehicle Make                          1816\n",
       "Vehicle Model                         1859\n",
       "Vehicle Model Year                    1841\n",
       "Vehicle Color                         1883\n",
       "Vehicle Fuel Source                      0\n",
       "Wheelchair Accessible                    0\n",
       "Company Name                             0\n",
       "Address                               1694\n",
       "City                                  1694\n",
       "State                                 1694\n",
       "ZIP Code                              1694\n",
       "Taxi Affiliation                      8710\n",
       "Taxi Medallion License Management     8736\n",
       "Record ID                                0\n",
       "dtype: int64"
      ]
     },
     "execution_count": 333,
     "metadata": {},
     "output_type": "execute_result"
    }
   ],
   "source": [
    "vehicles_df_cleaned.isnull().sum()"
   ]
  },
  {
   "cell_type": "markdown",
   "metadata": {},
   "source": [
    "- Remove null records for the 'Address', 'city', 'state', and 'ZIP Code' columns. \n",
    "  - Reasons for removing null records - There are same number of entries are missing in these 4 columns and those are in same entries."
   ]
  },
  {
   "cell_type": "code",
   "execution_count": 334,
   "metadata": {},
   "outputs": [
    {
     "name": "stderr",
     "output_type": "stream",
     "text": [
      "C:\\Users\\DELL\\AppData\\Local\\Temp\\ipykernel_17816\\2284951951.py:3: SettingWithCopyWarning: \n",
      "A value is trying to be set on a copy of a slice from a DataFrame\n",
      "\n",
      "See the caveats in the documentation: https://pandas.pydata.org/pandas-docs/stable/user_guide/indexing.html#returning-a-view-versus-a-copy\n",
      "  vehicles_df_cleaned.dropna(subset=columns_to_check, inplace=True)\n"
     ]
    }
   ],
   "source": [
    "columns_to_check = ['Address', 'City', 'State','ZIP Code']\n",
    "\n",
    "vehicles_df_cleaned.dropna(subset=columns_to_check, inplace=True)\n"
   ]
  },
  {
   "cell_type": "markdown",
   "metadata": {},
   "source": [
    "- Checking for null values for each column after filtering."
   ]
  },
  {
   "cell_type": "code",
   "execution_count": 335,
   "metadata": {},
   "outputs": [
    {
     "data": {
      "text/plain": [
       "Unnamed: 0                               0\n",
       "Public Vehicle Number                    0\n",
       "Status                                   0\n",
       "Vehicle Make                           128\n",
       "Vehicle Model                          171\n",
       "Vehicle Model Year                     153\n",
       "Vehicle Color                          195\n",
       "Vehicle Fuel Source                      0\n",
       "Wheelchair Accessible                    0\n",
       "Company Name                             0\n",
       "Address                                  0\n",
       "City                                     0\n",
       "State                                    0\n",
       "ZIP Code                                 0\n",
       "Taxi Affiliation                      7016\n",
       "Taxi Medallion License Management     7042\n",
       "Record ID                                0\n",
       "dtype: int64"
      ]
     },
     "execution_count": 335,
     "metadata": {},
     "output_type": "execute_result"
    }
   ],
   "source": [
    "vehicles_df_cleaned.isnull().sum()"
   ]
  },
  {
   "cell_type": "markdown",
   "metadata": {},
   "source": [
    "- Filling NaN values in 'Vehicle Model Year' with 0 and convert the column to integer type."
   ]
  },
  {
   "cell_type": "code",
   "execution_count": 336,
   "metadata": {},
   "outputs": [
    {
     "name": "stderr",
     "output_type": "stream",
     "text": [
      "C:\\Users\\DELL\\AppData\\Local\\Temp\\ipykernel_17816\\316356643.py:1: FutureWarning: A value is trying to be set on a copy of a DataFrame or Series through chained assignment using an inplace method.\n",
      "The behavior will change in pandas 3.0. This inplace method will never work because the intermediate object on which we are setting values always behaves as a copy.\n",
      "\n",
      "For example, when doing 'df[col].method(value, inplace=True)', try using 'df.method({col: value}, inplace=True)' or df[col] = df[col].method(value) instead, to perform the operation inplace on the original object.\n",
      "\n",
      "\n",
      "  vehicles_df_cleaned['Vehicle Model Year'].fillna(0, inplace = True)\n",
      "C:\\Users\\DELL\\AppData\\Local\\Temp\\ipykernel_17816\\316356643.py:1: SettingWithCopyWarning: \n",
      "A value is trying to be set on a copy of a slice from a DataFrame\n",
      "\n",
      "See the caveats in the documentation: https://pandas.pydata.org/pandas-docs/stable/user_guide/indexing.html#returning-a-view-versus-a-copy\n",
      "  vehicles_df_cleaned['Vehicle Model Year'].fillna(0, inplace = True)\n",
      "C:\\Users\\DELL\\AppData\\Local\\Temp\\ipykernel_17816\\316356643.py:2: SettingWithCopyWarning: \n",
      "A value is trying to be set on a copy of a slice from a DataFrame.\n",
      "Try using .loc[row_indexer,col_indexer] = value instead\n",
      "\n",
      "See the caveats in the documentation: https://pandas.pydata.org/pandas-docs/stable/user_guide/indexing.html#returning-a-view-versus-a-copy\n",
      "  vehicles_df_cleaned['Vehicle Model Year']=vehicles_df_cleaned['Vehicle Model Year'].astype(int)\n"
     ]
    }
   ],
   "source": [
    "vehicles_df_cleaned['Vehicle Model Year'].fillna(0, inplace = True)\n",
    "vehicles_df_cleaned['Vehicle Model Year']=vehicles_df_cleaned['Vehicle Model Year'].astype(int)\n"
   ]
  },
  {
   "cell_type": "markdown",
   "metadata": {},
   "source": [
    "- Filling NaN values in the DataFrame with \"unknown\"."
   ]
  },
  {
   "cell_type": "code",
   "execution_count": 337,
   "metadata": {},
   "outputs": [
    {
     "name": "stderr",
     "output_type": "stream",
     "text": [
      "C:\\Users\\DELL\\AppData\\Local\\Temp\\ipykernel_17816\\4265509047.py:1: SettingWithCopyWarning: \n",
      "A value is trying to be set on a copy of a slice from a DataFrame\n",
      "\n",
      "See the caveats in the documentation: https://pandas.pydata.org/pandas-docs/stable/user_guide/indexing.html#returning-a-view-versus-a-copy\n",
      "  vehicles_df_cleaned.fillna(\"unknown\", inplace = True)\n"
     ]
    }
   ],
   "source": [
    "vehicles_df_cleaned.fillna(\"unknown\", inplace = True)"
   ]
  },
  {
   "cell_type": "markdown",
   "metadata": {},
   "source": [
    "- Descriptive statistics of the 'Vehicle Model Year' column after cleaning.\n"
   ]
  },
  {
   "cell_type": "code",
   "execution_count": 338,
   "metadata": {},
   "outputs": [
    {
     "data": {
      "text/plain": [
       "count    13973.000000\n",
       "mean      1990.866671\n",
       "std        224.386734\n",
       "min          0.000000\n",
       "25%       2013.000000\n",
       "50%       2016.000000\n",
       "75%       2021.000000\n",
       "max       2025.000000\n",
       "Name: Vehicle Model Year, dtype: float64"
      ]
     },
     "execution_count": 338,
     "metadata": {},
     "output_type": "execute_result"
    }
   ],
   "source": [
    "vehicles_df_cleaned['Vehicle Model Year'].describe()"
   ]
  },
  {
   "cell_type": "markdown",
   "metadata": {},
   "source": [
    "- Checking outliers of the 'Vehicle Model Year' column and filtering the dataframe."
   ]
  },
  {
   "cell_type": "code",
   "execution_count": 339,
   "metadata": {},
   "outputs": [
    {
     "name": "stdout",
     "output_type": "stream",
     "text": [
      "Outliers:\n",
      "        Unnamed: 0  Public Vehicle Number     Status  Vehicle Make  \\\n",
      "106           584                  50000   INACTIVE  FREIGHTLINER   \n",
      "107           881                  15065   INACTIVE      CHAMPION   \n",
      "109          1422                1000009   INACTIVE      CHAMPION   \n",
      "114          2457                1000013   INACTIVE      CHAMPION   \n",
      "118          3026                  13754   INACTIVE          INTL   \n",
      "...           ...                    ...        ...           ...   \n",
      "16562       14215                     75  VIOLATION    MAINSTREET   \n",
      "16573       14920                     66  VIOLATION    MAINSTREET   \n",
      "16585       15509                     68  VIOLATION    MAINSTREET   \n",
      "16588       15738                    102  SURRENDER         TIPKE   \n",
      "16599       16216                     70  VIOLATION    MAINSTREET   \n",
      "\n",
      "        Vehicle Model  Vehicle Model Year Vehicle Color Vehicle Fuel Source  \\\n",
      "106    X LINE SHUTTLE                2000         GREEN              Diesel   \n",
      "107           TROLLEY                1993        ORANGE              Diesel   \n",
      "109           TROLLEY                2000        MAROON              Diesel   \n",
      "114           TROLLEY                1998           RED              Diesel   \n",
      "118          CARRYALL                1997         WHITE              Diesel   \n",
      "...               ...                 ...           ...                 ...   \n",
      "16562         CLASSIC                   0     RED/BLACK               Pedal   \n",
      "16573         CLASSIC                   0     RED/BLACK               Pedal   \n",
      "16585         CLASSIC                   0     RED/BLACK               Pedal   \n",
      "16588           SUPER                1985        SILVER               Pedal   \n",
      "16599         CLASSIC                   0     RED/BLACK               Pedal   \n",
      "\n",
      "      Wheelchair Accessible                 Company Name  \\\n",
      "106                       N                  SCT USA INC   \n",
      "107                       N                  SCT USA INC   \n",
      "109                       N                  SCT USA INC   \n",
      "114                       N                  SCT USA INC   \n",
      "118                       N                  SCT USA INC   \n",
      "...                     ...                          ...   \n",
      "16562                     N           EMPIRE PEDICAB LLC   \n",
      "16573                     N           EMPIRE PEDICAB LLC   \n",
      "16585                     N           EMPIRE PEDICAB LLC   \n",
      "16588                     N  AMANDA GRACE O'BRIEN-HICKEY   \n",
      "16599                     N           EMPIRE PEDICAB LLC   \n",
      "\n",
      "                      Address     City State  ZIP Code Taxi Affiliation  \\\n",
      "106         4455 N. KNOX AVE.  CHICAGO    IL   60630.0          unknown   \n",
      "107         4455 N. KNOX AVE.  CHICAGO    IL   60630.0          unknown   \n",
      "109         4455 N. KNOX AVE.  CHICAGO    IL   60630.0          unknown   \n",
      "114         4455 N. KNOX AVE.  CHICAGO    IL   60630.0          unknown   \n",
      "118         4455 N. KNOX AVE.  CHICAGO    IL   60630.0          unknown   \n",
      "...                       ...      ...   ...       ...              ...   \n",
      "16562        318 W. ADAMS ST.  CHICAGO    IL   60606.0          unknown   \n",
      "16573        318 W. ADAMS ST.  CHICAGO    IL   60606.0          unknown   \n",
      "16585        318 W. ADAMS ST.  CHICAGO    IL   60606.0          unknown   \n",
      "16588  637 N. CHRISTIANA AVE.  CHICAGO    IL   60624.0          unknown   \n",
      "16599        318 W. ADAMS ST.  CHICAGO    IL   60606.0          unknown   \n",
      "\n",
      "      Taxi Medallion License Management                    Record ID  \n",
      "106                              unknown    50000Charter Sightseeing  \n",
      "107                              unknown    15065Charter Sightseeing  \n",
      "109                              unknown  1000009Charter Sightseeing  \n",
      "114                              unknown  1000013Charter Sightseeing  \n",
      "118                              unknown    13754Charter Sightseeing  \n",
      "...                                  ...                         ...  \n",
      "16562                            unknown                   75Pedicab  \n",
      "16573                            unknown                   66Pedicab  \n",
      "16585                            unknown                   68Pedicab  \n",
      "16588                            unknown                  102Pedicab  \n",
      "16599                            unknown                   70Pedicab  \n",
      "\n",
      "[329 rows x 17 columns]\n"
     ]
    },
    {
     "data": {
      "text/plain": [
       "Vehicle Model Year\n",
       "2014    1444\n",
       "2023    1439\n",
       "2013    1273\n",
       "2012    1142\n",
       "2022    1051\n",
       "2019     794\n",
       "2011     770\n",
       "2015     768\n",
       "2016     744\n",
       "2024     734\n",
       "2020     599\n",
       "2021     571\n",
       "2017     546\n",
       "2018     533\n",
       "2010     309\n",
       "2008     182\n",
       "2006     175\n",
       "2009     124\n",
       "2007     122\n",
       "2005      75\n",
       "2004      60\n",
       "2001      60\n",
       "2025      53\n",
       "2003      40\n",
       "2002      36\n",
       "1999      35\n",
       "1997      26\n",
       "2000      21\n",
       "1998      14\n",
       "1996       9\n",
       "1984       7\n",
       "1995       6\n",
       "1991       5\n",
       "1988       5\n",
       "1992       4\n",
       "1981       3\n",
       "1990       3\n",
       "1994       3\n",
       "1993       3\n",
       "1986       2\n",
       "1989       2\n",
       "1985       2\n",
       "1983       1\n",
       "1987       1\n",
       "1980       1\n",
       "Name: count, dtype: int64"
      ]
     },
     "execution_count": 339,
     "metadata": {},
     "output_type": "execute_result"
    }
   ],
   "source": [
    "Q1 = vehicles_df_cleaned['Vehicle Model Year'].quantile(0.25)\n",
    "Q3 = vehicles_df_cleaned['Vehicle Model Year'].quantile(0.75)\n",
    "IQR = Q3 - Q1\n",
    "\n",
    "lower_bound = Q1 - 1.5 * IQR\n",
    "upper_bound = Q3 + 1.5 * IQR\n",
    "\n",
    "outliers = vehicles_df_cleaned[(vehicles_df_cleaned['Vehicle Model Year'] < lower_bound) | (vehicles_df_cleaned['Vehicle Model Year'] > upper_bound)]\n",
    "\n",
    "print(\"Outliers:\\n\", outliers)\n",
    "\n",
    "df['Vehicle Model Year'].value_counts()"
   ]
  },
  {
   "cell_type": "code",
   "execution_count": 340,
   "metadata": {},
   "outputs": [
    {
     "data": {
      "text/plain": [
       "(13973, 17)"
      ]
     },
     "execution_count": 340,
     "metadata": {},
     "output_type": "execute_result"
    }
   ],
   "source": [
    "vehicles_df_cleaned.shape"
   ]
  },
  {
   "cell_type": "markdown",
   "metadata": {},
   "source": [
    "- Descriptive statistics of the 'Vehicle Model Year' column after removing outliers.\n"
   ]
  },
  {
   "cell_type": "code",
   "execution_count": 341,
   "metadata": {},
   "outputs": [
    {
     "data": {
      "text/plain": [
       "count    13797.000000\n",
       "mean      2016.175763\n",
       "std          5.510874\n",
       "min       1980.000000\n",
       "25%       2013.000000\n",
       "50%       2016.000000\n",
       "75%       2021.000000\n",
       "max       2025.000000\n",
       "Name: Vehicle Model Year, dtype: float64"
      ]
     },
     "execution_count": 341,
     "metadata": {},
     "output_type": "execute_result"
    }
   ],
   "source": [
    "filtered_df_cleaned['Vehicle Model Year'].describe()"
   ]
  },
  {
   "cell_type": "markdown",
   "metadata": {},
   "source": [
    "- Adding a new column 'Vehicle Type' to the Dataframe."
   ]
  },
  {
   "cell_type": "code",
   "execution_count": 342,
   "metadata": {},
   "outputs": [
    {
     "data": {
      "text/html": [
       "<div>\n",
       "<style scoped>\n",
       "    .dataframe tbody tr th:only-of-type {\n",
       "        vertical-align: middle;\n",
       "    }\n",
       "\n",
       "    .dataframe tbody tr th {\n",
       "        vertical-align: top;\n",
       "    }\n",
       "\n",
       "    .dataframe thead th {\n",
       "        text-align: right;\n",
       "    }\n",
       "</style>\n",
       "<table border=\"1\" class=\"dataframe\">\n",
       "  <thead>\n",
       "    <tr style=\"text-align: right;\">\n",
       "      <th></th>\n",
       "      <th>Vehicle Model</th>\n",
       "      <th>Vehicle Model Year</th>\n",
       "      <th>Vehicle Color</th>\n",
       "      <th>Vehicle Fuel Source</th>\n",
       "      <th>Wheelchair Accessible</th>\n",
       "      <th>Company Name</th>\n",
       "      <th>City</th>\n",
       "      <th>State</th>\n",
       "      <th>ZIP Code</th>\n",
       "      <th>Taxi Affiliation</th>\n",
       "      <th>Taxi Medallion License Management</th>\n",
       "      <th>Record ID</th>\n",
       "      <th>Vehicle Type</th>\n",
       "    </tr>\n",
       "  </thead>\n",
       "  <tbody>\n",
       "    <tr>\n",
       "      <th>0</th>\n",
       "      <td>EXPRESS</td>\n",
       "      <td>2014</td>\n",
       "      <td>BLACK</td>\n",
       "      <td>Bio-Diesel</td>\n",
       "      <td>N</td>\n",
       "      <td>CHICAGO PRIVATE TOURS LLC</td>\n",
       "      <td>CHICAGO</td>\n",
       "      <td>IL</td>\n",
       "      <td>60653.0</td>\n",
       "      <td>unknown</td>\n",
       "      <td>unknown</td>\n",
       "      <td>12009Charter Sightseeing</td>\n",
       "      <td>Charter Sightseeing</td>\n",
       "    </tr>\n",
       "    <tr>\n",
       "      <th>1</th>\n",
       "      <td>SPRINTER</td>\n",
       "      <td>2010</td>\n",
       "      <td>SILVER</td>\n",
       "      <td>Bio-Diesel</td>\n",
       "      <td>N</td>\n",
       "      <td>O'HARE-MIDWAY LIMOUSINE SERVICE INC # 2</td>\n",
       "      <td>CHICAGO</td>\n",
       "      <td>IL</td>\n",
       "      <td>60640.0</td>\n",
       "      <td>unknown</td>\n",
       "      <td>unknown</td>\n",
       "      <td>12248Charter Sightseeing</td>\n",
       "      <td>Charter Sightseeing</td>\n",
       "    </tr>\n",
       "    <tr>\n",
       "      <th>2</th>\n",
       "      <td>TD925</td>\n",
       "      <td>2008</td>\n",
       "      <td>RED</td>\n",
       "      <td>Bio-Diesel</td>\n",
       "      <td>N</td>\n",
       "      <td>TRT TRANSPORTATION, INC.</td>\n",
       "      <td>CHICAGO</td>\n",
       "      <td>IL</td>\n",
       "      <td>60609.0</td>\n",
       "      <td>unknown</td>\n",
       "      <td>unknown</td>\n",
       "      <td>13527Charter Sightseeing</td>\n",
       "      <td>Charter Sightseeing</td>\n",
       "    </tr>\n",
       "    <tr>\n",
       "      <th>4</th>\n",
       "      <td>TD925</td>\n",
       "      <td>2008</td>\n",
       "      <td>RED</td>\n",
       "      <td>Bio-Diesel</td>\n",
       "      <td>N</td>\n",
       "      <td>TRT TRANSPORTATION, INC.</td>\n",
       "      <td>CHICAGO</td>\n",
       "      <td>IL</td>\n",
       "      <td>60609.0</td>\n",
       "      <td>unknown</td>\n",
       "      <td>unknown</td>\n",
       "      <td>13528Charter Sightseeing</td>\n",
       "      <td>Charter Sightseeing</td>\n",
       "    </tr>\n",
       "    <tr>\n",
       "      <th>5</th>\n",
       "      <td>SPRINTER</td>\n",
       "      <td>2015</td>\n",
       "      <td>BLACK</td>\n",
       "      <td>Bio-Diesel</td>\n",
       "      <td>N</td>\n",
       "      <td>O'HARE-MIDWAY LIMOUSINE SERVICE INC # 2</td>\n",
       "      <td>CHICAGO</td>\n",
       "      <td>IL</td>\n",
       "      <td>60640.0</td>\n",
       "      <td>unknown</td>\n",
       "      <td>unknown</td>\n",
       "      <td>12025Charter Sightseeing</td>\n",
       "      <td>Charter Sightseeing</td>\n",
       "    </tr>\n",
       "  </tbody>\n",
       "</table>\n",
       "</div>"
      ],
      "text/plain": [
       "  Vehicle Model  Vehicle Model Year Vehicle Color Vehicle Fuel Source  \\\n",
       "0       EXPRESS                2014         BLACK          Bio-Diesel   \n",
       "1      SPRINTER                2010        SILVER          Bio-Diesel   \n",
       "2         TD925                2008           RED          Bio-Diesel   \n",
       "4         TD925                2008           RED          Bio-Diesel   \n",
       "5      SPRINTER                2015         BLACK          Bio-Diesel   \n",
       "\n",
       "  Wheelchair Accessible                             Company Name     City  \\\n",
       "0                     N                CHICAGO PRIVATE TOURS LLC  CHICAGO   \n",
       "1                     N  O'HARE-MIDWAY LIMOUSINE SERVICE INC # 2  CHICAGO   \n",
       "2                     N                 TRT TRANSPORTATION, INC.  CHICAGO   \n",
       "4                     N                 TRT TRANSPORTATION, INC.  CHICAGO   \n",
       "5                     N  O'HARE-MIDWAY LIMOUSINE SERVICE INC # 2  CHICAGO   \n",
       "\n",
       "  State  ZIP Code Taxi Affiliation Taxi Medallion License Management   \\\n",
       "0    IL   60653.0          unknown                            unknown   \n",
       "1    IL   60640.0          unknown                            unknown   \n",
       "2    IL   60609.0          unknown                            unknown   \n",
       "4    IL   60609.0          unknown                            unknown   \n",
       "5    IL   60640.0          unknown                            unknown   \n",
       "\n",
       "                  Record ID         Vehicle Type  \n",
       "0  12009Charter Sightseeing  Charter Sightseeing  \n",
       "1  12248Charter Sightseeing  Charter Sightseeing  \n",
       "2  13527Charter Sightseeing  Charter Sightseeing  \n",
       "4  13528Charter Sightseeing  Charter Sightseeing  \n",
       "5  12025Charter Sightseeing  Charter Sightseeing  "
      ]
     },
     "execution_count": 342,
     "metadata": {},
     "output_type": "execute_result"
    }
   ],
   "source": [
    "filtered_df_cleaned['Vehicle Type'] = filtered_df_cleaned['Record ID'].str.extract(r'(\\D+)$')[0]\n",
    "\n",
    "filtered_df_cleaned.head()"
   ]
  },
  {
   "cell_type": "markdown",
   "metadata": {},
   "source": [
    "- Droping the column “Public Vehicle Number”(first column)."
   ]
  },
  {
   "cell_type": "code",
   "execution_count": 343,
   "metadata": {},
   "outputs": [],
   "source": [
    "filtered_df_cleaned.drop(filtered_df_cleaned.columns[0] , axis=1, inplace=True)"
   ]
  },
  {
   "cell_type": "code",
   "execution_count": 344,
   "metadata": {},
   "outputs": [
    {
     "data": {
      "text/html": [
       "<div>\n",
       "<style scoped>\n",
       "    .dataframe tbody tr th:only-of-type {\n",
       "        vertical-align: middle;\n",
       "    }\n",
       "\n",
       "    .dataframe tbody tr th {\n",
       "        vertical-align: top;\n",
       "    }\n",
       "\n",
       "    .dataframe thead th {\n",
       "        text-align: right;\n",
       "    }\n",
       "</style>\n",
       "<table border=\"1\" class=\"dataframe\">\n",
       "  <thead>\n",
       "    <tr style=\"text-align: right;\">\n",
       "      <th></th>\n",
       "      <th>Vehicle Model Year</th>\n",
       "      <th>Vehicle Color</th>\n",
       "      <th>Vehicle Fuel Source</th>\n",
       "      <th>Wheelchair Accessible</th>\n",
       "      <th>Company Name</th>\n",
       "      <th>City</th>\n",
       "      <th>State</th>\n",
       "      <th>ZIP Code</th>\n",
       "      <th>Taxi Affiliation</th>\n",
       "      <th>Taxi Medallion License Management</th>\n",
       "      <th>Record ID</th>\n",
       "      <th>Vehicle Type</th>\n",
       "    </tr>\n",
       "  </thead>\n",
       "  <tbody>\n",
       "    <tr>\n",
       "      <th>0</th>\n",
       "      <td>2014</td>\n",
       "      <td>BLACK</td>\n",
       "      <td>Bio-Diesel</td>\n",
       "      <td>N</td>\n",
       "      <td>CHICAGO PRIVATE TOURS LLC</td>\n",
       "      <td>CHICAGO</td>\n",
       "      <td>IL</td>\n",
       "      <td>60653.0</td>\n",
       "      <td>unknown</td>\n",
       "      <td>unknown</td>\n",
       "      <td>12009Charter Sightseeing</td>\n",
       "      <td>Charter Sightseeing</td>\n",
       "    </tr>\n",
       "    <tr>\n",
       "      <th>1</th>\n",
       "      <td>2010</td>\n",
       "      <td>SILVER</td>\n",
       "      <td>Bio-Diesel</td>\n",
       "      <td>N</td>\n",
       "      <td>O'HARE-MIDWAY LIMOUSINE SERVICE INC # 2</td>\n",
       "      <td>CHICAGO</td>\n",
       "      <td>IL</td>\n",
       "      <td>60640.0</td>\n",
       "      <td>unknown</td>\n",
       "      <td>unknown</td>\n",
       "      <td>12248Charter Sightseeing</td>\n",
       "      <td>Charter Sightseeing</td>\n",
       "    </tr>\n",
       "    <tr>\n",
       "      <th>2</th>\n",
       "      <td>2008</td>\n",
       "      <td>RED</td>\n",
       "      <td>Bio-Diesel</td>\n",
       "      <td>N</td>\n",
       "      <td>TRT TRANSPORTATION, INC.</td>\n",
       "      <td>CHICAGO</td>\n",
       "      <td>IL</td>\n",
       "      <td>60609.0</td>\n",
       "      <td>unknown</td>\n",
       "      <td>unknown</td>\n",
       "      <td>13527Charter Sightseeing</td>\n",
       "      <td>Charter Sightseeing</td>\n",
       "    </tr>\n",
       "    <tr>\n",
       "      <th>4</th>\n",
       "      <td>2008</td>\n",
       "      <td>RED</td>\n",
       "      <td>Bio-Diesel</td>\n",
       "      <td>N</td>\n",
       "      <td>TRT TRANSPORTATION, INC.</td>\n",
       "      <td>CHICAGO</td>\n",
       "      <td>IL</td>\n",
       "      <td>60609.0</td>\n",
       "      <td>unknown</td>\n",
       "      <td>unknown</td>\n",
       "      <td>13528Charter Sightseeing</td>\n",
       "      <td>Charter Sightseeing</td>\n",
       "    </tr>\n",
       "    <tr>\n",
       "      <th>5</th>\n",
       "      <td>2015</td>\n",
       "      <td>BLACK</td>\n",
       "      <td>Bio-Diesel</td>\n",
       "      <td>N</td>\n",
       "      <td>O'HARE-MIDWAY LIMOUSINE SERVICE INC # 2</td>\n",
       "      <td>CHICAGO</td>\n",
       "      <td>IL</td>\n",
       "      <td>60640.0</td>\n",
       "      <td>unknown</td>\n",
       "      <td>unknown</td>\n",
       "      <td>12025Charter Sightseeing</td>\n",
       "      <td>Charter Sightseeing</td>\n",
       "    </tr>\n",
       "  </tbody>\n",
       "</table>\n",
       "</div>"
      ],
      "text/plain": [
       "   Vehicle Model Year Vehicle Color Vehicle Fuel Source Wheelchair Accessible  \\\n",
       "0                2014         BLACK          Bio-Diesel                     N   \n",
       "1                2010        SILVER          Bio-Diesel                     N   \n",
       "2                2008           RED          Bio-Diesel                     N   \n",
       "4                2008           RED          Bio-Diesel                     N   \n",
       "5                2015         BLACK          Bio-Diesel                     N   \n",
       "\n",
       "                              Company Name     City State  ZIP Code  \\\n",
       "0                CHICAGO PRIVATE TOURS LLC  CHICAGO    IL   60653.0   \n",
       "1  O'HARE-MIDWAY LIMOUSINE SERVICE INC # 2  CHICAGO    IL   60640.0   \n",
       "2                 TRT TRANSPORTATION, INC.  CHICAGO    IL   60609.0   \n",
       "4                 TRT TRANSPORTATION, INC.  CHICAGO    IL   60609.0   \n",
       "5  O'HARE-MIDWAY LIMOUSINE SERVICE INC # 2  CHICAGO    IL   60640.0   \n",
       "\n",
       "  Taxi Affiliation Taxi Medallion License Management   \\\n",
       "0          unknown                            unknown   \n",
       "1          unknown                            unknown   \n",
       "2          unknown                            unknown   \n",
       "4          unknown                            unknown   \n",
       "5          unknown                            unknown   \n",
       "\n",
       "                  Record ID         Vehicle Type  \n",
       "0  12009Charter Sightseeing  Charter Sightseeing  \n",
       "1  12248Charter Sightseeing  Charter Sightseeing  \n",
       "2  13527Charter Sightseeing  Charter Sightseeing  \n",
       "4  13528Charter Sightseeing  Charter Sightseeing  \n",
       "5  12025Charter Sightseeing  Charter Sightseeing  "
      ]
     },
     "execution_count": 344,
     "metadata": {},
     "output_type": "execute_result"
    }
   ],
   "source": [
    "filtered_df_cleaned.head()"
   ]
  },
  {
   "cell_type": "code",
   "execution_count": 345,
   "metadata": {},
   "outputs": [
    {
     "data": {
      "text/plain": [
       "(13797, 12)"
      ]
     },
     "execution_count": 345,
     "metadata": {},
     "output_type": "execute_result"
    }
   ],
   "source": [
    "filtered_df_cleaned.shape"
   ]
  },
  {
   "cell_type": "markdown",
   "metadata": {},
   "source": [
    "Assigning filtered_df_cleaned as df dataframe."
   ]
  },
  {
   "cell_type": "code",
   "execution_count": 346,
   "metadata": {},
   "outputs": [],
   "source": [
    "df = filtered_df_cleaned"
   ]
  },
  {
   "cell_type": "code",
   "execution_count": 347,
   "metadata": {},
   "outputs": [
    {
     "data": {
      "text/html": [
       "<div>\n",
       "<style scoped>\n",
       "    .dataframe tbody tr th:only-of-type {\n",
       "        vertical-align: middle;\n",
       "    }\n",
       "\n",
       "    .dataframe tbody tr th {\n",
       "        vertical-align: top;\n",
       "    }\n",
       "\n",
       "    .dataframe thead th {\n",
       "        text-align: right;\n",
       "    }\n",
       "</style>\n",
       "<table border=\"1\" class=\"dataframe\">\n",
       "  <thead>\n",
       "    <tr style=\"text-align: right;\">\n",
       "      <th></th>\n",
       "      <th>Vehicle Model Year</th>\n",
       "      <th>Vehicle Color</th>\n",
       "      <th>Vehicle Fuel Source</th>\n",
       "      <th>Wheelchair Accessible</th>\n",
       "      <th>Company Name</th>\n",
       "      <th>City</th>\n",
       "      <th>State</th>\n",
       "      <th>ZIP Code</th>\n",
       "      <th>Taxi Affiliation</th>\n",
       "      <th>Taxi Medallion License Management</th>\n",
       "      <th>Record ID</th>\n",
       "      <th>Vehicle Type</th>\n",
       "    </tr>\n",
       "  </thead>\n",
       "  <tbody>\n",
       "    <tr>\n",
       "      <th>0</th>\n",
       "      <td>2014</td>\n",
       "      <td>BLACK</td>\n",
       "      <td>Bio-Diesel</td>\n",
       "      <td>N</td>\n",
       "      <td>CHICAGO PRIVATE TOURS LLC</td>\n",
       "      <td>CHICAGO</td>\n",
       "      <td>IL</td>\n",
       "      <td>60653.0</td>\n",
       "      <td>unknown</td>\n",
       "      <td>unknown</td>\n",
       "      <td>12009Charter Sightseeing</td>\n",
       "      <td>Charter Sightseeing</td>\n",
       "    </tr>\n",
       "    <tr>\n",
       "      <th>1</th>\n",
       "      <td>2010</td>\n",
       "      <td>SILVER</td>\n",
       "      <td>Bio-Diesel</td>\n",
       "      <td>N</td>\n",
       "      <td>O'HARE-MIDWAY LIMOUSINE SERVICE INC # 2</td>\n",
       "      <td>CHICAGO</td>\n",
       "      <td>IL</td>\n",
       "      <td>60640.0</td>\n",
       "      <td>unknown</td>\n",
       "      <td>unknown</td>\n",
       "      <td>12248Charter Sightseeing</td>\n",
       "      <td>Charter Sightseeing</td>\n",
       "    </tr>\n",
       "    <tr>\n",
       "      <th>2</th>\n",
       "      <td>2008</td>\n",
       "      <td>RED</td>\n",
       "      <td>Bio-Diesel</td>\n",
       "      <td>N</td>\n",
       "      <td>TRT TRANSPORTATION, INC.</td>\n",
       "      <td>CHICAGO</td>\n",
       "      <td>IL</td>\n",
       "      <td>60609.0</td>\n",
       "      <td>unknown</td>\n",
       "      <td>unknown</td>\n",
       "      <td>13527Charter Sightseeing</td>\n",
       "      <td>Charter Sightseeing</td>\n",
       "    </tr>\n",
       "    <tr>\n",
       "      <th>4</th>\n",
       "      <td>2008</td>\n",
       "      <td>RED</td>\n",
       "      <td>Bio-Diesel</td>\n",
       "      <td>N</td>\n",
       "      <td>TRT TRANSPORTATION, INC.</td>\n",
       "      <td>CHICAGO</td>\n",
       "      <td>IL</td>\n",
       "      <td>60609.0</td>\n",
       "      <td>unknown</td>\n",
       "      <td>unknown</td>\n",
       "      <td>13528Charter Sightseeing</td>\n",
       "      <td>Charter Sightseeing</td>\n",
       "    </tr>\n",
       "    <tr>\n",
       "      <th>5</th>\n",
       "      <td>2015</td>\n",
       "      <td>BLACK</td>\n",
       "      <td>Bio-Diesel</td>\n",
       "      <td>N</td>\n",
       "      <td>O'HARE-MIDWAY LIMOUSINE SERVICE INC # 2</td>\n",
       "      <td>CHICAGO</td>\n",
       "      <td>IL</td>\n",
       "      <td>60640.0</td>\n",
       "      <td>unknown</td>\n",
       "      <td>unknown</td>\n",
       "      <td>12025Charter Sightseeing</td>\n",
       "      <td>Charter Sightseeing</td>\n",
       "    </tr>\n",
       "  </tbody>\n",
       "</table>\n",
       "</div>"
      ],
      "text/plain": [
       "   Vehicle Model Year Vehicle Color Vehicle Fuel Source Wheelchair Accessible  \\\n",
       "0                2014         BLACK          Bio-Diesel                     N   \n",
       "1                2010        SILVER          Bio-Diesel                     N   \n",
       "2                2008           RED          Bio-Diesel                     N   \n",
       "4                2008           RED          Bio-Diesel                     N   \n",
       "5                2015         BLACK          Bio-Diesel                     N   \n",
       "\n",
       "                              Company Name     City State  ZIP Code  \\\n",
       "0                CHICAGO PRIVATE TOURS LLC  CHICAGO    IL   60653.0   \n",
       "1  O'HARE-MIDWAY LIMOUSINE SERVICE INC # 2  CHICAGO    IL   60640.0   \n",
       "2                 TRT TRANSPORTATION, INC.  CHICAGO    IL   60609.0   \n",
       "4                 TRT TRANSPORTATION, INC.  CHICAGO    IL   60609.0   \n",
       "5  O'HARE-MIDWAY LIMOUSINE SERVICE INC # 2  CHICAGO    IL   60640.0   \n",
       "\n",
       "  Taxi Affiliation Taxi Medallion License Management   \\\n",
       "0          unknown                            unknown   \n",
       "1          unknown                            unknown   \n",
       "2          unknown                            unknown   \n",
       "4          unknown                            unknown   \n",
       "5          unknown                            unknown   \n",
       "\n",
       "                  Record ID         Vehicle Type  \n",
       "0  12009Charter Sightseeing  Charter Sightseeing  \n",
       "1  12248Charter Sightseeing  Charter Sightseeing  \n",
       "2  13527Charter Sightseeing  Charter Sightseeing  \n",
       "4  13528Charter Sightseeing  Charter Sightseeing  \n",
       "5  12025Charter Sightseeing  Charter Sightseeing  "
      ]
     },
     "execution_count": 347,
     "metadata": {},
     "output_type": "execute_result"
    }
   ],
   "source": [
    "df.head()"
   ]
  },
  {
   "cell_type": "markdown",
   "metadata": {},
   "source": [
    "Apply valid city names to 'City' column."
   ]
  },
  {
   "cell_type": "code",
   "execution_count": 348,
   "metadata": {},
   "outputs": [
    {
     "data": {
      "text/plain": [
       "array(['CHICAGO', 'ELMHURST', 'ORLAND PARK', 'ST. CHARLES', 'SKOKIE',\n",
       "       'FRANKFORT', 'ELGIN', 'SHOREWOOD', 'TINLEY PARK', 'LYNWOOD',\n",
       "       'LOVES PARK', 'BARRINGTON', 'NEW LENOX', 'DOLTON',\n",
       "       'ELK GROVE VILLAGE', 'CHICAGO RIDGE', 'BARTLETT', 'EVERGREEN PARK',\n",
       "       'ARLINGTON HEIGHTS', 'BROOKFIELD', 'EARLVILLE', 'SCHILLER PARK',\n",
       "       'PLAINFIELD', 'DEERFIELD', 'OAK BROOK', 'NORTHBROOK',\n",
       "       'BENSENVILLE', 'JOHNSBURG', 'NORRIDGE', 'DES PLAINES', 'ITASCA',\n",
       "       'GURNEE', 'METTAWA'], dtype=object)"
      ]
     },
     "execution_count": 348,
     "metadata": {},
     "output_type": "execute_result"
    }
   ],
   "source": [
    "df['City'].unique()"
   ]
  },
  {
   "cell_type": "code",
   "execution_count": 349,
   "metadata": {},
   "outputs": [],
   "source": [
    "valid_cities = [\n",
    "    'CHICAGO', 'ELMHURST', 'ORLAND PARK', 'ST. CHARLES', 'SKOKIE', 'FRANKFORT', 'ELGIN', 'SHOREWOOD', \n",
    "    'TINLEY PARK', 'LYNWOOD', 'LOVES PARK', 'BARRINGTON', 'NEW LENOX', 'DOLTON', 'CHICAGO RIDGE', \n",
    "    'BARTLETT', 'EVERGREEN PARK', 'ARLINGTON HEIGHTS', 'BROOKFIELD', 'EARLVILLE', 'SCHILLER PARK', \n",
    "    'PLAINFIELD', 'DEERFIELD', 'OAK BROOK', 'NORTHBROOK', 'BENSENVILLE', 'ELK GROVE VILLAGE', 'JOHNSBURG', \n",
    "    'NORRIDGE', 'DES PLAINES', 'ITASCA', 'GURNEE', 'METTAWA'\n",
    "]"
   ]
  },
  {
   "cell_type": "code",
   "execution_count": 350,
   "metadata": {},
   "outputs": [],
   "source": [
    "def correct_city_name(city):\n",
    "    \n",
    "    city_corrections = {\n",
    "        'CHIICAGO': 'CHICAGO',\n",
    "        'CHGO': 'CHICAGO',\n",
    "        'OAKBROOK': 'OAK BROOK',\n",
    "        'DESPLAINES': 'DES PLAINES',\n",
    "        'CHCAGO': 'CHICAGO'\n",
    "    }\n",
    "  \n",
    "    return city_corrections.get(city, city)"
   ]
  },
  {
   "cell_type": "code",
   "execution_count": 351,
   "metadata": {},
   "outputs": [],
   "source": [
    "df['City'] = df['City'].apply(correct_city_name)"
   ]
  },
  {
   "cell_type": "code",
   "execution_count": 352,
   "metadata": {},
   "outputs": [
    {
     "data": {
      "text/plain": [
       "array(['CHICAGO', 'ELMHURST', 'ORLAND PARK', 'ST. CHARLES', 'SKOKIE',\n",
       "       'FRANKFORT', 'ELGIN', 'SHOREWOOD', 'TINLEY PARK', 'LYNWOOD',\n",
       "       'LOVES PARK', 'BARRINGTON', 'NEW LENOX', 'DOLTON',\n",
       "       'ELK GROVE VILLAGE', 'CHICAGO RIDGE', 'BARTLETT', 'EVERGREEN PARK',\n",
       "       'ARLINGTON HEIGHTS', 'BROOKFIELD', 'EARLVILLE', 'SCHILLER PARK',\n",
       "       'PLAINFIELD', 'DEERFIELD', 'OAK BROOK', 'NORTHBROOK',\n",
       "       'BENSENVILLE', 'JOHNSBURG', 'NORRIDGE', 'DES PLAINES', 'ITASCA',\n",
       "       'GURNEE', 'METTAWA'], dtype=object)"
      ]
     },
     "execution_count": 352,
     "metadata": {},
     "output_type": "execute_result"
    }
   ],
   "source": [
    "df['City'].unique()"
   ]
  },
  {
   "cell_type": "code",
   "execution_count": 353,
   "metadata": {},
   "outputs": [],
   "source": [
    "df = df[df['City'].isin(valid_cities)]"
   ]
  },
  {
   "cell_type": "code",
   "execution_count": 354,
   "metadata": {},
   "outputs": [
    {
     "data": {
      "text/plain": [
       "array(['CHICAGO', 'ELMHURST', 'ORLAND PARK', 'ST. CHARLES', 'SKOKIE',\n",
       "       'FRANKFORT', 'ELGIN', 'SHOREWOOD', 'TINLEY PARK', 'LYNWOOD',\n",
       "       'LOVES PARK', 'BARRINGTON', 'NEW LENOX', 'DOLTON',\n",
       "       'ELK GROVE VILLAGE', 'CHICAGO RIDGE', 'BARTLETT', 'EVERGREEN PARK',\n",
       "       'ARLINGTON HEIGHTS', 'BROOKFIELD', 'EARLVILLE', 'SCHILLER PARK',\n",
       "       'PLAINFIELD', 'DEERFIELD', 'OAK BROOK', 'NORTHBROOK',\n",
       "       'BENSENVILLE', 'JOHNSBURG', 'NORRIDGE', 'DES PLAINES', 'ITASCA',\n",
       "       'GURNEE', 'METTAWA'], dtype=object)"
      ]
     },
     "execution_count": 354,
     "metadata": {},
     "output_type": "execute_result"
    }
   ],
   "source": [
    "df['City'].unique()"
   ]
  },
  {
   "cell_type": "code",
   "execution_count": 355,
   "metadata": {},
   "outputs": [],
   "source": [
    "city_coordinates = {\n",
    "    'CHICAGO': (41.8781, -87.6298),\n",
    "    'ELMHURST': (41.8991, -87.9403),\n",
    "    'ORLAND PARK': (41.6295, -87.8534),\n",
    "    'ST. CHARLES': (41.9140, -88.3052),\n",
    "    'SKOKIE': (42.0324, -87.7411),\n",
    "    'FRANKFORT': (41.3102, -87.8506),\n",
    "    'ELGIN': (42.0354, -88.2812),\n",
    "    'SHOREWOOD': (41.7799, -88.2281),\n",
    "    'TINLEY PARK': (41.5742, -87.7820),\n",
    "    'LYNWOOD': (41.5742, -87.6232),\n",
    "    'LOVES PARK': (42.3019, -89.0543),\n",
    "    'BARRINGTON': (42.1531, -88.1382),\n",
    "    'NEW LENOX': (41.5130, -87.9812),\n",
    "    'DOLTON': (41.6190, -87.5936),\n",
    "    'CHICAGO RIDGE': (41.7150, -87.7820),\n",
    "    'BARTLETT': (41.9951, -88.1851),\n",
    "    'EVERGREEN PARK': (41.7107, -87.7893),\n",
    "    'ARLINGTON HEIGHTS': (42.0884, -87.9806),\n",
    "    'BROOKFIELD': (41.8314, -87.7846),\n",
    "    'EARLVILLE': (41.6274, -88.6947),\n",
    "    'SCHILLER PARK': (41.9781, -87.8182),\n",
    "    'PLAINFIELD': (41.6303, -88.2039),\n",
    "    'DEERFIELD': (42.1546, -87.8472),\n",
    "    'OAK BROOK': (41.8503, -87.9511),\n",
    "    'NORTHBROOK': (42.1211, -87.8294),\n",
    "    'BENSENVILLE': (41.9783, -87.9401),\n",
    "    'ELK GROVE VILLAGE': (42.0353, -87.9732),\n",
    "    'JOHNSBURG': (42.3191, -88.2733),\n",
    "    'NORRIDGE': (41.9810, -87.7947),\n",
    "    'DES PLAINES': (42.0396, -87.8704),\n",
    "    'ITASCA': (41.9534, -88.0169),\n",
    "    'GURNEE': (42.3620, -87.8837),\n",
    "    'METTAWA': (42.2573, -87.9116)\n",
    "}"
   ]
  },
  {
   "cell_type": "code",
   "execution_count": 356,
   "metadata": {},
   "outputs": [],
   "source": [
    "df['Latitude'] = df['City'].map(lambda city: city_coordinates.get(city, (None, None))[0])\n",
    "df['Longitude'] = df['City'].map(lambda city: city_coordinates.get(city, (None, None))[1])"
   ]
  },
  {
   "cell_type": "code",
   "execution_count": 357,
   "metadata": {},
   "outputs": [
    {
     "data": {
      "text/plain": [
       "array(['CHICAGO', 'ELMHURST', 'ORLAND PARK', 'ST. CHARLES', 'SKOKIE',\n",
       "       'FRANKFORT', 'ELGIN', 'SHOREWOOD', 'TINLEY PARK', 'LYNWOOD',\n",
       "       'LOVES PARK', 'BARRINGTON', 'NEW LENOX', 'DOLTON',\n",
       "       'ELK GROVE VILLAGE', 'CHICAGO RIDGE', 'BARTLETT', 'EVERGREEN PARK',\n",
       "       'ARLINGTON HEIGHTS', 'BROOKFIELD', 'EARLVILLE', 'SCHILLER PARK',\n",
       "       'PLAINFIELD', 'DEERFIELD', 'OAK BROOK', 'NORTHBROOK',\n",
       "       'BENSENVILLE', 'JOHNSBURG', 'NORRIDGE', 'DES PLAINES', 'ITASCA',\n",
       "       'GURNEE', 'METTAWA'], dtype=object)"
      ]
     },
     "execution_count": 357,
     "metadata": {},
     "output_type": "execute_result"
    }
   ],
   "source": [
    "df['City'].unique()"
   ]
  },
  {
   "cell_type": "markdown",
   "metadata": {},
   "source": [
    "- Note: cleaned dataframe is 'df'."
   ]
  },
  {
   "cell_type": "code",
   "execution_count": 358,
   "metadata": {},
   "outputs": [
    {
     "data": {
      "text/html": [
       "<div>\n",
       "<style scoped>\n",
       "    .dataframe tbody tr th:only-of-type {\n",
       "        vertical-align: middle;\n",
       "    }\n",
       "\n",
       "    .dataframe tbody tr th {\n",
       "        vertical-align: top;\n",
       "    }\n",
       "\n",
       "    .dataframe thead th {\n",
       "        text-align: right;\n",
       "    }\n",
       "</style>\n",
       "<table border=\"1\" class=\"dataframe\">\n",
       "  <thead>\n",
       "    <tr style=\"text-align: right;\">\n",
       "      <th></th>\n",
       "      <th>Vehicle Model Year</th>\n",
       "      <th>Vehicle Color</th>\n",
       "      <th>Vehicle Fuel Source</th>\n",
       "      <th>Wheelchair Accessible</th>\n",
       "      <th>Company Name</th>\n",
       "      <th>City</th>\n",
       "      <th>State</th>\n",
       "      <th>ZIP Code</th>\n",
       "      <th>Taxi Affiliation</th>\n",
       "      <th>Taxi Medallion License Management</th>\n",
       "      <th>Record ID</th>\n",
       "      <th>Vehicle Type</th>\n",
       "      <th>Latitude</th>\n",
       "      <th>Longitude</th>\n",
       "    </tr>\n",
       "  </thead>\n",
       "  <tbody>\n",
       "    <tr>\n",
       "      <th>0</th>\n",
       "      <td>2014</td>\n",
       "      <td>BLACK</td>\n",
       "      <td>Bio-Diesel</td>\n",
       "      <td>N</td>\n",
       "      <td>CHICAGO PRIVATE TOURS LLC</td>\n",
       "      <td>CHICAGO</td>\n",
       "      <td>IL</td>\n",
       "      <td>60653.0</td>\n",
       "      <td>unknown</td>\n",
       "      <td>unknown</td>\n",
       "      <td>12009Charter Sightseeing</td>\n",
       "      <td>Charter Sightseeing</td>\n",
       "      <td>41.8781</td>\n",
       "      <td>-87.6298</td>\n",
       "    </tr>\n",
       "    <tr>\n",
       "      <th>1</th>\n",
       "      <td>2010</td>\n",
       "      <td>SILVER</td>\n",
       "      <td>Bio-Diesel</td>\n",
       "      <td>N</td>\n",
       "      <td>O'HARE-MIDWAY LIMOUSINE SERVICE INC # 2</td>\n",
       "      <td>CHICAGO</td>\n",
       "      <td>IL</td>\n",
       "      <td>60640.0</td>\n",
       "      <td>unknown</td>\n",
       "      <td>unknown</td>\n",
       "      <td>12248Charter Sightseeing</td>\n",
       "      <td>Charter Sightseeing</td>\n",
       "      <td>41.8781</td>\n",
       "      <td>-87.6298</td>\n",
       "    </tr>\n",
       "    <tr>\n",
       "      <th>2</th>\n",
       "      <td>2008</td>\n",
       "      <td>RED</td>\n",
       "      <td>Bio-Diesel</td>\n",
       "      <td>N</td>\n",
       "      <td>TRT TRANSPORTATION, INC.</td>\n",
       "      <td>CHICAGO</td>\n",
       "      <td>IL</td>\n",
       "      <td>60609.0</td>\n",
       "      <td>unknown</td>\n",
       "      <td>unknown</td>\n",
       "      <td>13527Charter Sightseeing</td>\n",
       "      <td>Charter Sightseeing</td>\n",
       "      <td>41.8781</td>\n",
       "      <td>-87.6298</td>\n",
       "    </tr>\n",
       "    <tr>\n",
       "      <th>4</th>\n",
       "      <td>2008</td>\n",
       "      <td>RED</td>\n",
       "      <td>Bio-Diesel</td>\n",
       "      <td>N</td>\n",
       "      <td>TRT TRANSPORTATION, INC.</td>\n",
       "      <td>CHICAGO</td>\n",
       "      <td>IL</td>\n",
       "      <td>60609.0</td>\n",
       "      <td>unknown</td>\n",
       "      <td>unknown</td>\n",
       "      <td>13528Charter Sightseeing</td>\n",
       "      <td>Charter Sightseeing</td>\n",
       "      <td>41.8781</td>\n",
       "      <td>-87.6298</td>\n",
       "    </tr>\n",
       "    <tr>\n",
       "      <th>5</th>\n",
       "      <td>2015</td>\n",
       "      <td>BLACK</td>\n",
       "      <td>Bio-Diesel</td>\n",
       "      <td>N</td>\n",
       "      <td>O'HARE-MIDWAY LIMOUSINE SERVICE INC # 2</td>\n",
       "      <td>CHICAGO</td>\n",
       "      <td>IL</td>\n",
       "      <td>60640.0</td>\n",
       "      <td>unknown</td>\n",
       "      <td>unknown</td>\n",
       "      <td>12025Charter Sightseeing</td>\n",
       "      <td>Charter Sightseeing</td>\n",
       "      <td>41.8781</td>\n",
       "      <td>-87.6298</td>\n",
       "    </tr>\n",
       "  </tbody>\n",
       "</table>\n",
       "</div>"
      ],
      "text/plain": [
       "   Vehicle Model Year Vehicle Color Vehicle Fuel Source Wheelchair Accessible  \\\n",
       "0                2014         BLACK          Bio-Diesel                     N   \n",
       "1                2010        SILVER          Bio-Diesel                     N   \n",
       "2                2008           RED          Bio-Diesel                     N   \n",
       "4                2008           RED          Bio-Diesel                     N   \n",
       "5                2015         BLACK          Bio-Diesel                     N   \n",
       "\n",
       "                              Company Name     City State  ZIP Code  \\\n",
       "0                CHICAGO PRIVATE TOURS LLC  CHICAGO    IL   60653.0   \n",
       "1  O'HARE-MIDWAY LIMOUSINE SERVICE INC # 2  CHICAGO    IL   60640.0   \n",
       "2                 TRT TRANSPORTATION, INC.  CHICAGO    IL   60609.0   \n",
       "4                 TRT TRANSPORTATION, INC.  CHICAGO    IL   60609.0   \n",
       "5  O'HARE-MIDWAY LIMOUSINE SERVICE INC # 2  CHICAGO    IL   60640.0   \n",
       "\n",
       "  Taxi Affiliation Taxi Medallion License Management   \\\n",
       "0          unknown                            unknown   \n",
       "1          unknown                            unknown   \n",
       "2          unknown                            unknown   \n",
       "4          unknown                            unknown   \n",
       "5          unknown                            unknown   \n",
       "\n",
       "                  Record ID         Vehicle Type  Latitude  Longitude  \n",
       "0  12009Charter Sightseeing  Charter Sightseeing   41.8781   -87.6298  \n",
       "1  12248Charter Sightseeing  Charter Sightseeing   41.8781   -87.6298  \n",
       "2  13527Charter Sightseeing  Charter Sightseeing   41.8781   -87.6298  \n",
       "4  13528Charter Sightseeing  Charter Sightseeing   41.8781   -87.6298  \n",
       "5  12025Charter Sightseeing  Charter Sightseeing   41.8781   -87.6298  "
      ]
     },
     "execution_count": 358,
     "metadata": {},
     "output_type": "execute_result"
    }
   ],
   "source": [
    "df.head()"
   ]
  }
 ],
 "metadata": {
  "kernelspec": {
   "display_name": "base",
   "language": "python",
   "name": "python3"
  },
  "language_info": {
   "codemirror_mode": {
    "name": "ipython",
    "version": 3
   },
   "file_extension": ".py",
   "mimetype": "text/x-python",
   "name": "python",
   "nbconvert_exporter": "python",
   "pygments_lexer": "ipython3",
   "version": "3.12.7"
  }
 },
 "nbformat": 4,
 "nbformat_minor": 2
}
