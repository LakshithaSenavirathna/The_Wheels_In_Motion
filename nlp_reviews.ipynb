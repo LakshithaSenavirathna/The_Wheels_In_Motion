{
 "cells": [
  {
   "cell_type": "code",
   "execution_count": 1,
   "metadata": {},
   "outputs": [],
   "source": [
    "import pandas as pd \n",
    "import numpy as np\n",
    "import matplotlib.pyplot as plt\n",
    "from transformers import pipeline\n",
    "import torch"
   ]
  },
  {
   "cell_type": "code",
   "execution_count": 2,
   "metadata": {},
   "outputs": [],
   "source": [
    "df = pd.read_csv(\"car_reviews.csv\")"
   ]
  },
  {
   "cell_type": "code",
   "execution_count": 1,
   "metadata": {},
   "outputs": [
    {
     "ename": "NameError",
     "evalue": "name 'df' is not defined",
     "output_type": "error",
     "traceback": [
      "\u001b[1;31m---------------------------------------------------------------------------\u001b[0m",
      "\u001b[1;31mNameError\u001b[0m                                 Traceback (most recent call last)",
      "Cell \u001b[1;32mIn[1], line 1\u001b[0m\n\u001b[1;32m----> 1\u001b[0m df\u001b[38;5;241m.\u001b[39mhead(\u001b[38;5;241m5\u001b[39m)\n",
      "\u001b[1;31mNameError\u001b[0m: name 'df' is not defined"
     ]
    }
   ],
   "source": [
    "df.head(5)"
   ]
  },
  {
   "cell_type": "code",
   "execution_count": 4,
   "metadata": {},
   "outputs": [
    {
     "name": "stderr",
     "output_type": "stream",
     "text": [
      "Device set to use cuda:0\n"
     ]
    }
   ],
   "source": [
    "zero_shot_classifier = pipeline(\"zero-shot-classification\", model=\"facebook/bart-large-mnli\")"
   ]
  },
  {
   "cell_type": "code",
   "execution_count": 5,
   "metadata": {},
   "outputs": [],
   "source": [
    "candidate_labels = [\"driving experience\", \"features\", \"value for money\", \"issues\", \"other\"]"
   ]
  },
  {
   "cell_type": "code",
   "execution_count": 6,
   "metadata": {},
   "outputs": [],
   "source": [
    "def classify_reviews_in_batch(reviews, candidate_labels):\n",
    "    return [zero_shot_classifier(review, candidate_labels, truncation=True)['labels'][0] for review in reviews]\n"
   ]
  },
  {
   "cell_type": "code",
   "execution_count": 8,
   "metadata": {},
   "outputs": [],
   "source": [
    "batch_size = 16  # You can adjust the batch size depending on your GPU memory\n",
    "reviews = df['Review'].tolist()\n",
    "batch_labels = []"
   ]
  },
  {
   "cell_type": "code",
   "execution_count": 9,
   "metadata": {},
   "outputs": [
    {
     "name": "stderr",
     "output_type": "stream",
     "text": [
      "You seem to be using the pipelines sequentially on GPU. In order to maximize efficiency please use a dataset\n"
     ]
    }
   ],
   "source": [
    "for i in range(0, len(reviews), batch_size):\n",
    "    batch = reviews[i:i+batch_size]\n",
    "    batch_labels.extend(classify_reviews_in_batch(batch, candidate_labels))"
   ]
  },
  {
   "cell_type": "code",
   "execution_count": 11,
   "metadata": {},
   "outputs": [],
   "source": [
    "df['talks_about'] = batch_labels"
   ]
  },
  {
   "cell_type": "code",
   "execution_count": 12,
   "metadata": {},
   "outputs": [
    {
     "data": {
      "text/html": [
       "<div>\n",
       "<style scoped>\n",
       "    .dataframe tbody tr th:only-of-type {\n",
       "        vertical-align: middle;\n",
       "    }\n",
       "\n",
       "    .dataframe tbody tr th {\n",
       "        vertical-align: top;\n",
       "    }\n",
       "\n",
       "    .dataframe thead th {\n",
       "        text-align: right;\n",
       "    }\n",
       "</style>\n",
       "<table border=\"1\" class=\"dataframe\">\n",
       "  <thead>\n",
       "    <tr style=\"text-align: right;\">\n",
       "      <th></th>\n",
       "      <th>Review</th>\n",
       "      <th>talks_about</th>\n",
       "    </tr>\n",
       "  </thead>\n",
       "  <tbody>\n",
       "    <tr>\n",
       "      <th>0</th>\n",
       "      <td>Bought 2017 Optima Hybrid in November 17. It w...</td>\n",
       "      <td>value for money</td>\n",
       "    </tr>\n",
       "    <tr>\n",
       "      <th>1</th>\n",
       "      <td>You get a lot for your money and great perfor...</td>\n",
       "      <td>value for money</td>\n",
       "    </tr>\n",
       "    <tr>\n",
       "      <th>2</th>\n",
       "      <td>This car is amazing and have no complaints. Y...</td>\n",
       "      <td>value for money</td>\n",
       "    </tr>\n",
       "    <tr>\n",
       "      <th>3</th>\n",
       "      <td>At 11k now in a lease for 39 months and it onl...</td>\n",
       "      <td>issues</td>\n",
       "    </tr>\n",
       "    <tr>\n",
       "      <th>4</th>\n",
       "      <td>I've owned BMW, Lexus, Mercedes-Benz in the la...</td>\n",
       "      <td>value for money</td>\n",
       "    </tr>\n",
       "  </tbody>\n",
       "</table>\n",
       "</div>"
      ],
      "text/plain": [
       "                                              Review      talks_about\n",
       "0  Bought 2017 Optima Hybrid in November 17. It w...  value for money\n",
       "1   You get a lot for your money and great perfor...  value for money\n",
       "2   This car is amazing and have no complaints. Y...  value for money\n",
       "3  At 11k now in a lease for 39 months and it onl...           issues\n",
       "4  I've owned BMW, Lexus, Mercedes-Benz in the la...  value for money"
      ]
     },
     "execution_count": 12,
     "metadata": {},
     "output_type": "execute_result"
    }
   ],
   "source": [
    "df.head()"
   ]
  },
  {
   "cell_type": "code",
   "execution_count": 13,
   "metadata": {},
   "outputs": [
    {
     "name": "stderr",
     "output_type": "stream",
     "text": [
      "Device set to use cuda:0\n"
     ]
    }
   ],
   "source": [
    "sentiment_analyzer = pipeline(\"sentiment-analysis\", model=\"distilbert-base-uncased-finetuned-sst-2-english\", truncation=True)"
   ]
  },
  {
   "cell_type": "code",
   "execution_count": 14,
   "metadata": {},
   "outputs": [],
   "source": [
    "def analyze_sentiment_in_batch(reviews):\n",
    "    return [sentiment_analyzer(review, truncation=True)[0]['label'] for review in reviews]\n"
   ]
  },
  {
   "cell_type": "code",
   "execution_count": 15,
   "metadata": {},
   "outputs": [],
   "source": [
    "batch_sentiments = []\n",
    "for i in range(0, len(reviews), batch_size):\n",
    "    batch = reviews[i:i+batch_size]\n",
    "    batch_sentiments.extend(analyze_sentiment_in_batch(batch))"
   ]
  },
  {
   "cell_type": "code",
   "execution_count": 16,
   "metadata": {},
   "outputs": [],
   "source": [
    "df['sentiment'] = batch_sentiments"
   ]
  },
  {
   "cell_type": "code",
   "execution_count": 18,
   "metadata": {},
   "outputs": [
    {
     "data": {
      "text/html": [
       "<div>\n",
       "<style scoped>\n",
       "    .dataframe tbody tr th:only-of-type {\n",
       "        vertical-align: middle;\n",
       "    }\n",
       "\n",
       "    .dataframe tbody tr th {\n",
       "        vertical-align: top;\n",
       "    }\n",
       "\n",
       "    .dataframe thead th {\n",
       "        text-align: right;\n",
       "    }\n",
       "</style>\n",
       "<table border=\"1\" class=\"dataframe\">\n",
       "  <thead>\n",
       "    <tr style=\"text-align: right;\">\n",
       "      <th></th>\n",
       "      <th>Review</th>\n",
       "      <th>talks_about</th>\n",
       "      <th>sentiment</th>\n",
       "    </tr>\n",
       "  </thead>\n",
       "  <tbody>\n",
       "    <tr>\n",
       "      <th>0</th>\n",
       "      <td>Bought 2017 Optima Hybrid in November 17. It w...</td>\n",
       "      <td>value for money</td>\n",
       "      <td>POSITIVE</td>\n",
       "    </tr>\n",
       "    <tr>\n",
       "      <th>1</th>\n",
       "      <td>You get a lot for your money and great perfor...</td>\n",
       "      <td>value for money</td>\n",
       "      <td>POSITIVE</td>\n",
       "    </tr>\n",
       "    <tr>\n",
       "      <th>2</th>\n",
       "      <td>This car is amazing and have no complaints. Y...</td>\n",
       "      <td>value for money</td>\n",
       "      <td>POSITIVE</td>\n",
       "    </tr>\n",
       "    <tr>\n",
       "      <th>3</th>\n",
       "      <td>At 11k now in a lease for 39 months and it onl...</td>\n",
       "      <td>issues</td>\n",
       "      <td>NEGATIVE</td>\n",
       "    </tr>\n",
       "    <tr>\n",
       "      <th>4</th>\n",
       "      <td>I've owned BMW, Lexus, Mercedes-Benz in the la...</td>\n",
       "      <td>value for money</td>\n",
       "      <td>POSITIVE</td>\n",
       "    </tr>\n",
       "    <tr>\n",
       "      <th>5</th>\n",
       "      <td>Car does not get anywhere near advertised mile...</td>\n",
       "      <td>issues</td>\n",
       "      <td>NEGATIVE</td>\n",
       "    </tr>\n",
       "    <tr>\n",
       "      <th>6</th>\n",
       "      <td>Bought new and got an awesome deal, love the ...</td>\n",
       "      <td>value for money</td>\n",
       "      <td>POSITIVE</td>\n",
       "    </tr>\n",
       "    <tr>\n",
       "      <th>7</th>\n",
       "      <td>I don't think KIA knows what the term hybrid m...</td>\n",
       "      <td>issues</td>\n",
       "      <td>NEGATIVE</td>\n",
       "    </tr>\n",
       "    <tr>\n",
       "      <th>8</th>\n",
       "      <td>I have sat in both the front and back seats a...</td>\n",
       "      <td>driving experience</td>\n",
       "      <td>POSITIVE</td>\n",
       "    </tr>\n",
       "    <tr>\n",
       "      <th>9</th>\n",
       "      <td>The back seats are so laid back you cannot st...</td>\n",
       "      <td>features</td>\n",
       "      <td>POSITIVE</td>\n",
       "    </tr>\n",
       "    <tr>\n",
       "      <th>10</th>\n",
       "      <td>Couple of things.. passenger seat is terribly ...</td>\n",
       "      <td>issues</td>\n",
       "      <td>NEGATIVE</td>\n",
       "    </tr>\n",
       "    <tr>\n",
       "      <th>11</th>\n",
       "      <td>3 times to the dealership with documented mile...</td>\n",
       "      <td>issues</td>\n",
       "      <td>NEGATIVE</td>\n",
       "    </tr>\n",
       "    <tr>\n",
       "      <th>12</th>\n",
       "      <td>25mpg in the city 33 hwy on the 2016 ex hybrid...</td>\n",
       "      <td>issues</td>\n",
       "      <td>NEGATIVE</td>\n",
       "    </tr>\n",
       "    <tr>\n",
       "      <th>13</th>\n",
       "      <td>If you are wanting a hybrid, but don't want t...</td>\n",
       "      <td>value for money</td>\n",
       "      <td>POSITIVE</td>\n",
       "    </tr>\n",
       "    <tr>\n",
       "      <th>14</th>\n",
       "      <td>They changed the interior in the 2017. They di...</td>\n",
       "      <td>issues</td>\n",
       "      <td>NEGATIVE</td>\n",
       "    </tr>\n",
       "    <tr>\n",
       "      <th>15</th>\n",
       "      <td>Maybe it's just my car - and I know it has JD ...</td>\n",
       "      <td>issues</td>\n",
       "      <td>NEGATIVE</td>\n",
       "    </tr>\n",
       "    <tr>\n",
       "      <th>16</th>\n",
       "      <td>A really good car; had a 2017 Premium with lux...</td>\n",
       "      <td>features</td>\n",
       "      <td>POSITIVE</td>\n",
       "    </tr>\n",
       "    <tr>\n",
       "      <th>17</th>\n",
       "      <td>As my lease on my 2015 Chevy Malibu was almost...</td>\n",
       "      <td>value for money</td>\n",
       "      <td>POSITIVE</td>\n",
       "    </tr>\n",
       "    <tr>\n",
       "      <th>18</th>\n",
       "      <td>I've owned 3 lexus suv's and 1 sedan. The kia ...</td>\n",
       "      <td>value for money</td>\n",
       "      <td>POSITIVE</td>\n",
       "    </tr>\n",
       "    <tr>\n",
       "      <th>19</th>\n",
       "      <td>Drive the limited trim first.  Get to know th...</td>\n",
       "      <td>features</td>\n",
       "      <td>POSITIVE</td>\n",
       "    </tr>\n",
       "  </tbody>\n",
       "</table>\n",
       "</div>"
      ],
      "text/plain": [
       "                                               Review         talks_about  \\\n",
       "0   Bought 2017 Optima Hybrid in November 17. It w...     value for money   \n",
       "1    You get a lot for your money and great perfor...     value for money   \n",
       "2    This car is amazing and have no complaints. Y...     value for money   \n",
       "3   At 11k now in a lease for 39 months and it onl...              issues   \n",
       "4   I've owned BMW, Lexus, Mercedes-Benz in the la...     value for money   \n",
       "5   Car does not get anywhere near advertised mile...              issues   \n",
       "6    Bought new and got an awesome deal, love the ...     value for money   \n",
       "7   I don't think KIA knows what the term hybrid m...              issues   \n",
       "8    I have sat in both the front and back seats a...  driving experience   \n",
       "9    The back seats are so laid back you cannot st...            features   \n",
       "10  Couple of things.. passenger seat is terribly ...              issues   \n",
       "11  3 times to the dealership with documented mile...              issues   \n",
       "12  25mpg in the city 33 hwy on the 2016 ex hybrid...              issues   \n",
       "13   If you are wanting a hybrid, but don't want t...     value for money   \n",
       "14  They changed the interior in the 2017. They di...              issues   \n",
       "15  Maybe it's just my car - and I know it has JD ...              issues   \n",
       "16  A really good car; had a 2017 Premium with lux...            features   \n",
       "17  As my lease on my 2015 Chevy Malibu was almost...     value for money   \n",
       "18  I've owned 3 lexus suv's and 1 sedan. The kia ...     value for money   \n",
       "19   Drive the limited trim first.  Get to know th...            features   \n",
       "\n",
       "   sentiment  \n",
       "0   POSITIVE  \n",
       "1   POSITIVE  \n",
       "2   POSITIVE  \n",
       "3   NEGATIVE  \n",
       "4   POSITIVE  \n",
       "5   NEGATIVE  \n",
       "6   POSITIVE  \n",
       "7   NEGATIVE  \n",
       "8   POSITIVE  \n",
       "9   POSITIVE  \n",
       "10  NEGATIVE  \n",
       "11  NEGATIVE  \n",
       "12  NEGATIVE  \n",
       "13  POSITIVE  \n",
       "14  NEGATIVE  \n",
       "15  NEGATIVE  \n",
       "16  POSITIVE  \n",
       "17  POSITIVE  \n",
       "18  POSITIVE  \n",
       "19  POSITIVE  "
      ]
     },
     "execution_count": 18,
     "metadata": {},
     "output_type": "execute_result"
    }
   ],
   "source": [
    "df.head(20)"
   ]
  },
  {
   "cell_type": "code",
   "execution_count": 20,
   "metadata": {},
   "outputs": [
    {
     "data": {
      "image/png": "[encoded data removed]",
      "text/plain": [
       "<Figure size 800x600 with 1 Axes>"
      ]
     },
     "metadata": {},
     "output_type": "display_data"
    }
   ],
   "source": [
    "sentiment_counts = df['sentiment'].value_counts()\n",
    "plt.figure(figsize=(8, 6))\n",
    "sentiment_counts.plot(kind='bar', color=['green', 'red'])\n",
    "plt.title('Sentiment Distribution of Reviews')\n",
    "plt.xlabel('Sentiment')\n",
    "plt.ylabel('Frequency')\n",
    "plt.xticks(rotation=0)\n",
    "plt.show()"
   ]
  },
  {
   "cell_type": "code",
   "execution_count": 24,
   "metadata": {},
   "outputs": [
    {
     "data": {
      "image/png": "[encoded data removed]",
      "text/plain": [
       "<Figure size 800x600 with 1 Axes>"
      ]
     },
     "metadata": {},
     "output_type": "display_data"
    }
   ],
   "source": [
    "category_counts = df['talks_about'].value_counts()\n",
    "plt.figure(figsize=(8, 6))\n",
    "category_counts.plot(kind='bar', color='skyblue')\n",
    "plt.title('Distribution of Review Classes')\n",
    "plt.xlabel('Review Class')\n",
    "plt.ylabel('Frequency')\n",
    "plt.xticks(rotation=45)\n",
    "plt.show()"
   ]
  },
  {
   "cell_type": "code",
   "execution_count": 25,
   "metadata": {},
   "outputs": [],
   "source": [
    "df.to_csv(\"ml_car_reviews.csv\", index=False)"
   ]
  }
 ],
 "metadata": {
  "kernelspec": {
   "display_name": "base",
   "language": "python",
   "name": "python3"
  },
  "language_info": {
   "codemirror_mode": {
    "name": "ipython",
    "version": 3
   },
   "file_extension": ".py",
   "mimetype": "text/x-python",
   "name": "python",
   "nbconvert_exporter": "python",
   "pygments_lexer": "ipython3",
   "version": "3.12.4"
  }
 },
 "nbformat": 4,
 "nbformat_minor": 2
}
